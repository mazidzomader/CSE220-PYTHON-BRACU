{
  "cells": [
    {
      "cell_type": "markdown",
      "source": [
        "\n",
        "<a href=\"https://colab.research.google.com/github/mazidzomader/CSE220-PYTHON/blob/main/CSE220%20LAB%2003%20-%20Doubly%20Linked%20List/LAB%2003%20Solutions.ipynb#scrollTo=gXjj5ZdaP7Db\" target=\"_parent\">\n",
        "    <img src=\"https://colab.research.google.com/assets/colab-badge.svg\" alt=\"Open In Colab\"/>\n",
        "</a>\n"
      ],
      "metadata": {
        "id": "gXjj5ZdaP7Db"
      }
    },
    {
      "cell_type": "code",
      "execution_count": null,
      "metadata": {
        "colab": {
          "base_uri": "https://localhost:8080/"
        },
        "id": "Pp1R95Pe7ID2",
        "outputId": "0ddc12fd-6d24-4b30-a472-1269b5f3e129"
      },
      "outputs": [
        {
          "name": "stdout",
          "output_type": "stream",
          "text": [
            "Defaulting to user installation because normal site-packages is not writeable\n",
            "Requirement already satisfied: fhm-unittest in c:\\users\\mazid zomader\\appdata\\local\\packages\\pythonsoftwarefoundation.python.3.12_qbz5n2kfra8p0\\localcache\\local-packages\\python312\\site-packages (1.0.1)\n"
          ]
        },
        {
          "name": "stderr",
          "output_type": "stream",
          "text": [
            "\n",
            "[notice] A new release of pip is available: 24.2 -> 24.3.1\n",
            "[notice] To update, run: C:\\Users\\MAZID ZOMADER\\AppData\\Local\\Microsoft\\WindowsApps\\PythonSoftwareFoundation.Python.3.12_qbz5n2kfra8p0\\python.exe -m pip install --upgrade pip\n",
            "\n",
            "[notice] A new release of pip is available: 24.2 -> 24.3.1\n",
            "[notice] To update, run: C:\\Users\\MAZID ZOMADER\\AppData\\Local\\Microsoft\\WindowsApps\\PythonSoftwareFoundation.Python.3.12_qbz5n2kfra8p0\\python.exe -m pip install --upgrade pip\n",
            "C:\\Users\\MAZID ZOMADER\\AppData\\Local\\Packages\\PythonSoftwareFoundation.Python.3.12_qbz5n2kfra8p0\\LocalCache\\local-packages\\Python312\\site-packages\\fuzzywuzzy\\fuzz.py:11: UserWarning: Using slow pure-python SequenceMatcher. Install python-Levenshtein to remove this warning\n",
            "  warnings.warn('Using slow pure-python SequenceMatcher. Install python-Levenshtein to remove this warning')\n"
          ]
        },
        {
          "name": "stdout",
          "output_type": "stream",
          "text": [
            "Defaulting to user installation because normal site-packages is not writeable\n",
            "Requirement already satisfied: fuzzywuzzy in c:\\users\\mazid zomader\\appdata\\local\\packages\\pythonsoftwarefoundation.python.3.12_qbz5n2kfra8p0\\localcache\\local-packages\\python312\\site-packages (0.18.0)\n"
          ]
        }
      ],
      "source": [
        "# You must run this cell to install dependency\n",
        "! pip3 install fhm-unittest\n",
        "! pip3 install fuzzywuzzy\n",
        "import fhm_unittest as unittest\n",
        "import numpy as np"
      ]
    },
    {
      "cell_type": "markdown",
      "metadata": {
        "id": "A1zD8GyBKEdA"
      },
      "source": [
        "**Assignment Part 1: Doubly Linked List**"
      ]
    },
    {
      "cell_type": "markdown",
      "metadata": {
        "id": "z4q4a-vSNoII"
      },
      "source": [
        "For Assignment Part 1, you should write your full code in the following cells along with your driver codes on your own."
      ]
    },
    {
      "cell_type": "code",
      "execution_count": null,
      "metadata": {
        "id": "itoWpG7oNziA"
      },
      "outputs": [],
      "source": [
        "#Assignment Part 1\n",
        "\n",
        "class Patient:\n",
        "  #write a constructor\n",
        "  def __init__(self, id, name, age, blood, next = None, prev = None ) :\n",
        "    self.id = id\n",
        "    self.name = name\n",
        "    self.age = age\n",
        "    self.bgroup = blood\n",
        "    self.prev = prev\n",
        "    self.next = next\n"
      ]
    },
    {
      "cell_type": "code",
      "execution_count": null,
      "metadata": {
        "id": "dNx7zTJ1OZNv"
      },
      "outputs": [],
      "source": [
        "class WRM:\n",
        "  #write a constructor\n",
        "  def __init__(self ):\n",
        "    self.head=Patient(None,None,None,None,None,None)\n",
        "    self.head.next=self.head\n",
        "    self.head.prev=self.head\n",
        "\n",
        "  def registerPatient(self,id, name, age, bloodgroup):\n",
        "    #To Do\n",
        "    new = Patient(id, name, age, bloodgroup)\n",
        "    self.head.prev.next = new\n",
        "    new.prev = self.head.prev\n",
        "    new.next = self.head\n",
        "    self.head.prev = new\n",
        "  def servePatient(self):\n",
        "    #To Do\n",
        "    serve = self.head.next\n",
        "    print(f\"{serve.name} is served\")\n",
        "    self.head.next = serve.next\n",
        "    serve.next.prev = self.head\n",
        "  def showAllPatient(self):\n",
        "    #To Do\n",
        "    current = self.head.next\n",
        "    while current != self.head :\n",
        "        print(f\"ID: {current.id}\\nName: {current.name}\\nAge: {current.age}\\nBlood Group: {current.bgroup}\\n============================\")\n",
        "        current = current.next\n",
        "  def canDoctorGoHome(self):\n",
        "    #To Do\n",
        "    if self.head.next == self.head and self.head.prev == self.head :\n",
        "        return True\n",
        "    return False\n",
        "  def cancelAll(self):\n",
        "    #To Do\n",
        "    self.head.next = self.head\n",
        "    self.head.prev = self.head\n",
        "    print(\"All Patient Cancenlled\")\n",
        "  def ReverseTheLine(self):\n",
        "    #To Do\n",
        "    current = self.head\n",
        "    while True:\n",
        "        current.next, current.prev = current.prev, current.next\n",
        "        current = current.prev\n",
        "        if current == self.head:\n",
        "            break\n"
      ]
    },
    {
      "cell_type": "code",
      "execution_count": null,
      "metadata": {
        "colab": {
          "base_uri": "https://localhost:8080/"
        },
        "id": "jKhbn1LAPfjr",
        "outputId": "ec505c68-d71c-40ff-bfb9-76bd8716a807"
      },
      "outputs": [
        {
          "name": "stdout",
          "output_type": "stream",
          "text": [
            "**Welcome to Waiting Room Management System**\n",
            "**Choose an Option**\n",
            "1. RegisterPatient()\n",
            "2. ServePatient()\n",
            "3. CancelAll()\n",
            "4. CanDoctorGoHome()\n",
            "5. ShowAllPatient()\n",
            "6. ReversePatientQueue()\n",
            "7. Exit\n",
            "=======================\n",
            "Executing registering Patient...\n",
            "Successfully registering Patient...\n",
            "Successful\n",
            "**Choose an Option**\n",
            "1. RegisterPatient()\n",
            "2. ServePatient()\n",
            "3. CancelAll()\n",
            "4. CanDoctorGoHome()\n",
            "5. ShowAllPatient()\n",
            "6. ReversePatientQueue()\n",
            "7. Exit\n",
            "=======================\n",
            "Executing registering Patient...\n",
            "Successfully registering Patient...\n",
            "Successful\n",
            "**Choose an Option**\n",
            "1. RegisterPatient()\n",
            "2. ServePatient()\n",
            "3. CancelAll()\n",
            "4. CanDoctorGoHome()\n",
            "5. ShowAllPatient()\n",
            "6. ReversePatientQueue()\n",
            "7. Exit\n",
            "=======================\n",
            "Executing registering Patient...\n",
            "Successfully registering Patient...\n",
            "Successful\n",
            "**Choose an Option**\n",
            "1. RegisterPatient()\n",
            "2. ServePatient()\n",
            "3. CancelAll()\n",
            "4. CanDoctorGoHome()\n",
            "5. ShowAllPatient()\n",
            "6. ReversePatientQueue()\n",
            "7. Exit\n",
            "=======================\n",
            "Showing Patient(s) info\n",
            "ID: 101\n",
            "Name: Mazid\n",
            "Age: 18\n",
            "Blood Group: O+\n",
            "============================\n",
            "ID: 102\n",
            "Name: Zomader\n",
            "Age: 19\n",
            "Blood Group: AB+\n",
            "============================\n",
            "ID: 103\n",
            "Name: Abdullah\n",
            "Age: 20\n",
            "Blood Group: A+\n",
            "============================\n",
            "**Choose an Option**\n",
            "1. RegisterPatient()\n",
            "2. ServePatient()\n",
            "3. CancelAll()\n",
            "4. CanDoctorGoHome()\n",
            "5. ShowAllPatient()\n",
            "6. ReversePatientQueue()\n",
            "7. Exit\n",
            "=======================\n",
            "Revering Patient Queue...\n",
            "Reversed Successful !!\n",
            "**Choose an Option**\n",
            "1. RegisterPatient()\n",
            "2. ServePatient()\n",
            "3. CancelAll()\n",
            "4. CanDoctorGoHome()\n",
            "5. ShowAllPatient()\n",
            "6. ReversePatientQueue()\n",
            "7. Exit\n",
            "=======================\n",
            "Showing Patient(s) info\n",
            "ID: 103\n",
            "Name: Abdullah\n",
            "Age: 20\n",
            "Blood Group: A+\n",
            "============================\n",
            "ID: 102\n",
            "Name: Zomader\n",
            "Age: 19\n",
            "Blood Group: AB+\n",
            "============================\n",
            "ID: 101\n",
            "Name: Mazid\n",
            "Age: 18\n",
            "Blood Group: O+\n",
            "============================\n",
            "**Choose an Option**\n",
            "1. RegisterPatient()\n",
            "2. ServePatient()\n",
            "3. CancelAll()\n",
            "4. CanDoctorGoHome()\n",
            "5. ShowAllPatient()\n",
            "6. ReversePatientQueue()\n",
            "7. Exit\n",
            "=======================\n",
            "Abdullah is served\n",
            "**Choose an Option**\n",
            "1. RegisterPatient()\n",
            "2. ServePatient()\n",
            "3. CancelAll()\n",
            "4. CanDoctorGoHome()\n",
            "5. ShowAllPatient()\n",
            "6. ReversePatientQueue()\n",
            "7. Exit\n",
            "=======================\n",
            "No. There are patient(s) in line\n",
            "**Choose an Option**\n",
            "1. RegisterPatient()\n",
            "2. ServePatient()\n",
            "3. CancelAll()\n",
            "4. CanDoctorGoHome()\n",
            "5. ShowAllPatient()\n",
            "6. ReversePatientQueue()\n",
            "7. Exit\n",
            "=======================\n",
            "Cancelled All Reveservation\n",
            "All Patient Cancenlled\n",
            "**Choose an Option**\n",
            "1. RegisterPatient()\n",
            "2. ServePatient()\n",
            "3. CancelAll()\n",
            "4. CanDoctorGoHome()\n",
            "5. ShowAllPatient()\n",
            "6. ReversePatientQueue()\n",
            "7. Exit\n",
            "=======================\n",
            "Yess!! Doctor can go home.\n",
            "**Choose an Option**\n",
            "1. RegisterPatient()\n",
            "2. ServePatient()\n",
            "3. CancelAll()\n",
            "4. CanDoctorGoHome()\n",
            "5. ShowAllPatient()\n",
            "6. ReversePatientQueue()\n",
            "7. Exit\n",
            "=======================\n",
            "Exiting...\n"
          ]
        }
      ],
      "source": [
        "#Write a Tester Code in this cell\n",
        "print(\"**Welcome to Waiting Room Management System**\")\n",
        "wrm = WRM()\n",
        "while True :\n",
        "    print(\"**Choose an Option**\")\n",
        "    print(\"1. RegisterPatient()\\n2. ServePatient()\\n3. CancelAll()\\n4. CanDoctorGoHome()\\n5. ShowAllPatient()\\n6. ReversePatientQueue()\\n7. Exit\\n=======================\")\n",
        "    x = int(input(\"Enter your choice: \"))\n",
        "    if x == 1 :\n",
        "        print(\"Executing registering Patient...\")\n",
        "        id = int(input(\"Enter ID: \"))\n",
        "        name = input(\"Enter Name: \")\n",
        "        age = int(input(\"Enter age: \"))\n",
        "        bgrp = input(\"Enter Blood Group: \")\n",
        "        print(\"Successfully registering Patient...\")\n",
        "        print(\"Successful\")\n",
        "        wrm.registerPatient(id, name, age, bgrp)\n",
        "    elif x == 2 :\n",
        "        wrm.servePatient()\n",
        "    elif x == 3 :\n",
        "        print(\"Cancelled All Reveservation\")\n",
        "        wrm.cancelAll()\n",
        "    elif x == 4 :\n",
        "        if wrm.canDoctorGoHome() :\n",
        "            print(\"Yess!! Doctor can go home.\")\n",
        "        else :\n",
        "            print(\"No. There are patient(s) in line\")\n",
        "    elif x == 5 :\n",
        "        print(\"Showing Patient(s) info\")\n",
        "        wrm.showAllPatient()\n",
        "    elif x == 6 :\n",
        "        print(\"Revering Patient Queue...\")\n",
        "        wrm.ReverseTheLine()\n",
        "        print(\"Reversed Successful !!\")\n",
        "    else :\n",
        "        print(\"Exiting...\")\n",
        "        break\n"
      ]
    },
    {
      "cell_type": "markdown",
      "metadata": {
        "id": "CJWd_j6YEnPn"
      },
      "source": [
        "**Assignment Part 2: Stack**\n",
        "\n",
        "Linked List based Stack is implemented in the following cell."
      ]
    },
    {
      "cell_type": "code",
      "execution_count": null,
      "metadata": {
        "id": "KHLhs5x0D-O6"
      },
      "outputs": [],
      "source": [
        "class Node:\n",
        "  def __init__(self,elem=None,next=None):\n",
        "    self.elem = elem\n",
        "    self.next = next\n",
        "\n",
        "class Stack:\n",
        "  def __init__(self):\n",
        "    self.__top = None\n",
        "\n",
        "  def push(self,elem):\n",
        "    nn = Node(elem,self.__top)\n",
        "    self.__top = nn\n",
        "\n",
        "  def pop(self):\n",
        "    if self.__top == None:\n",
        "      #print('Stack Underflow')\n",
        "      return None\n",
        "    e = self.__top\n",
        "    self.__top = self.__top.next\n",
        "    return e.elem\n",
        "\n",
        "  def peek(self):\n",
        "    if self.__top == None:\n",
        "      #print('Stack Underflow')\n",
        "      return None\n",
        "    return self.__top.elem\n",
        "\n",
        "  def isEmpty(self):\n",
        "    return self.__top == None\n"
      ]
    },
    {
      "cell_type": "code",
      "execution_count": null,
      "metadata": {
        "colab": {
          "base_uri": "https://localhost:8080/"
        },
        "id": "4XkuMA7gEjE7",
        "outputId": "72a8ff9b-3ebe-41df-a030-99da2b2df173"
      },
      "outputs": [
        {
          "name": "stdout",
          "output_type": "stream",
          "text": [
            "Peeked Element:  9\n",
            "Popped Element:  9\n",
            "Popped Element:  1\n",
            "Popped Element:  5\n",
            "Peeked Element:  3\n",
            "Popped Element:  3\n",
            "Popped Element:  4\n",
            "Peeked Element:  None\n",
            "Popped Element:  None\n",
            "True\n"
          ]
        }
      ],
      "source": [
        "#You can run this driver code cell to understand the methods of Stack class\n",
        "st = Stack()\n",
        "st.push(4)\n",
        "st.push(3)\n",
        "st.push(5)\n",
        "st.push(1)\n",
        "st.push(9)\n",
        "\n",
        "print('Peeked Element: ',st.peek())\n",
        "print('Popped Element: ',st.pop())\n",
        "print('Popped Element: ',st.pop())\n",
        "print('Popped Element: ',st.pop())\n",
        "print('Peeked Element: ',st.peek())\n",
        "print('Popped Element: ',st.pop())\n",
        "print('Popped Element: ',st.pop())\n",
        "print('Peeked Element: ',st.peek())\n",
        "print('Popped Element: ',st.pop())\n",
        "print(st.isEmpty())"
      ]
    },
    {
      "cell_type": "markdown",
      "metadata": {
        "id": "xrfONLccG9Gi"
      },
      "source": [
        "You can print your stack using this code segment"
      ]
    },
    {
      "cell_type": "code",
      "execution_count": null,
      "metadata": {
        "id": "S-EembO_GsWA"
      },
      "outputs": [],
      "source": [
        "def print_stack(st):\n",
        "  if st.isEmpty():\n",
        "    return\n",
        "  p = st.pop()\n",
        "  print('|',p,end=' ')\n",
        "  if p<10:\n",
        "    print(' |')\n",
        "  else:\n",
        "    print('|')\n",
        "  #print('------')\n",
        "  print_stack(st)\n",
        "  st.push(p)\n",
        "\n",
        "# st = Stack()\n",
        "# st.push(4)\n",
        "# st.push(3)\n",
        "# st.push(5)\n",
        "# st.push(1)\n",
        "# st.push(9)\n",
        "# print_stack(st)\n",
        "# print('------')"
      ]
    },
    {
      "cell_type": "markdown",
      "metadata": {
        "id": "iNMnfqqpIga2"
      },
      "source": [
        "Task 1: Diamond Count"
      ]
    },
    {
      "cell_type": "code",
      "execution_count": null,
      "metadata": {
        "colab": {
          "base_uri": "https://localhost:8080/"
        },
        "id": "GnX70OIvG_gZ",
        "outputId": "aaa491b2-638b-4e5a-f8e2-61f0d81fa5b2"
      },
      "outputs": [
        {
          "name": "stdout",
          "output_type": "stream",
          "text": [
            "Test 01\n",
            "Number of Diamonds: 3\n",
            "Accepted\n",
            "-----------------------------------------\n",
            "Test 02\n",
            "Number of Diamonds: 1\n",
            "Accepted\n",
            "-----------------------------------------\n",
            "Test 03\n",
            "Number of Diamonds: 3\n",
            "Accepted\n",
            "-----------------------------------------\n",
            "Test 04\n",
            "Number of Diamonds: 3\n",
            "Accepted\n",
            "-----------------------------------------\n"
          ]
        }
      ],
      "source": [
        "def diamond_count(stack,string):\n",
        "  #TO DO\n",
        "  count = 0\n",
        "  for i in range(len(string)) :\n",
        "    if string[i] == \"<\" :\n",
        "        stack.push(string[i])\n",
        "    elif string[i] == \">\" :\n",
        "        if stack.isEmpty() :\n",
        "            pass\n",
        "        else :\n",
        "            stack.pop()\n",
        "            count += 1\n",
        "  return count\n",
        "\n",
        "\n",
        "\n",
        "print('Test 01')\n",
        "stack = Stack()\n",
        "string = '<..><.<..>> '\n",
        "returned_value = diamond_count(stack,string)\n",
        "print(f'Number of Diamonds: {returned_value}') #This should print 3\n",
        "unittest.output_test(returned_value, 3)\n",
        "print('-----------------------------------------')\n",
        "\n",
        "\n",
        "print('Test 02')\n",
        "stack = Stack()\n",
        "string = '<<<..<......<<<<....>'\n",
        "returned_value = diamond_count(stack,string)\n",
        "print(f'Number of Diamonds: {returned_value}') #This should print 1\n",
        "unittest.output_test(returned_value, 1)\n",
        "print('-----------------------------------------')\n",
        "\n",
        "\n",
        "print('Test 03')\n",
        "stack = Stack()\n",
        "string = '>>><...<<..>>...>...>>>'\n",
        "returned_value = diamond_count(stack,string)\n",
        "print(f'Number of Diamonds: {returned_value}') #This should print 3\n",
        "unittest.output_test(returned_value, 3)\n",
        "print('-----------------------------------------')\n",
        "\n",
        "\n",
        "print('Test 04')\n",
        "stack = Stack()\n",
        "string = '>>><...<<..>>...>...>>>'\n",
        "returned_value = diamond_count(stack,string)\n",
        "print(f'Number of Diamonds: {returned_value}') #This should print 3\n",
        "unittest.output_test(returned_value, 3)\n",
        "print('-----------------------------------------')"
      ]
    },
    {
      "cell_type": "markdown",
      "metadata": {
        "id": "PhCF3SZ6IX5g"
      },
      "source": [
        "Task 2: Tower of Blocks"
      ]
    },
    {
      "cell_type": "code",
      "execution_count": null,
      "metadata": {
        "colab": {
          "base_uri": "https://localhost:8080/"
        },
        "id": "W3N4q7YAHExr",
        "outputId": "9eda744d-e81b-4348-c260-1a24fd632a11"
      },
      "outputs": [
        {
          "name": "stdout",
          "output_type": "stream",
          "text": [
            "Test 01\n",
            "Stack:\n",
            "| 5  |\n",
            "| 17 |\n",
            "| 23 |\n",
            "| 19 |\n",
            "| 4  |\n",
            "------\n",
            "After Removal\n",
            "| 17 |\n",
            "| 23 |\n",
            "| 19 |\n",
            "| 4  |\n",
            "------\n",
            "\n",
            "======================================\n",
            "\n",
            "Test 02\n",
            "Stack:\n",
            "| 41 |\n",
            "| 15 |\n",
            "| 85 |\n",
            "| 73 |\n",
            "------\n",
            "After Removal\n",
            "| 15 |\n",
            "| 85 |\n",
            "| 73 |\n",
            "------\n",
            "\n",
            "======================================\n",
            "\n"
          ]
        }
      ],
      "source": [
        "def remove_block(stack, n):\n",
        "  #TO DO\n",
        "    temp = Stack()\n",
        "    count = 1\n",
        "    while count < n :\n",
        "        stack.push(stack.pop())\n",
        "        count += 1\n",
        "    stack.pop()\n",
        "    while (not temp.isEmpty()) :\n",
        "        stack.push(temp.pop())\n",
        "    # stack.display()\n",
        "\n",
        "\n",
        "print('Test 01')\n",
        "st = Stack()\n",
        "st.push(4)\n",
        "st.push(19)\n",
        "st.push(23)\n",
        "st.push(17)\n",
        "st.push(5)\n",
        "print('Stack:')\n",
        "print_stack(st)\n",
        "print('------')\n",
        "remove_block(st,2)\n",
        "print('After Removal')\n",
        "print_stack(st)\n",
        "print('------')\n",
        "\n",
        "print()\n",
        "print('======================================')\n",
        "print()\n",
        "\n",
        "print('Test 02')\n",
        "st = Stack()\n",
        "st.push(73)\n",
        "st.push(85)\n",
        "st.push(15)\n",
        "st.push(41)\n",
        "print('Stack:')\n",
        "print_stack(st)\n",
        "print('------')\n",
        "remove_block(st,3)\n",
        "print('After Removal')\n",
        "print_stack(st)\n",
        "print('------')\n",
        "\n",
        "print()\n",
        "print('======================================')\n",
        "print()"
      ]
    },
    {
      "cell_type": "markdown",
      "metadata": {
        "id": "jcngRuqUWOfl"
      },
      "source": [
        "Task 3: Stack Reverse"
      ]
    },
    {
      "cell_type": "code",
      "execution_count": null,
      "metadata": {
        "colab": {
          "base_uri": "https://localhost:8080/"
        },
        "id": "gLSgfDKPWPnP",
        "outputId": "fe6fb881-4a33-4be4-d6f5-f6639359f26e"
      },
      "outputs": [
        {
          "name": "stdout",
          "output_type": "stream",
          "text": [
            "Test 01\n",
            "Stack:\n",
            "| 50 |\n",
            "| 10 |\n",
            "| 30 |\n",
            "| 20 |\n",
            "| 20 |\n",
            "| 10 |\n",
            "| 10 |\n",
            "------\n",
            "Conditional Reversed Stack:\n",
            "| 10 |\n",
            "| 20 |\n",
            "| 30 |\n",
            "| 10 |\n",
            "| 50 |\n",
            "------\n"
          ]
        }
      ],
      "source": [
        "def conditional_reverse(stack):\n",
        "  #To Do\n",
        "    reverse = Stack()\n",
        "    while(not stack.isEmpty()):\n",
        "        if (stack.peek() != reverse.peek()):\n",
        "            reverse.push(stack.peek())\n",
        "        stack.pop()\n",
        "    return reverse\n",
        "\n",
        "print('Test 01')\n",
        "st=Stack()\n",
        "st.push(10)\n",
        "st.push(10)\n",
        "st.push(20)\n",
        "st.push(20)\n",
        "st.push(30)\n",
        "st.push(10)\n",
        "st.push(50)\n",
        "print('Stack:')\n",
        "print_stack(st)\n",
        "print('------')\n",
        "reversed_stack=conditional_reverse(st)\n",
        "print('Conditional Reversed Stack:')\n",
        "print_stack(reversed_stack) # This stack contains 50, 10, 30, 20, 10 in this order whereas top element should be 10\n",
        "print('------')"
      ]
    }
  ],
  "metadata": {
    "colab": {
      "provenance": []
    },
    "kernelspec": {
      "display_name": "Python 3",
      "name": "python3"
    },
    "language_info": {
      "codemirror_mode": {
        "name": "ipython",
        "version": 3
      },
      "file_extension": ".py",
      "mimetype": "text/x-python",
      "name": "python",
      "nbconvert_exporter": "python",
      "pygments_lexer": "ipython3",
      "version": "3.12.7"
    }
  },
  "nbformat": 4,
  "nbformat_minor": 0
}