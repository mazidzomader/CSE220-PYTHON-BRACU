{
  "cells": [
    {
      "cell_type": "markdown",
      "metadata": {
        "id": "4LYYhNdvi03h"
      },
      "source": [
        "\n",
        "\n",
        "1.   Be careful in which question you are required to change the given Linked list and where you are required to create a new one\n",
        "2.   Be careful of the first node and the last node [aka corner cases]\n",
        "3.   Do not use any other data structure other than Linked List\n",
        "\n"
      ]
    },
    {
      "cell_type": "markdown",
      "metadata": {
        "id": "v8m-0O9Pi9ET"
      },
      "source": [
        "**You must run this cell to install dependency**"
      ]
    },
    {
      "cell_type": "code",
      "execution_count": null,
      "metadata": {
        "colab": {
          "base_uri": "https://localhost:8080/"
        },
        "id": "3vZHyMlVi0cs",
        "outputId": "43e96547-a0c3-41a0-a18e-ca8ebfb37516"
      },
      "outputs": [
        {
          "name": "stdout",
          "output_type": "stream",
          "text": [
            "Defaulting to user installation because normal site-packages is not writeable\n",
            "Requirement already satisfied: fhm-unittest in c:\\users\\mazid zomader\\appdata\\local\\packages\\pythonsoftwarefoundation.python.3.12_qbz5n2kfra8p0\\localcache\\local-packages\\python312\\site-packages (1.0.1)\n"
          ]
        },
        {
          "name": "stderr",
          "output_type": "stream",
          "text": [
            "\n",
            "[notice] A new release of pip is available: 24.2 -> 24.3.1\n",
            "[notice] To update, run: C:\\Users\\MAZID ZOMADER\\AppData\\Local\\Microsoft\\WindowsApps\\PythonSoftwareFoundation.Python.3.12_qbz5n2kfra8p0\\python.exe -m pip install --upgrade pip\n"
          ]
        },
        {
          "name": "stdout",
          "output_type": "stream",
          "text": [
            "Defaulting to user installation because normal site-packages is not writeable\n",
            "Requirement already satisfied: fuzzywuzzy in c:\\users\\mazid zomader\\appdata\\local\\packages\\pythonsoftwarefoundation.python.3.12_qbz5n2kfra8p0\\localcache\\local-packages\\python312\\site-packages (0.18.0)\n"
          ]
        },
        {
          "name": "stderr",
          "output_type": "stream",
          "text": [
            "\n",
            "[notice] A new release of pip is available: 24.2 -> 24.3.1\n",
            "[notice] To update, run: C:\\Users\\MAZID ZOMADER\\AppData\\Local\\Microsoft\\WindowsApps\\PythonSoftwareFoundation.Python.3.12_qbz5n2kfra8p0\\python.exe -m pip install --upgrade pip\n"
          ]
        }
      ],
      "source": [
        "! pip3 install fhm-unittest\n",
        "! pip3 install fuzzywuzzy\n",
        "import fhm_unittest as unittest\n",
        "import numpy as np"
      ]
    },
    {
      "cell_type": "markdown",
      "metadata": {
        "id": "b7eLAb26jNlR"
      },
      "source": [
        "**You must Run this cell for your driver code to execute successfully**"
      ]
    },
    {
      "cell_type": "code",
      "execution_count": null,
      "metadata": {
        "id": "Yvtwdm02iNbm"
      },
      "outputs": [],
      "source": [
        "#Run this cell\n",
        "class Node:\n",
        "  def __init__(self,elem,next = None):\n",
        "    self.elem,self.next = elem,next\n",
        "\n",
        "def createList(arr):\n",
        "  head = Node(arr[0])\n",
        "  tail = head\n",
        "  for i in range(1,len(arr)):\n",
        "    newNode = Node(arr[i])\n",
        "    tail.next = newNode\n",
        "    tail = newNode\n",
        "  return head\n",
        "\n",
        "def printLinkedList(head):\n",
        "  temp = head\n",
        "  while temp != None:\n",
        "    if temp.next != None:\n",
        "      print(temp.elem, end = '-->')\n",
        "    else:\n",
        "      print(temp.elem)\n",
        "    temp = temp.next\n",
        "  print()\n"
      ]
    },
    {
      "cell_type": "markdown",
      "metadata": {
        "id": "YcFhPJxPjcfl"
      },
      "source": [
        "<h1 align=\"center\"><b>Task 1: Building Blocks</b></h1>"
      ]
    },
    {
      "cell_type": "code",
      "execution_count": null,
      "metadata": {
        "colab": {
          "base_uri": "https://localhost:8080/"
        },
        "id": "QU2I53-4jWSo",
        "outputId": "6454c044-78bd-4390-f23e-3fbec29a02f4"
      },
      "outputs": [
        {
          "name": "stdout",
          "output_type": "stream",
          "text": [
            "==============Test Case 1=============\n",
            "Building 1:  Red-->Green-->Yellow-->Red-->Blue-->Green\n",
            "\n",
            "Building 2:  Red-->Green-->Yellow-->Red-->Blue-->Green\n",
            "\n",
            "Similar\n",
            "Accepted\n",
            "\n",
            "==============Test Case 2=============\n",
            "Building 1:  Red-->Green-->Yellow-->Red-->Yellow-->Green\n",
            "\n",
            "Building 2:  Red-->Green-->Yellow-->Red-->Blue-->Green\n",
            "\n",
            "Not Similar\n",
            "Accepted\n",
            "\n",
            "==============Test Case 3=============\n",
            "Building 1:  Red-->Green-->Yellow-->Red-->Blue-->Green\n",
            "\n",
            "Building 2:  Red-->Green-->Yellow-->Red-->Blue-->Green-->Blue\n",
            "\n",
            "Not Similar\n",
            "Accepted\n",
            "\n",
            "==============Test Case 4=============\n",
            "Building 1:  Red-->Green-->Yellow-->Red-->Blue-->Green-->Blue\n",
            "\n",
            "Building 2:  Red-->Green-->Yellow-->Red-->Blue-->Green\n",
            "\n",
            "Not Similar\n",
            "Accepted\n",
            "\n"
          ]
        }
      ],
      "source": [
        "def check_similar(building_1, building_2):\n",
        "  #TO DO\n",
        "    temp = building_1\n",
        "    flag = True\n",
        "    while temp != None :\n",
        "        if building_1.elem == building_2.elem :\n",
        "            if (building_2.next != None and building_1.next != None) :\n",
        "                building_1 =building_1.next\n",
        "                building_2 = building_2.next\n",
        "                temp = temp.next\n",
        "            elif (building_2.next == None and building_1.next != None) or (building_1.next == None and building_2.next != None)  :\n",
        "                temp = temp.next\n",
        "                flag = False\n",
        "                break\n",
        "            else:\n",
        "                break\n",
        "\n",
        "        else :\n",
        "            flag = False\n",
        "            break\n",
        "    if flag :\n",
        "        return(\"Similar\")\n",
        "    else :\n",
        "        return(\"Not Similar\")\n",
        "\n",
        "\n",
        "\n",
        "print('==============Test Case 1=============')\n",
        "building_1 = createList(np.array(['Red', 'Green', 'Yellow', 'Red', 'Blue', 'Green']))\n",
        "building_2 = createList(np.array(['Red', 'Green', 'Yellow', 'Red', 'Blue', 'Green']))\n",
        "print('Building 1: ', end = ' ')\n",
        "printLinkedList(building_1)\n",
        "print('Building 2: ', end = ' ')\n",
        "printLinkedList(building_2)\n",
        "returned_value = check_similar(building_1, building_2)\n",
        "print(returned_value) #This should print 'Similar'\n",
        "unittest.output_test(returned_value, 'Similar')\n",
        "print()\n",
        "\n",
        "print('==============Test Case 2=============')\n",
        "building_1 = createList(np.array(['Red', 'Green', 'Yellow', 'Red', 'Yellow', 'Green']))\n",
        "building_2 = createList(np.array(['Red', 'Green', 'Yellow', 'Red', 'Blue', 'Green']))\n",
        "print('Building 1: ', end = ' ')\n",
        "printLinkedList(building_1)\n",
        "print('Building 2: ', end = ' ')\n",
        "printLinkedList(building_2)\n",
        "returned_value = check_similar(building_1, building_2)\n",
        "print(returned_value) #This should print 'Not Similar'\n",
        "unittest.output_test(returned_value, 'Not Similar')\n",
        "print()\n",
        "\n",
        "print('==============Test Case 3=============')\n",
        "building_1 = createList(np.array(['Red', 'Green', 'Yellow', 'Red', 'Blue', 'Green']))\n",
        "building_2 = createList(np.array(['Red', 'Green', 'Yellow', 'Red', 'Blue', 'Green', 'Blue']))\n",
        "print('Building 1: ', end = ' ')\n",
        "printLinkedList(building_1)\n",
        "print('Building 2: ', end = ' ')\n",
        "printLinkedList(building_2)\n",
        "returned_value = check_similar(building_1, building_2)\n",
        "print(returned_value) #This should print 'Not Similar'\n",
        "unittest.output_test(returned_value, 'Not Similar')\n",
        "print()\n",
        "\n",
        "print('==============Test Case 4=============')\n",
        "building_1 = createList(np.array(['Red', 'Green', 'Yellow', 'Red', 'Blue', 'Green', 'Blue']))\n",
        "building_2 = createList(np.array(['Red', 'Green', 'Yellow', 'Red', 'Blue', 'Green']))\n",
        "print('Building 1: ', end = ' ')\n",
        "printLinkedList(building_1)\n",
        "print('Building 2: ', end = ' ')\n",
        "printLinkedList(building_2)\n",
        "returned_value = check_similar(building_1, building_2)\n",
        "print(returned_value) #This should print 'Not Similar'\n",
        "unittest.output_test(returned_value, 'Not Similar')\n",
        "print()"
      ]
    },
    {
      "cell_type": "markdown",
      "metadata": {
        "id": "KXf5NwHJjrga"
      },
      "source": [
        "<h1 align=\"center\"><b>Task 2: Remove Compartment</b></h1>"
      ]
    },
    {
      "cell_type": "code",
      "execution_count": null,
      "metadata": {
        "colab": {
          "base_uri": "https://localhost:8080/"
        },
        "id": "RZFDGPlGkC9M",
        "outputId": "4e5eb7a4-1d7c-496b-93d2-67ca611b19a3"
      },
      "outputs": [
        {
          "name": "stdout",
          "output_type": "stream",
          "text": [
            "==============Test Case 1=============\n",
            "Original Compartment Sequence:  10-->15-->34-->41-->56-->72\n",
            "\n",
            "Changed Compartment Sequence:  10-->15-->34-->41-->72\n",
            "\n",
            "\n",
            "==============Test Case 2=============\n",
            "Original Compartment Sequence:  10-->15-->34-->41-->56-->72\n",
            "\n",
            "Changed Compartment Sequence:  10-->15-->34-->41-->56-->72\n",
            "\n",
            "\n",
            "==============Test Case 3=============\n",
            "Original Compartment Sequence:  10-->15-->34-->41-->56-->72\n",
            "\n",
            "Changed Compartment Sequence:  15-->34-->41-->56-->72\n",
            "\n",
            "\n"
          ]
        }
      ],
      "source": [
        "def remove_compartment(head,n):\n",
        "  #TO DO\n",
        "    count  = 0\n",
        "    temp = head\n",
        "    temp1 = head\n",
        "    temp2 = head\n",
        "    while temp != None :\n",
        "        count += 1\n",
        "        temp = temp.next\n",
        "    #\n",
        "    if count - n < 0 :\n",
        "        return head\n",
        "    elif count - n == 0 :\n",
        "        return head.next\n",
        "    else :\n",
        "        count1 = 0\n",
        "        while count1 != (count-n) :\n",
        "            temp2 = temp1\n",
        "            temp1 = temp1.next\n",
        "            count1 += 1\n",
        "        temp2.next = temp1.next\n",
        "        return head\n",
        "\n",
        "print('==============Test Case 1=============')\n",
        "head = createList(np.array([10,15,34,41,56,72]))\n",
        "print('Original Compartment Sequence: ', end = ' ')\n",
        "printLinkedList(head)\n",
        "head = remove_compartment(head,2)\n",
        "print('Changed Compartment Sequence: ', end = ' ')\n",
        "printLinkedList(head) #This should print 10-->15-->34-->41-->72\n",
        "print()\n",
        "print('==============Test Case 2=============')\n",
        "head = createList(np.array([10,15,34,41,56,72]))\n",
        "print('Original Compartment Sequence: ', end = ' ')\n",
        "printLinkedList(head)\n",
        "head = remove_compartment(head,7)\n",
        "print('Changed Compartment Sequence: ', end = ' ')\n",
        "printLinkedList(head) #This should print 10-->15-->34-->41-->56-->72\n",
        "print()\n",
        "print('==============Test Case 3=============')\n",
        "head = createList(np.array([10,15,34,41,56,72]))\n",
        "print('Original Compartment Sequence: ', end = ' ')\n",
        "printLinkedList(head)\n",
        "head = remove_compartment(head,6)\n",
        "print('Changed Compartment Sequence: ', end = ' ')\n",
        "printLinkedList(head) #This should print 15-->34-->41-->56-->72\n",
        "print()"
      ]
    },
    {
      "cell_type": "markdown",
      "metadata": {
        "id": "1ru-53ewkgET"
      },
      "source": [
        "<h1 align=\"center\"><b>Task 3: Assemble Conga Line </b></h1>"
      ]
    },
    {
      "cell_type": "code",
      "execution_count": null,
      "metadata": {
        "colab": {
          "base_uri": "https://localhost:8080/"
        },
        "id": "el2Iqez0kmfD",
        "outputId": "49a1b6e5-4af5-4f4a-dc8e-12498a0f1c3d"
      },
      "outputs": [
        {
          "name": "stdout",
          "output_type": "stream",
          "text": [
            "==============Test Case 1=============\n",
            "Original Conga Line:  10-->15-->34-->41-->56-->72\n",
            "\n",
            "True\n",
            "Accepted\n",
            "\n",
            "==============Test Case 2=============\n",
            "Original Conga Line:  10-->15-->44-->41-->56-->72\n",
            "\n",
            "False\n",
            "Accepted\n",
            "\n"
          ]
        }
      ],
      "source": [
        "def assemble_conga_line(conga_line):\n",
        "  #TO DO\n",
        "    temp  = conga_line\n",
        "    value = temp.next.elem\n",
        "    while temp != None :\n",
        "        if temp.elem < value :\n",
        "            temp =temp.next\n",
        "            if temp.next == None :\n",
        "                return True\n",
        "            else :\n",
        "                value= temp.next.elem\n",
        "\n",
        "        else :\n",
        "            return False\n",
        "    return True\n",
        "\n",
        "\n",
        "print('==============Test Case 1=============')\n",
        "conga_line = createList(np.array([10,15,34,41,56,72]))\n",
        "print('Original Conga Line: ', end = ' ')\n",
        "printLinkedList(conga_line)\n",
        "returned_value = assemble_conga_line(conga_line)\n",
        "print(returned_value) #This should print True\n",
        "unittest.output_test(returned_value, True)\n",
        "print()\n",
        "print('==============Test Case 2=============')\n",
        "conga_line = createList(np.array([10,15,44,41,56,72]))\n",
        "print('Original Conga Line: ', end = ' ')\n",
        "printLinkedList(conga_line)\n",
        "returned_value = assemble_conga_line(conga_line)\n",
        "print(returned_value) #This should print False\n",
        "unittest.output_test(returned_value, False)\n",
        "print()"
      ]
    },
    {
      "cell_type": "markdown",
      "metadata": {
        "id": "iD_ytSvbloPy"
      },
      "source": [
        "<h1 align=\"center\"><b>Task 4: Word Decoder</b></h1>"
      ]
    },
    {
      "cell_type": "code",
      "execution_count": null,
      "metadata": {
        "colab": {
          "base_uri": "https://localhost:8080/"
        },
        "id": "PU6PxoNllxdf",
        "outputId": "c5c42398-9b69-42f7-cd75-cda7a81af784"
      },
      "outputs": [
        {
          "name": "stdout",
          "output_type": "stream",
          "text": [
            "==============Test Case 1=============\n",
            "Encoded Word:\n",
            "B-->M-->D-->T-->N-->O-->A-->P-->S-->C\n",
            "\n",
            "Decoded Word:\n",
            "None-->C-->A-->T\n",
            "\n",
            "==============Test Case 2=============\n",
            "Encoded Word:\n",
            "Z-->O-->T-->N-->X\n",
            "\n",
            "Decoded Word:\n",
            "None-->N\n",
            "\n"
          ]
        }
      ],
      "source": [
        "def reversenode(head) :\n",
        "        current = head\n",
        "        previous = None\n",
        "        while current != None :\n",
        "             temp = current.next\n",
        "             current.next = previous\n",
        "             previous = current\n",
        "             current = temp\n",
        "\n",
        "        return previous\n",
        "def word_Decoder(head):\n",
        "    count  = 0\n",
        "    temp = head\n",
        "    while temp != None:\n",
        "        count += 1\n",
        "        temp = temp.next\n",
        "    x = 13 % count\n",
        "    index = 0\n",
        "    temp = head\n",
        "    count = 1\n",
        "    while temp!= None :\n",
        "         if index  % x == 0 :\n",
        "              if index == 0 :\n",
        "                pass\n",
        "              else :\n",
        "                if count == 1 :\n",
        "                    head = Node(temp.elem, None)\n",
        "                    tail = head\n",
        "                    count += 1\n",
        "                else :\n",
        "                    tail.next = Node(temp.elem, None)\n",
        "                    tail = tail.next\n",
        "         index += 1\n",
        "         temp = temp.next\n",
        "    dummyhead = Node(None,None)\n",
        "    dummyhead.next = reversenode(head)\n",
        "    return dummyhead\n",
        "\n",
        "\n",
        "\n",
        "#Driver Code\n",
        "print('==============Test Case 1=============')\n",
        "head = createList(np.array(['B', 'M', 'D', 'T', 'N', 'O', 'A', 'P', 'S', 'C']))\n",
        "print(\"Encoded Word:\")\n",
        "printLinkedList(head) #This should print B→M→D→T→N→O→A→P→S→C\n",
        "\n",
        "result = word_Decoder(head)\n",
        "print(\"Decoded Word:\")\n",
        "printLinkedList(result)    #This should print None→C→A→T\n",
        "\n",
        "print('==============Test Case 2=============')\n",
        "\n",
        "head = createList(np.array(['Z', 'O', 'T', 'N', 'X']))\n",
        "print(\"Encoded Word:\")\n",
        "printLinkedList(head) #This should print Z→O→T→N→X\n",
        "\n",
        "result = word_Decoder(head)\n",
        "print(\"Decoded Word:\")\n",
        "printLinkedList(result)    #This should print None→N\n",
        "\n"
      ]
    },
    {
      "cell_type": "markdown",
      "metadata": {
        "id": "KH4qPwI-nIN4"
      },
      "source": [
        "<h1 align=\"center\"><b>Task 5: Alternate Merge</b></h1>"
      ]
    },
    {
      "cell_type": "code",
      "execution_count": null,
      "metadata": {
        "colab": {
          "base_uri": "https://localhost:8080/"
        },
        "id": "0D7bZtp1nMRI",
        "outputId": "86a0e161-d40a-45f5-c026-6addae6ed16b"
      },
      "outputs": [
        {
          "name": "stdout",
          "output_type": "stream",
          "text": [
            "==============Test Case 1=============\n",
            "Linked List 1:\n",
            "1-->2-->6-->8-->11\n",
            "\n",
            "Linked List 2:\n",
            "5-->7-->3-->9-->4\n",
            "\n",
            "Merged Linked List:\n",
            "1-->5-->2-->7-->6-->3-->8-->9-->11-->4\n",
            "\n",
            "==============Test Case 2=============\n",
            "Linked List 1:\n",
            "5-->3-->2-->-4\n",
            "\n",
            "Linked List 2:\n",
            "-4-->-6-->1\n",
            "\n",
            "Merged Linked List:\n",
            "5-->-4-->3-->-6-->2-->1-->-4\n",
            "\n",
            "==============Test Case 3=============\n",
            "Linked List 1:\n",
            "4-->2-->-2-->-4\n",
            "\n",
            "Linked List 2:\n",
            "8-->6-->5-->-3\n",
            "\n",
            "Merged Linked List:\n",
            "4-->8-->2-->6-->-2-->5-->-4-->-3\n",
            "\n"
          ]
        }
      ],
      "source": [
        "def alternate_merge(head1, head2):\n",
        "  #TO DO\n",
        "    temp1 = head1\n",
        "    temp2 = head2\n",
        "    head = Node(temp1.elem, None)\n",
        "    temp1 = temp1.next\n",
        "    tail = head\n",
        "    while temp2 != None :\n",
        "        tail.next = Node(temp2.elem, None)\n",
        "        tail = tail.next\n",
        "        if temp1 == None :\n",
        "            break\n",
        "        else:\n",
        "            tail.next = Node(temp1.elem, None)\n",
        "            tail = tail.next\n",
        "        temp2 =temp2.next\n",
        "        temp1 = temp1.next\n",
        "    return head\n",
        "\n",
        "\n",
        "print('==============Test Case 1=============')\n",
        "head1 = createList(np.array([1,2,6,8,11]))\n",
        "head2 = createList(np.array([5,7,3,9,4]))\n",
        "\n",
        "print(\"Linked List 1:\")\n",
        "printLinkedList(head1)\n",
        "print(\"Linked List 2:\")\n",
        "printLinkedList(head2)\n",
        "\n",
        "head = alternate_merge(head1, head2)\n",
        "print(\"Merged Linked List:\")\n",
        "printLinkedList(head)    #This should print    1 --> 5 --> 2 --> 7 --> 6 --> 3 --> 8 --> 9 --> 11 --> 4\n",
        "\n",
        "\n",
        "print('==============Test Case 2=============')\n",
        "head1 = createList(np.array([5, 3, 2, -4]))\n",
        "head2 = createList(np.array([-4, -6, 1]))\n",
        "\n",
        "print(\"Linked List 1:\")\n",
        "printLinkedList(head1)\n",
        "print(\"Linked List 2:\")\n",
        "printLinkedList(head2)\n",
        "\n",
        "head = alternate_merge(head1, head2)\n",
        "print(\"Merged Linked List:\")\n",
        "printLinkedList(head)    #This should print    5 → -4 -> 3 → -6 -> 2 -> 1 -> -4\n",
        "\n",
        "\n",
        "print('==============Test Case 3=============')\n",
        "head1 = createList(np.array([4, 2, -2, -4]))\n",
        "head2 = createList(np.array([8, 6, 5, -3]))\n",
        "\n",
        "print(\"Linked List 1:\")\n",
        "printLinkedList(head1)\n",
        "print(\"Linked List 2:\")\n",
        "printLinkedList(head2)\n",
        "\n",
        "head = alternate_merge(head1, head2)\n",
        "print(\"Merged Linked List:\")\n",
        "printLinkedList(head)    #This should print   4-> 8 → 2-> 6 → -2 → 5 → -4 -> -3\n"
      ]
    },
    {
      "cell_type": "markdown",
      "metadata": {
        "id": "g8b2lKE5o4HE"
      },
      "source": [
        "<h1 align=\"center\"><b> Task 6: Sum of Nodes</b></h1>"
      ]
    },
    {
      "cell_type": "code",
      "execution_count": null,
      "metadata": {
        "colab": {
          "base_uri": "https://localhost:8080/"
        },
        "id": "AeUE5H0so6oP",
        "outputId": "57da125d-11e2-4c43-d32d-99ec4eaa9552"
      },
      "outputs": [
        {
          "name": "stdout",
          "output_type": "stream",
          "text": [
            "==============Test Case 1=============\n",
            "Sum of Nodes: 4\n",
            "Accepted\n",
            "\n"
          ]
        }
      ],
      "source": [
        "def sum_dist(head, arr):\n",
        "  #TO DO\n",
        "    sum  = 0\n",
        "    for index in range(len(arr)) :\n",
        "        count = 0\n",
        "        temp = head\n",
        "        while count!= arr[index] :\n",
        "            if temp == None :\n",
        "                break\n",
        "            else :\n",
        "                count += 1\n",
        "                temp = temp.next\n",
        "        if temp != None :\n",
        "            sum += temp.elem\n",
        "            # print(temp.data)\n",
        "    return sum\n",
        "\n",
        "\n",
        "\n",
        "\n",
        "print('==============Test Case 1=============')\n",
        "LL1 = createList(np.array([10,16,-5,9,3,4]))\n",
        "dist = np.array([2,0,5,2,8])\n",
        "returned_value = sum_dist(LL1, dist)\n",
        "print(f'Sum of Nodes: {returned_value}') #This should print Sum of Nodes: 4\n",
        "unittest.output_test(returned_value, 4)\n",
        "print()"
      ]
    },
    {
      "cell_type": "markdown",
      "metadata": {
        "id": "pNihvj0mqZGx"
      },
      "source": [
        "<h1 align=\"center\"><b>Bonus Task: ID Generator</b></h1>"
      ]
    },
    {
      "cell_type": "code",
      "execution_count": null,
      "metadata": {
        "colab": {
          "base_uri": "https://localhost:8080/"
        },
        "id": "RxtRlCVCqcHV",
        "outputId": "7c138350-beab-4f51-a0ff-597517502a5d"
      },
      "outputs": [
        {
          "name": "stdout",
          "output_type": "stream",
          "text": [
            "==============Test Case 1=============\n",
            "Linked List 1:\n",
            "0-->3-->2-->2\n",
            "\n",
            "Linked List 2:\n",
            "5-->2-->2-->1\n",
            "\n",
            "Linked List 3:\n",
            "4-->3-->2-->1\n",
            "\n",
            "New ID:\n",
            "2-->2-->3-->0-->9-->5-->4-->2\n",
            "\n",
            "==============Test Case 2=============\n",
            "Linked List 1:\n",
            "0-->3-->9-->1\n",
            "\n",
            "Linked List 2:\n",
            "3-->6-->5-->7\n",
            "\n",
            "Linked List 3:\n",
            "2-->4-->3-->8\n",
            "\n",
            "New ID:\n",
            "1-->9-->3-->0-->5-->0-->8-->5\n",
            "\n"
          ]
        }
      ],
      "source": [
        "def reversenode(head) :\n",
        "        current = head\n",
        "        previous = None\n",
        "        while current != None :\n",
        "             temp = current.next\n",
        "             current.next = previous\n",
        "             previous = current\n",
        "             current = temp\n",
        "\n",
        "        return previous\n",
        "def idGenerator(head1, head2, head3):\n",
        "  #TO DO\n",
        "    a = head2.elem+head3.elem\n",
        "    if a>= 10 :\n",
        "        head = Node(a%10, None)\n",
        "    else :\n",
        "        head = Node(a, None)\n",
        "    tail = head\n",
        "    head2 = head2.next\n",
        "    head3 = head3.next\n",
        "    while head2 != None :\n",
        "        a = head2.elem+head3.elem\n",
        "        if a>= 10 :\n",
        "            tail.next = Node(a%10, None)\n",
        "            tail = tail.next\n",
        "        else :\n",
        "            tail.next = Node(a, None)\n",
        "            tail = tail.next\n",
        "        head2 = head2.next\n",
        "        head3 = head3.next\n",
        "    return_head = reversenode(head1)\n",
        "    while head1.next != None :\n",
        "        head1 = head1.next\n",
        "    head1.next = head\n",
        "    return return_head\n",
        "\n",
        "\n",
        "print('==============Test Case 1=============')\n",
        "head1 = createList(np.array([0,3,2,2]))\n",
        "head2 = createList(np.array([5,2,2,1]))\n",
        "head3 = createList(np.array([4,3,2,1]))\n",
        "\n",
        "print(\"Linked List 1:\")\n",
        "printLinkedList(head1)\n",
        "print(\"Linked List 2:\")\n",
        "printLinkedList(head2)\n",
        "print(\"Linked List 3:\")\n",
        "printLinkedList(head3)\n",
        "\n",
        "result = idGenerator(head1, head2, head3)\n",
        "print(\"New ID:\")\n",
        "printLinkedList(result)    #This should print  2 → 2 → 3 → 0 → 9 → 5 → 4 → 2\n",
        "\n",
        "\n",
        "print('==============Test Case 2=============')\n",
        "head1 = createList(np.array([0,3,9,1]))\n",
        "head2 = createList(np.array([3,6,5,7]))\n",
        "head3 = createList(np.array([2,4,3,8]))\n",
        "\n",
        "print(\"Linked List 1:\")\n",
        "printLinkedList(head1)\n",
        "print(\"Linked List 2:\")\n",
        "printLinkedList(head2)\n",
        "print(\"Linked List 3:\")\n",
        "printLinkedList(head3)\n",
        "\n",
        "result = idGenerator(head1, head2, head3)\n",
        "print(\"New ID:\")\n",
        "printLinkedList(result)    #This should print 1 → 9 → 3 → 0 → 5 → 0 → 8 → 5"
      ]
    }
  ],
  "metadata": {
    "colab": {
      "provenance": []
    },
    "kernelspec": {
      "display_name": "Python 3",
      "name": "python3"
    },
    "language_info": {
      "codemirror_mode": {
        "name": "ipython",
        "version": 3
      },
      "file_extension": ".py",
      "mimetype": "text/x-python",
      "name": "python",
      "nbconvert_exporter": "python",
      "pygments_lexer": "ipython3",
      "version": "3.12.7"
    }
  },
  "nbformat": 4,
  "nbformat_minor": 0
}