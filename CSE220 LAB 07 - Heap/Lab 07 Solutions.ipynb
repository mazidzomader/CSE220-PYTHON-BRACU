{
  "cells": [
    {
      "cell_type": "markdown",
      "metadata": {
        "id": "x8VMCKrQEM2W"
      },
      "source": [
        "<h1 align='center'><b>Run The following cell</b></h1>"
      ]
    },
    {
      "cell_type": "code",
      "execution_count": null,
      "metadata": {
        "colab": {
          "base_uri": "https://localhost:8080/"
        },
        "id": "aX6w60xAEM2X",
        "outputId": "2a311685-8034-47b4-e033-60ff4675c887"
      },
      "outputs": [
        {
          "output_type": "stream",
          "name": "stdout",
          "text": [
            "Collecting fhm-unittest\n",
            "  Downloading fhm_unittest-1.0.1-py3-none-any.whl.metadata (1.9 kB)\n",
            "Downloading fhm_unittest-1.0.1-py3-none-any.whl (2.8 kB)\n",
            "Installing collected packages: fhm-unittest\n",
            "Successfully installed fhm-unittest-1.0.1\n",
            "Collecting fuzzywuzzy\n",
            "  Downloading fuzzywuzzy-0.18.0-py2.py3-none-any.whl.metadata (4.9 kB)\n",
            "Downloading fuzzywuzzy-0.18.0-py2.py3-none-any.whl (18 kB)\n",
            "Installing collected packages: fuzzywuzzy\n",
            "Successfully installed fuzzywuzzy-0.18.0\n"
          ]
        },
        {
          "output_type": "stream",
          "name": "stderr",
          "text": [
            "/usr/local/lib/python3.10/dist-packages/fuzzywuzzy/fuzz.py:11: UserWarning: Using slow pure-python SequenceMatcher. Install python-Levenshtein to remove this warning\n",
            "  warnings.warn('Using slow pure-python SequenceMatcher. Install python-Levenshtein to remove this warning')\n"
          ]
        }
      ],
      "source": [
        "! pip3 install fhm-unittest\n",
        "! pip3 install fuzzywuzzy\n",
        "import fhm_unittest as unittest\n",
        "import numpy as np\n",
        "# Heap Node class. Copied from previous lab files\n",
        "class HeapNode :\n",
        "    def __init__(self, val) :\n",
        "        self.elem = val\n",
        "        self.left, self.right = None, None\n",
        "# Tree Contructor. Copied from previous lab files\n",
        "def tree_construction(arr, i = 1):\n",
        "    if i>=len(arr) or arr[i] == None:\n",
        "        return None\n",
        "    p = HeapNode(arr[i])\n",
        "    p.left = tree_construction(arr, 2*i)\n",
        "    p.right = tree_construction(arr, 2*i+1)\n",
        "    return p\n",
        "# Print the heap. Copied from stack overflow. Modified by me.\n",
        "def PrintHeap(root):\n",
        "    def height(root):\n",
        "        return 1 + max(height(root.left), height(root.right)) if root else -1\n",
        "    nlevels = height(root)\n",
        "    width =  pow(2,nlevels+1)\n",
        "\n",
        "    q=[(root,0,width,'c')]\n",
        "    levels=[]\n",
        "\n",
        "    while(q):\n",
        "        node,level,x,align= q.pop(0)\n",
        "        if node:\n",
        "            if len(levels)<=level:\n",
        "                levels.append([])\n",
        "\n",
        "            levels[level].append([node,level,x,align])\n",
        "            seg= width//(pow(2,level+1))\n",
        "            q.append((node.left,level+1,x-seg,'l'))\n",
        "            q.append((node.right,level+1,x+seg,'r'))\n",
        "\n",
        "    for i,l in enumerate(levels):\n",
        "        pre=0\n",
        "        preline=0\n",
        "        linestr=''\n",
        "        pstr=''\n",
        "        seg= width//(pow(2,i+1))\n",
        "        for n in l:\n",
        "            valstr= str(n[0].elem)\n",
        "            if n[3]=='r':\n",
        "                linestr+=' '*(n[2]-preline-1-seg-seg//2)+ '¯'*(seg +seg//2)+'\\\\'\n",
        "                preline = n[2]\n",
        "            if n[3]=='l':\n",
        "               linestr+=' '*(n[2]-preline-1)+'/' + '¯'*(seg+seg//2)\n",
        "               preline = n[2] + seg + seg//2\n",
        "            pstr+=' '*(n[2]-pre-len(valstr))+valstr #correct the potition acording to the number size\n",
        "            pre = n[2]\n",
        "        print(linestr)\n",
        "        print(pstr)\n",
        "    print()\n",
        "\n",
        "# Max returning function. I don't know who wrote it. Maybe me\n",
        "def max(x, y) :\n",
        "    if x > y :\n",
        "        return x\n",
        "    return y\n",
        "# Minimum returning function. I don't know who wrote it either. Maybe me\n",
        "def min(x, y) :\n",
        "    if x < y :\n",
        "        return x\n",
        "    return y\n",
        "# Will copy the array.\n",
        "def copy_array(arr1, arr2=None) :\n",
        "    for index in range(len(arr1)) :\n",
        "        arr2[index] = arr1[index]\n",
        "    return arr2\n",
        "# Will increase size of the array. Also copy the elements\n",
        "def increase_array_size(arr, increase = 1) :\n",
        "    arr2 = np.zeros(arr.size+increase, dtype=int)\n",
        "    return copy_array(arr,arr2)\n"
      ]
    },
    {
      "cell_type": "markdown",
      "metadata": {
        "id": "ad5khfY4EM2Z"
      },
      "source": [
        "<h1 align='center'><b>Task 01</b></h1>"
      ]
    },
    {
      "cell_type": "code",
      "execution_count": null,
      "metadata": {
        "colab": {
          "base_uri": "https://localhost:8080/"
        },
        "id": "3dx5ylv2EM2Z",
        "outputId": "66e1584a-dcd8-4b82-da82-f4d9a2b74b39"
      },
      "outputs": [
        {
          "output_type": "stream",
          "name": "stdout",
          "text": [
            "\n",
            "              -1\n",
            "       /¯¯¯¯¯¯   ¯¯¯¯¯¯\\\n",
            "       0               6\n",
            "   /¯¯¯ ¯¯¯\\       /¯¯¯ ¯¯¯\\\n",
            "   1       3      10       8\n",
            " /¯ ¯\\   /¯\n",
            " 5   2   7\n",
            "\n",
            "After Sorting: [-1  0  1  2  3  5  6  7  8 10]\n"
          ]
        }
      ],
      "source": [
        "class MinHeap:\n",
        "    def __init__(self, heap_magnitude) :\n",
        "        self.__heap_array = np.array([None]*(heap_magnitude+1))\n",
        "        self.__heap_magnitude = 0\n",
        "    def get_values(self):\n",
        "        return self.__heap_array[0:self.__heap_magnitude+1]\n",
        "    def insert(self, value) :\n",
        "        self.__heap_magnitude += 1\n",
        "        self.__heap_array[self.__heap_magnitude] = value\n",
        "        self.swim(self.__heap_magnitude)\n",
        "    def swim(self, index) :\n",
        "        if index <= 1 :\n",
        "            return\n",
        "        else :\n",
        "            parent = self.__heap_array[index//2]\n",
        "            if parent < self.__heap_array[index] :\n",
        "                return\n",
        "            else :\n",
        "                self.__heap_array[index//2], self.__heap_array[index] = self.__heap_array[index], self.__heap_array[index//2] # Swapping\n",
        "                self.swim(index//2) # Recursive call\n",
        "    def extractMin(self):\n",
        "        if self.__heap_magnitude == 0 :\n",
        "            return\n",
        "        else :\n",
        "            self.__heap_array[1], self.__heap_array[self.__heap_magnitude] = self.__heap_array[self.__heap_magnitude], self.__heap_array[1]\n",
        "            self.__heap_magnitude -= 1\n",
        "            self.sink(1)\n",
        "    def sink(self, index) :\n",
        "        left_child_index = 2 * index\n",
        "        right_child_index = 2 * index + 1\n",
        "        if left_child_index > self.__heap_magnitude:\n",
        "            return\n",
        "        if right_child_index > self.__heap_magnitude :\n",
        "            if self.__heap_array[index] > self.__heap_array[left_child_index]:\n",
        "                self.__heap_array[left_child_index], self.__heap_array[index] = self.__heap_array[index], self.__heap_array[left_child_index]\n",
        "                self.sink(left_child_index)\n",
        "            return\n",
        "        if self.__heap_array[index] <= min(self.__heap_array[left_child_index],self.__heap_array[right_child_index]):\n",
        "            return\n",
        "\n",
        "        if self.__heap_array[left_child_index] < self.__heap_array[right_child_index] :\n",
        "            self.__heap_array[left_child_index], self.__heap_array[index] = self.__heap_array[index], self.__heap_array[left_child_index]\n",
        "            self.sink(left_child_index)\n",
        "        else :\n",
        "            self.__heap_array[right_child_index], self.__heap_array[index] = self.__heap_array[index], self.__heap_array[right_child_index]\n",
        "            self.sink(right_child_index)\n",
        "    def getMin(self) :\n",
        "        return self.__heap_array[1]\n",
        "    def sort(self) :\n",
        "        arr = np.zeros(self.__heap_magnitude, dtype=int)\n",
        "        for index in range(arr.size) :\n",
        "            arr[index] = self.getMin()\n",
        "            self.extractMin()\n",
        "        return arr\n",
        "\n",
        "# Driver Code\n",
        "minHeap = MinHeap(10)\n",
        "minHeap.insert(5)\n",
        "minHeap.insert(2)\n",
        "minHeap.insert(6)\n",
        "minHeap.insert(3)\n",
        "minHeap.insert(1)\n",
        "minHeap.insert(10)\n",
        "minHeap.insert(8)\n",
        "minHeap.insert(-1)\n",
        "minHeap.insert(0)\n",
        "minHeap.insert(7)\n",
        "PrintHeap(tree_construction(minHeap.get_values()))\n",
        "print(\"After Sorting:\",minHeap.sort()) # extractMin() was called inside there"
      ]
    },
    {
      "cell_type": "markdown",
      "metadata": {
        "id": "qRmQbz3gEM2Z"
      },
      "source": [
        "<h1 align='center'><b>Task 02</b></h1>"
      ]
    },
    {
      "cell_type": "code",
      "execution_count": null,
      "metadata": {
        "colab": {
          "base_uri": "https://localhost:8080/"
        },
        "id": "CVcat8GBEM2a",
        "outputId": "9b83af68-e0a0-4d3a-c297-043a43a146a0"
      },
      "outputs": [
        {
          "output_type": "stream",
          "name": "stdout",
          "text": [
            "\n",
            "              10\n",
            "       /¯¯¯¯¯¯   ¯¯¯¯¯¯\\\n",
            "       7               8\n",
            "   /¯¯¯ ¯¯¯\\       /¯¯¯ ¯¯¯\\\n",
            "   2       3       5       6\n",
            " /¯ ¯\\   /¯\n",
            "-1   0   1\n",
            "\n",
            "\n",
            "After Sorting: [10  8  7  6  5  3  2  1  0 -1] in Descending order\n",
            "After Sorting: [-1  0  1  2  3  5  6  7  8 10] in Ascending order\n"
          ]
        }
      ],
      "source": [
        "class MaxHeap:\n",
        "    def __init__(self, heap_magnitude):\n",
        "        self.__heap_array = np.array([None]*(heap_magnitude+1))\n",
        "        self.__heap_magnitude = 0\n",
        "    def get_values(self) :\n",
        "        return self.__heap_array[0:self.__heap_magnitude+1]\n",
        "    def insert(self, value) :\n",
        "        self.__heap_magnitude += 1\n",
        "        self.__heap_array[self.__heap_magnitude] = value\n",
        "        self.swim(self.__heap_magnitude)\n",
        "    def swim(self, index) :\n",
        "        if index <= 1 :\n",
        "            return\n",
        "        else :\n",
        "            parent = self.__heap_array[index//2]\n",
        "            if parent > self.__heap_array[index] :\n",
        "                return\n",
        "            else :\n",
        "                self.__heap_array[index//2], self.__heap_array[index] = self.__heap_array[index], self.__heap_array[index//2] # Swapping\n",
        "                self.swim(index//2) # Recursive call\n",
        "    def extractMax(self) :\n",
        "        if self.__heap_magnitude == 1 :\n",
        "            return\n",
        "        else :\n",
        "            self.__heap_array[1], self.__heap_array[self.__heap_magnitude] = self.__heap_array[self.__heap_magnitude], self.__heap_array[1]\n",
        "            self.__heap_magnitude -= 1\n",
        "            self.sink(1)\n",
        "    def sink(self, index) :\n",
        "        left_child = 2 * index\n",
        "        right_child = 2 * index + 1\n",
        "        if left_child > self.__heap_magnitude:\n",
        "            return\n",
        "        if right_child > self.__heap_magnitude :\n",
        "            if self.__heap_array[index] < self.__heap_array[left_child]:\n",
        "                self.__heap_array[left_child], self.__heap_array[index] = self.__heap_array[index], self.__heap_array[left_child]\n",
        "                self.sink(left_child)\n",
        "            return\n",
        "        if self.__heap_array[index] >= max(self.__heap_array[left_child],self.__heap_array[right_child]):\n",
        "            return\n",
        "\n",
        "        if self.__heap_array[left_child] > self.__heap_array[right_child] :\n",
        "            self.__heap_array[left_child], self.__heap_array[index] = self.__heap_array[index], self.__heap_array[left_child]\n",
        "            self.sink(left_child)\n",
        "        else :\n",
        "            self.__heap_array[right_child], self.__heap_array[index] = self.__heap_array[index], self.__heap_array[right_child]\n",
        "            self.sink(right_child)\n",
        "    def getMax(self) :\n",
        "        return self.__heap_array[1]\n",
        "    def sort(self) :\n",
        "        arr = np.zeros(self.__heap_magnitude, dtype=int)\n",
        "        for index in range(arr.size) :\n",
        "            arr[index] = self.getMax()\n",
        "            self.extractMax()\n",
        "        return arr\n",
        "    @staticmethod\n",
        "    def reverse_array(arr) :\n",
        "        return arr[::-1]\n",
        "maxHeap = MaxHeap(10)\n",
        "maxHeap.insert(5)\n",
        "maxHeap.insert(2)\n",
        "maxHeap.insert(6)\n",
        "maxHeap.insert(3)\n",
        "maxHeap.insert(1)\n",
        "maxHeap.insert(10)\n",
        "maxHeap.insert(8)\n",
        "maxHeap.insert(-1)\n",
        "maxHeap.insert(0)\n",
        "maxHeap.insert(7)\n",
        "PrintHeap(tree_construction(maxHeap.get_values()))\n",
        "descending_sorted = maxHeap.sort()\n",
        "print(\"\\nAfter Sorting:\",descending_sorted,\"in Descending order\")\n",
        "ascending_sorted = maxHeap.reverse_array(descending_sorted)\n",
        "print(\"After Sorting:\",ascending_sorted,\"in Ascending order\")"
      ]
    },
    {
      "cell_type": "markdown",
      "metadata": {
        "id": "ioi24LwREM2a"
      },
      "source": [
        "<h1 align='center'><b>Task 03</b></h1>"
      ]
    },
    {
      "cell_type": "code",
      "execution_count": null,
      "metadata": {
        "colab": {
          "base_uri": "https://localhost:8080/"
        },
        "id": "ah1aMNarEM2a",
        "outputId": "3d3f7d48-e1cd-4107-c349-cd4997f7f906"
      },
      "outputs": [
        {
          "output_type": "stream",
          "name": "stdout",
          "text": [
            "\n",
            "       2\n",
            "   /¯¯¯ ¯¯¯\\\n",
            "   4       7\n",
            " /¯\n",
            " 7\n",
            "\n"
          ]
        }
      ],
      "source": [
        "def motherboard_machine(arr,num) :\n",
        "    min_heap = MinHeap(num)\n",
        "    for index in range(num) :\n",
        "        min_heap.insert(0)\n",
        "    for index in range(arr.size) :\n",
        "        temp = min_heap.getMin()\n",
        "        min_heap.extractMin()\n",
        "        min_heap.insert(temp+arr[index])\n",
        "    return min_heap\n",
        "# Driver Code\n",
        "PrintHeap(tree_construction(motherboard_machine(np.array([2, 4, 7, 1, 6]), 4).get_values())) ## You can create a function that will receive tasks and m and return the final heap for simplicity. It is written in question"
      ]
    },
    {
      "cell_type": "markdown",
      "metadata": {
        "id": "WvRKFBQPEM2a"
      },
      "source": [
        "<h1 align='center'><b>Task 04</b></h1>"
      ]
    },
    {
      "cell_type": "code",
      "execution_count": null,
      "metadata": {
        "colab": {
          "base_uri": "https://localhost:8080/"
        },
        "id": "M4R4dtLcEM2a",
        "outputId": "66d99f4b-419d-413c-da50-155737aefe5e"
      },
      "outputs": [
        {
          "output_type": "stream",
          "name": "stdout",
          "text": [
            "\n",
            "      10\n",
            "   /¯¯¯ ¯¯¯\\\n",
            "   8       7\n",
            " /¯ ¯\\   /¯\n",
            " 4   6   2\n",
            "\n",
            "Output: [10  8  7]\n"
          ]
        }
      ],
      "source": [
        "def top_k_largest_elements(arr, k) :\n",
        "    returning_array = np.zeros(k, dtype=int)\n",
        "    max_heap = MaxHeap(arr.size)\n",
        "    for index in range(arr.size) :\n",
        "        max_heap.insert(arr[index])\n",
        "    PrintHeap(tree_construction(max_heap.get_values()))\n",
        "\n",
        "    for index in range(k) :\n",
        "        returning_array[index] = max_heap.getMax()\n",
        "        max_heap.extractMax()\n",
        "    return returning_array\n",
        "# Driver Code\n",
        "print(\"Output:\",top_k_largest_elements(np.array([4,10,2,8,6,7]),3))"
      ]
    }
  ],
  "metadata": {
    "kernelspec": {
      "display_name": "Python 3",
      "language": "python",
      "name": "python3"
    },
    "language_info": {
      "codemirror_mode": {
        "name": "ipython",
        "version": 3
      },
      "file_extension": ".py",
      "mimetype": "text/x-python",
      "name": "python",
      "nbconvert_exporter": "python",
      "pygments_lexer": "ipython3",
      "version": "3.12.8"
    },
    "colab": {
      "provenance": []
    }
  },
  "nbformat": 4,
  "nbformat_minor": 0
}