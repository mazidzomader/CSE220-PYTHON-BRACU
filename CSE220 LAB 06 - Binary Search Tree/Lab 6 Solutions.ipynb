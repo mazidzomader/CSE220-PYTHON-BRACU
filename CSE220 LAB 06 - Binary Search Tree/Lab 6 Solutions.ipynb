{
  "cells": [
    {
      "cell_type": "code",
      "execution_count": null,
      "metadata": {
        "id": "D6vC520OPeTa"
      },
      "outputs": [],
      "source": [
        "class BTNode:\n",
        "  def __init__(self, elem):\n",
        "    self.elem = elem\n",
        "    self.right = None\n",
        "    self.left = None"
      ]
    },
    {
      "cell_type": "code",
      "execution_count": null,
      "metadata": {
        "id": "UDTKlm4-PfNM"
      },
      "outputs": [],
      "source": [
        "def inorder(root):\n",
        "  if root == None:\n",
        "    return\n",
        "\n",
        "  inorder(root.left)\n",
        "  print(root.elem, end = ' ')\n",
        "  inorder(root.right)"
      ]
    },
    {
      "cell_type": "code",
      "execution_count": null,
      "metadata": {
        "id": "UfJhdQPZRFr1"
      },
      "outputs": [],
      "source": [
        "def PrintTree(root):\n",
        "    def height(root):\n",
        "        return 1 + max(height(root.left), height(root.right)) if root else -1\n",
        "    nlevels = height(root)\n",
        "    width =  pow(2,nlevels+1)\n",
        "\n",
        "    q=[(root,0,width,'c')]\n",
        "    levels=[]\n",
        "\n",
        "    while(q):\n",
        "        node,level,x,align= q.pop(0)\n",
        "        if node:\n",
        "            if len(levels)<=level:\n",
        "                levels.append([])\n",
        "\n",
        "            levels[level].append([node,level,x,align])\n",
        "            seg= width//(pow(2,level+1))\n",
        "            q.append((node.left,level+1,x-seg,'l'))\n",
        "            q.append((node.right,level+1,x+seg,'r'))\n",
        "\n",
        "    for i,l in enumerate(levels):\n",
        "        pre=0\n",
        "        preline=0\n",
        "        linestr=''\n",
        "        pstr=''\n",
        "        seg= width//(pow(2,i+1))\n",
        "        for n in l:\n",
        "            valstr= str(n[0].elem)\n",
        "            if n[3]=='r':\n",
        "                linestr+=' '*(n[2]-preline-1-seg-seg//2)+ '¯'*(seg +seg//2)+'\\\\'\n",
        "                preline = n[2]\n",
        "            if n[3]=='l':\n",
        "               linestr+=' '*(n[2]-preline-1)+'/' + '¯'*(seg+seg//2)\n",
        "               preline = n[2] + seg + seg//2\n",
        "            pstr+=' '*(n[2]-pre-len(valstr))+valstr #correct the potition acording to the number size\n",
        "            pre = n[2]\n",
        "        print(linestr)\n",
        "        print(pstr)"
      ]
    },
    {
      "cell_type": "code",
      "execution_count": null,
      "metadata": {
        "id": "Rtc22SPzPgzM",
        "outputId": "9381a7f3-873d-4d51-8960-f11587d80e80"
      },
      "outputs": [
        {
          "name": "stdout",
          "output_type": "stream",
          "text": [
            "H D B E A I F J C G k \n",
            "               A\n",
            "       /¯¯¯¯¯¯   ¯¯¯¯¯¯\\\n",
            "       B               C\n",
            "   /¯¯¯ ¯¯¯\\       /¯¯¯ ¯¯¯\\\n",
            "   D       E       F       G\n",
            " /¯              /¯ ¯\\      ¯\\\n",
            " H               I   J       k\n"
          ]
        }
      ],
      "source": [
        "def tree_construction(arr, i = 1):\n",
        "  if i>=len(arr) or arr[i] == None:\n",
        "    return None\n",
        "  p = BTNode(arr[i])\n",
        "  p.left = tree_construction(arr, 2*i)\n",
        "  p.right = tree_construction(arr, 2*i+1)\n",
        "  return p\n",
        "\n",
        "\n",
        "root2 = tree_construction([None, 'A', 'B', 'C', 'D', 'E', 'F', 'G', 'H', None, None, None, 'I', 'J', None, 'k'])\n",
        "inorder(root2)\n",
        "PrintTree(root2)"
      ]
    },
    {
      "cell_type": "markdown",
      "metadata": {
        "id": "S2nNCJNhPqGq"
      },
      "source": [
        "Task 1"
      ]
    },
    {
      "cell_type": "code",
      "execution_count": null,
      "metadata": {
        "id": "zbBHU3FoPieb",
        "outputId": "642fe4ae-2c59-4470-a8d9-8ca647b4ead7"
      },
      "outputs": [
        {
          "name": "stdout",
          "output_type": "stream",
          "text": [
            "\n",
            "              15\n",
            "       /¯¯¯¯¯¯   ¯¯¯¯¯¯\\\n",
            "      10              25\n",
            "   /¯¯¯ ¯¯¯\\       /¯¯¯ ¯¯¯\\\n",
            "   8      12      20      30\n",
            " /¯ ¯\\           /¯ ¯\\\n",
            " 6   9          18  22\n",
            "\n",
            "10\n",
            "15\n",
            "20\n",
            "25\n",
            "10\n"
          ]
        }
      ],
      "source": [
        "def LCA(root, x, y):\n",
        "   while root != None :\n",
        "      if root.elem < x and root.elem < y :\n",
        "         root = root.right\n",
        "      elif root.elem > x and root.elem > y :\n",
        "         root = root.left\n",
        "      else :\n",
        "         break\n",
        "   return root.elem\n",
        "  #To Do\n",
        "\n",
        "\n",
        "#DRIVER CODE\n",
        "root = BTNode(15)\n",
        "node1 = BTNode(10)\n",
        "node2 = BTNode(25)\n",
        "node3 = BTNode(8)\n",
        "node4 = BTNode(12)\n",
        "node5 = BTNode(6)\n",
        "node6 = BTNode(9)\n",
        "node7 = BTNode(20)\n",
        "node8 = BTNode(30)\n",
        "node10 = BTNode(18)\n",
        "node11 = BTNode(22)\n",
        "root.left = node1\n",
        "root.right = node2\n",
        "node1.left = node3\n",
        "node1.right = node4\n",
        "node3.left = node5\n",
        "node3.right = node6\n",
        "node2.left = node7\n",
        "node2.right = node8\n",
        "node7.left = node10\n",
        "node7.right = node11\n",
        "PrintTree(root)\n",
        "print()\n",
        "print(LCA(root, 6, 12))\n",
        "print(LCA(root, 20, 6))\n",
        "print(LCA(root, 18, 22))\n",
        "print(LCA(root, 20, 25))\n",
        "print(LCA(root, 10, 12))\n",
        "\n"
      ]
    },
    {
      "cell_type": "markdown",
      "metadata": {
        "id": "c-TBf3m0PrtK"
      },
      "source": [
        "Task 2"
      ]
    },
    {
      "cell_type": "code",
      "execution_count": null,
      "metadata": {
        "id": "i6l-v7k1eE9A",
        "outputId": "718511ac-e471-4012-e74e-c35d4d8b14f2"
      },
      "outputs": [
        {
          "name": "stdout",
          "output_type": "stream",
          "text": [
            "\n",
            "      30\n",
            "   /¯¯¯ ¯¯¯\\\n",
            "  10      40\n",
            " /¯ ¯\\   /¯ ¯\\\n",
            " 3  15  35  55\n",
            "\n",
            "[30, 10, 15]\n",
            "No Path Found\n"
          ]
        }
      ],
      "source": [
        "def find_Path(root, key):\n",
        "    if root == None :\n",
        "        return False\n",
        "    if key == root.elem :\n",
        "        return True\n",
        "    if key < root.elem :\n",
        "        return True and find_Path(root.left, key)\n",
        "    else :\n",
        "        return True and find_Path(root.right, key)\n",
        "\n",
        "def find_path(root, key) :\n",
        "    x = find_Path(root, key)\n",
        "    if not x :\n",
        "        return \"No Path Found\"\n",
        "    def path_finder(root, key, path = []) :\n",
        "        if root.elem == key :\n",
        "            path.append(root.elem)\n",
        "            return path\n",
        "        elif key < root.elem :\n",
        "            path.append(root.elem)\n",
        "            path_finder(root.left, key, path)\n",
        "        else :\n",
        "            path.append(root.elem)\n",
        "            path_finder(root.right, key, path)\n",
        "        return path\n",
        "    return path_finder(root, key)\n",
        "\n",
        "#DRIVER CODE\n",
        "#Write by yourself from the given tree\n",
        "root = BTNode(30)\n",
        "node1 = BTNode(10)\n",
        "node2 = BTNode(3)\n",
        "node3 = BTNode(15)\n",
        "node4 = BTNode(40)\n",
        "node5 = BTNode(35)\n",
        "node6 = BTNode(55)\n",
        "\n",
        "root.left = node1\n",
        "root.right = node4\n",
        "node1.left = node2\n",
        "node1.right = node3\n",
        "node4.left = node5\n",
        "node4.right = node6\n",
        "PrintTree(root)\n",
        "print()\n",
        "print(find_path(root,15))\n",
        "#This should print [30,10,15]\n",
        "\n",
        "print(find_path(root,50))\n",
        "#This should print No Path Found"
      ]
    },
    {
      "cell_type": "markdown",
      "metadata": {
        "id": "7r3lH3aWPz2d"
      },
      "source": [
        "Task 3"
      ]
    },
    {
      "cell_type": "code",
      "execution_count": null,
      "metadata": {
        "id": "5eT12zYb8zm7",
        "outputId": "82eeb8a9-64fa-4432-b12a-4fc7dfe50b40"
      },
      "outputs": [
        {
          "name": "stdout",
          "output_type": "stream",
          "text": [
            "\n",
            "              30\n",
            "       /¯¯¯¯¯¯   ¯¯¯¯¯¯\\\n",
            "      10              40\n",
            "   /¯¯¯ ¯¯¯\\       /¯¯¯ ¯¯¯\\\n",
            "   3      15      35      55\n",
            " /¯                 ¯\\\n",
            " 2                  36\n",
            "\n",
            "Sum of leaf nodes: 108\n"
          ]
        }
      ],
      "source": [
        "def sum_of_leaves(root, sum):\n",
        "    if root == None :\n",
        "        return 0\n",
        "    if root.left == None and root.right == None :\n",
        "        return sum + root.elem\n",
        "    else :\n",
        "        return sum_of_leaves(root.left, sum) + sum_of_leaves(root.right, sum)\n",
        "  #To Do\n",
        "\n",
        "\n",
        "#DRIVER CODE\n",
        "#Write by yourself from the given tree\n",
        "root = BTNode(30)\n",
        "node1 = BTNode(10)\n",
        "node2 = BTNode(3)\n",
        "node3 = BTNode(15)\n",
        "node4 = BTNode(2)\n",
        "node5 = BTNode(40)\n",
        "node6 = BTNode(35)\n",
        "node7 = BTNode(55)\n",
        "node8 = BTNode(36)\n",
        "\n",
        "root.left = node1\n",
        "root.right = node5\n",
        "node1.left = node2\n",
        "node1.right = node3\n",
        "node2.left = node4\n",
        "node5.left = node6\n",
        "node5.right = node7\n",
        "node6.right = node8\n",
        "PrintTree(root)\n",
        "print(\"\\nSum of leaf nodes:\",sum_of_leaves(root, 0))"
      ]
    },
    {
      "cell_type": "markdown",
      "metadata": {
        "id": "5KeA-BoC3uOo"
      },
      "source": [
        "Task 4"
      ]
    },
    {
      "cell_type": "code",
      "execution_count": null,
      "metadata": {
        "id": "zFwP64v4Pu6d",
        "outputId": "77a769b5-57e4-4e5e-81cf-378f0319eb2a"
      },
      "outputs": [
        {
          "name": "stdout",
          "output_type": "stream",
          "text": [
            "\n",
            "              20\n",
            "       /¯¯¯¯¯¯   ¯¯¯¯¯¯\\\n",
            "       8              22\n",
            "   /¯¯¯ ¯¯¯\\\n",
            "   4      12\n",
            "         /¯ ¯\\\n",
            "        10  14\n",
            "Given Tree Inorder Traversal:  4 8 10 12 14 20 22 \n",
            "Inorder predecessor of node 20: 14\n",
            "Inorder predecessor of node 14: 12\n",
            "Inorder predecessor of node 10: 8\n"
          ]
        }
      ],
      "source": [
        "def inorder_predecessor(root, x):\n",
        "  #To Do\n",
        "  if x.left != None :\n",
        "    y = x.left\n",
        "    def maximum(root) :\n",
        "      if root.right == None:\n",
        "        return root\n",
        "      return maximum(root.right)\n",
        "    return maximum(y)\n",
        "  else :\n",
        "    return_node = None\n",
        "    while x.elem  != root.elem :\n",
        "      if x.elem > root.elem :\n",
        "        return_node = root\n",
        "        root = root.right\n",
        "      else :\n",
        "        root = root.left\n",
        "    return return_node\n",
        "\n",
        "\n",
        "\n",
        "\n",
        "#DRIVER CODE\n",
        "root = BTNode(20)\n",
        "n1 = BTNode(8)\n",
        "n2 = BTNode(22)\n",
        "n3 = BTNode(4)\n",
        "n4 = BTNode(12)\n",
        "n5 = BTNode(10)\n",
        "n6 = BTNode(14)\n",
        "\n",
        "root.left = n1\n",
        "root.right = n2\n",
        "\n",
        "n1.left = n3\n",
        "n1.right = n4\n",
        "\n",
        "n4.left = n5\n",
        "n4.right = n6\n",
        "PrintTree(root)\n",
        "print('Given Tree Inorder Traversal: ', end = ' ')\n",
        "inorder(root) #Given Tree Inorder Traversal:  4 8 10 12 14 20 22\n",
        "print()\n",
        "\n",
        "x = root\n",
        "print(f'Inorder predecessor of node {x.elem}: {inorder_predecessor(root, x).elem}') #Inorder predecessor of node 20: 14\n",
        "x = root.left.right.right\n",
        "print(f'Inorder predecessor of node {x.elem}: {inorder_predecessor(root, x).elem}') #Inorder predecessor of node 14: 12\n",
        "x = root.left.right.left\n",
        "print(f'Inorder predecessor of node {x.elem}: {inorder_predecessor(root, x).elem}') #Inorder predecessor of node 10: 8"
      ]
    }
  ],
  "metadata": {
    "colab": {
      "provenance": []
    },
    "kernelspec": {
      "display_name": "Python 3",
      "name": "python3"
    },
    "language_info": {
      "codemirror_mode": {
        "name": "ipython",
        "version": 3
      },
      "file_extension": ".py",
      "mimetype": "text/x-python",
      "name": "python",
      "nbconvert_exporter": "python",
      "pygments_lexer": "ipython3",
      "version": "3.12.8"
    }
  },
  "nbformat": 4,
  "nbformat_minor": 0
}