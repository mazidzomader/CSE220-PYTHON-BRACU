{
 "cells": [
  {
   "cell_type": "code",
   "execution_count": 3,
   "metadata": {},
   "outputs": [
    {
     "name": "stdout",
     "output_type": "stream",
     "text": [
      "Defaulting to user installation because normal site-packages is not writeable\n",
      "Requirement already satisfied: fhm-unittest in c:\\users\\mazid zomader\\appdata\\local\\packages\\pythonsoftwarefoundation.python.3.12_qbz5n2kfra8p0\\localcache\\local-packages\\python312\\site-packages (1.0.1)\n",
      "Defaulting to user installation because normal site-packages is not writeable\n",
      "Requirement already satisfied: fuzzywuzzy in c:\\users\\mazid zomader\\appdata\\local\\packages\\pythonsoftwarefoundation.python.3.12_qbz5n2kfra8p0\\localcache\\local-packages\\python312\\site-packages (0.18.0)\n"
     ]
    },
    {
     "name": "stderr",
     "output_type": "stream",
     "text": [
      "C:\\Users\\MAZID ZOMADER\\AppData\\Local\\Packages\\PythonSoftwareFoundation.Python.3.12_qbz5n2kfra8p0\\LocalCache\\local-packages\\Python312\\site-packages\\fuzzywuzzy\\fuzz.py:11: UserWarning: Using slow pure-python SequenceMatcher. Install python-Levenshtein to remove this warning\n",
      "  warnings.warn('Using slow pure-python SequenceMatcher. Install python-Levenshtein to remove this warning')\n"
     ]
    }
   ],
   "source": [
    "! pip3 install fhm-unittest\n",
    "! pip3 install fuzzywuzzy\n",
    "import fhm_unittest as unittest\n",
    "import numpy as np"
   ]
  },
  {
   "cell_type": "markdown",
   "metadata": {},
   "source": [
    "# Run the cell below\n"
   ]
  },
  {
   "cell_type": "code",
   "execution_count": 4,
   "metadata": {},
   "outputs": [],
   "source": [
    "def print_matrix(m):\n",
    "  row,col = m.shape\n",
    "  for i in range(row):\n",
    "    c = 1\n",
    "    print('|', end='')\n",
    "    for j in range(col):\n",
    "      c += 1\n",
    "      if(len(str(m[i][j])) == 1):\n",
    "        print(' ',m[i][j], end = '  |')\n",
    "        c += 6\n",
    "      else:\n",
    "        print(' ',m[i][j], end = ' |')\n",
    "        c += 6\n",
    "    print()\n",
    "    print('-'*(c-col))\n",
    "class BTNode:\n",
    "  def __init__(self, elem):\n",
    "    self.elem = elem\n",
    "    self.right = None\n",
    "    self.left = None\n",
    "def inorder(root):\n",
    "  if root == None:\n",
    "    return\n",
    "\n",
    "  inorder(root.left)\n",
    "  print(root.elem, end = ' ')\n",
    "  inorder(root.right)\n",
    "def reverse_inorder(root):\n",
    "  if root == None:\n",
    "    return\n",
    "\n",
    "  reverse_inorder(root.right)\n",
    "  print(root.elem, end = ' ')\n",
    "  reverse_inorder(root.left)\n",
    "def PrintTree(root):\n",
    "    def height(root):\n",
    "        return 1 + max(height(root.left), height(root.right)) if root else -1\n",
    "    nlevels = height(root)\n",
    "    width =  pow(2,nlevels+1)\n",
    "\n",
    "    q=[(root,0,width,'c')]\n",
    "    levels=[]\n",
    "\n",
    "    while(q):\n",
    "        node,level,x,align= q.pop(0)\n",
    "        if node:\n",
    "            if len(levels)<=level:\n",
    "                levels.append([])\n",
    "\n",
    "            levels[level].append([node,level,x,align])\n",
    "            seg= width//(pow(2,level+1))\n",
    "            q.append((node.left,level+1,x-seg,'l'))\n",
    "            q.append((node.right,level+1,x+seg,'r'))\n",
    "\n",
    "    for i,l in enumerate(levels):\n",
    "        pre=0\n",
    "        preline=0\n",
    "        linestr=''\n",
    "        pstr=''\n",
    "        seg= width//(pow(2,i+1))\n",
    "        for n in l:\n",
    "            valstr= str(n[0].elem)\n",
    "            if n[3]=='r':\n",
    "                linestr+=' '*(n[2]-preline-1-seg-seg//2)+ '¯'*(seg +seg//2)+'\\\\'\n",
    "                preline = n[2]\n",
    "            if n[3]=='l':\n",
    "               linestr+=' '*(n[2]-preline-1)+'/' + '¯'*(seg+seg//2)\n",
    "               preline = n[2] + seg + seg//2\n",
    "            pstr+=' '*(n[2]-pre-len(valstr))+valstr #correct the potition acording to the number size\n",
    "            pre = n[2]\n",
    "        print(linestr)\n",
    "        print(pstr)\n",
    "    print()\n",
    "def tree_construction(arr, i = 1):\n",
    "  if i>=len(arr) or arr[i] == None:\n",
    "    return None\n",
    "  p = BTNode(arr[i])\n",
    "  p.left = tree_construction(arr, 2*i)\n",
    "  p.right = tree_construction(arr, 2*i+1)\n",
    "  return p\n",
    "class Node:\n",
    "  def __init__(self,elem,next = None):\n",
    "    self.elem,self.next = elem,next\n",
    "\n",
    "def createList(arr):\n",
    "  head = Node(arr[0])\n",
    "  tail = head\n",
    "  for i in range(1,len(arr)):\n",
    "    newNode = Node(arr[i])\n",
    "    tail.next = newNode\n",
    "    tail = newNode\n",
    "  return head\n",
    "\n",
    "def printLinkedList(head):\n",
    "  temp = head\n",
    "  while temp != None:\n",
    "    if temp.next != None:\n",
    "      print(temp.elem, end = '-->')\n",
    "    else:\n",
    "      print(temp.elem)\n",
    "    temp = temp.next\n",
    "  print()"
   ]
  },
  {
   "cell_type": "markdown",
   "metadata": {},
   "source": [
    "<h1 align = \"center\"><b>Quiz 01   Answer 03</h1></b1>"
   ]
  },
  {
   "cell_type": "code",
   "execution_count": 5,
   "metadata": {},
   "outputs": [
    {
     "name": "stdout",
     "output_type": "stream",
     "text": [
      "[ 6 15 24]\n",
      "[ 30  70 110]\n"
     ]
    }
   ],
   "source": [
    "import numpy as np\n",
    "def transpose_sum(matrix) :\n",
    "    temp = np.zeros(matrix.shape[0], dtype = int)\n",
    "    for index in range(matrix.shape[0]) :\n",
    "        for index1 in range(matrix.shape[1]) :\n",
    "            temp[index] += matrix[index][index1]\n",
    "    return temp\n",
    "matrix = np.array([[1,2,3],[4,5,6],[7,8,9]])\n",
    "print(transpose_sum(matrix))\n",
    "matrix = np.array([[10,20],[30,40],[50,60]])\n",
    "print(transpose_sum(matrix))"
   ]
  },
  {
   "cell_type": "markdown",
   "metadata": {},
   "source": [
    "<h1 align = \"center\"><b>Quiz 02   Answer 01</h1></b1>"
   ]
  },
  {
   "cell_type": "code",
   "execution_count": 6,
   "metadata": {},
   "outputs": [],
   "source": [
    "class Node:\n",
    "  def __init__(self,elem,next = None):\n",
    "    self.elem,self.next = elem,next\n",
    "\n",
    "def createList(arr):\n",
    "  head = Node(arr[0])\n",
    "  tail = head\n",
    "  for i in range(1,len(arr)):\n",
    "    newNode = Node(arr[i])\n",
    "    tail.next = newNode\n",
    "    tail = newNode\n",
    "  return head\n",
    "\n",
    "def printLinkedList(head):\n",
    "  temp = head\n",
    "  while temp != None:\n",
    "    if temp.next != None:\n",
    "      print(temp.elem, end = '-->')\n",
    "    else:\n",
    "      print(temp.elem)\n",
    "    temp = temp.next\n",
    "  print()"
   ]
  },
  {
   "cell_type": "code",
   "execution_count": 7,
   "metadata": {},
   "outputs": [
    {
     "name": "stdout",
     "output_type": "stream",
     "text": [
      "1\n",
      "3\n",
      "5\n"
     ]
    }
   ],
   "source": [
    "def print_even_indices(head):\n",
    "    # complete this function\n",
    "    count = 1 \n",
    "    temp = head\n",
    "    while temp != None :\n",
    "        if count % 2 != 0 :\n",
    "            print(temp.elem)\n",
    "        temp = temp.next\n",
    "        count += 1\n",
    "    \n",
    "head =  createList(np.array([ 1, 2, 3, 4, 5]))\n",
    "print_even_indices(head)"
   ]
  },
  {
   "cell_type": "markdown",
   "metadata": {},
   "source": [
    "<h1 align = \"center\"><b>Quiz 02   Answer 02</h1></b1>"
   ]
  },
  {
   "cell_type": "code",
   "execution_count": 8,
   "metadata": {},
   "outputs": [
    {
     "name": "stdout",
     "output_type": "stream",
     "text": [
      "1 <--> 7 <--> 7 <--> 1\n",
      "\n"
     ]
    }
   ],
   "source": [
    "class Node:\n",
    "    def __init__(self, elem, next, prev):\n",
    "        self.elem = elem\n",
    "        self.next = next\n",
    "        self.prev = prev\n",
    "def createList(arr) :\n",
    "    head =  Node(arr[0], None, None) \n",
    "    tail = head\n",
    "    for index in range(1, arr.size) :\n",
    "        new = Node(arr[index], None, None)\n",
    "        new.prev = tail\n",
    "        tail.next = new\n",
    "        tail = new\n",
    "    return head\n",
    "def printLinkedList(head):\n",
    "  temp = head\n",
    "  while temp != None:\n",
    "    if temp.next != None:\n",
    "      print(temp.elem, end = ' <--> ')\n",
    "    else:\n",
    "      print(temp.elem)\n",
    "    temp = temp.next\n",
    "  print()\n",
    "arr = createList(np.array([1,7,7,1]))\n",
    "printLinkedList(arr)"
   ]
  },
  {
   "cell_type": "code",
   "execution_count": 9,
   "metadata": {},
   "outputs": [
    {
     "name": "stdout",
     "output_type": "stream",
     "text": [
      "==============Test Case 1=============\n",
      "1 <--> 7 <--> 7 <--> 1\n",
      "\n",
      "True\n",
      "Accepted\n",
      "==============Test Case 2=============\n",
      "1 <--> 7 <--> 4 <--> 1\n",
      "\n",
      "False\n",
      "Accepted\n"
     ]
    }
   ],
   "source": [
    "def palindrome(head) :\n",
    "    temp1 = head\n",
    "    temp2 = head\n",
    "    while temp1.next != None :\n",
    "        temp1 = temp1.next\n",
    "    while temp2 != None :\n",
    "        if temp1.elem != temp2.elem :\n",
    "            print(False)\n",
    "            return False\n",
    "        temp1 = temp1.prev\n",
    "        temp2 = temp2.next\n",
    "    print(True)\n",
    "    return True\n",
    "print('==============Test Case 1=============')    \n",
    "arr = createList(np.array([1,7,7,1]))\n",
    "printLinkedList(arr)\n",
    "unittest.output_test(palindrome(arr), True)\n",
    "print('==============Test Case 2=============')\n",
    "arr = createList(np.array([1,7,4,1]))\n",
    "printLinkedList(arr)\n",
    "unittest.output_test(palindrome(arr), False)"
   ]
  },
  {
   "cell_type": "code",
   "execution_count": 16,
   "metadata": {},
   "outputs": [
    {
     "name": "stdout",
     "output_type": "stream",
     "text": [
      "==================== Test Case 01 ====================\n",
      "\n",
      "               1\n",
      "       /¯¯¯¯¯¯   ¯¯¯¯¯¯\\\n",
      "       2               3\n",
      "   /¯¯¯ ¯¯¯\\\n",
      "   4       5\n",
      "         /¯ ¯\\\n",
      "         6   7\n",
      "\n",
      "The tree is a full binary tree\n",
      "==================== Test Case 01 ====================\n",
      "\n",
      "               1\n",
      "       /¯¯¯¯¯¯   ¯¯¯¯¯¯\\\n",
      "       2               3\n",
      "   /¯¯¯ ¯¯¯\\\n",
      "   4       5\n",
      "         /¯\n",
      "         6\n",
      "\n",
      "The tree is not a full binary tree\n"
     ]
    }
   ],
   "source": [
    "def checker(root) :\n",
    "    if (root == None) or (root.left == root.right == None) or (root.left != None and root.right != None) :\n",
    "        return True\n",
    "    return False\n",
    "def full_binary_tree(root) :\n",
    "    if root == None :\n",
    "        return True\n",
    "    return checker(root) and full_binary_tree(root.left) and full_binary_tree(root.right)\n",
    "print(\"==================== Test Case 01 ====================\")\n",
    "# Driver Code\n",
    "root = BTNode(1)\n",
    "root.right = BTNode(3)\n",
    "root.left = BTNode(2)\n",
    "\n",
    "root.left.left = BTNode(4)\n",
    "root.left.right = BTNode(5)\n",
    "root.left.right.left = BTNode(6)\n",
    "root.left.right.right = BTNode(7)\n",
    "PrintTree(root)\n",
    "if full_binary_tree(root):\n",
    "    print(\"The tree is a full binary tree\")\n",
    "else:\n",
    "    print(\"The tree is not a full binary tree\")\n",
    "print(\"==================== Test Case 01 ====================\")\n",
    "# Driver Code\n",
    "root = BTNode(1)\n",
    "root.right = BTNode(3)\n",
    "root.left = BTNode(2)\n",
    "\n",
    "root.left.left = BTNode(4)\n",
    "root.left.right = BTNode(5)\n",
    "root.left.right.left = BTNode(6)\n",
    "PrintTree(root)\n",
    "if full_binary_tree(root):\n",
    "    print(\"The tree is a full binary tree\")\n",
    "else:\n",
    "    print(\"The tree is not a full binary tree\")"
   ]
  },
  {
   "cell_type": "markdown",
   "metadata": {},
   "source": [
    "# I am too lazy to write the full code. Moreover tomorrow is exam and I do not have time to do this shit\n",
    "\n",
    "![Solution](https://i.ibb.co.com/RQz28Lj/Screenshot-2025-01-11-195115.png)\n"
   ]
  }
 ],
 "metadata": {
  "kernelspec": {
   "display_name": "Python 3",
   "language": "python",
   "name": "python3"
  },
  "language_info": {
   "codemirror_mode": {
    "name": "ipython",
    "version": 3
   },
   "file_extension": ".py",
   "mimetype": "text/x-python",
   "name": "python",
   "nbconvert_exporter": "python",
   "pygments_lexer": "ipython3",
   "version": "3.12.8"
  }
 },
 "nbformat": 4,
 "nbformat_minor": 2
}
