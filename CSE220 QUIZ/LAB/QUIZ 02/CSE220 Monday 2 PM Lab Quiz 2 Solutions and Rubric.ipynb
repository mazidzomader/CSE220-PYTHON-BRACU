{
 "cells": [
  {
   "cell_type": "code",
   "execution_count": 53,
   "metadata": {},
   "outputs": [],
   "source": [
    "# Node Class\n",
    "class Node:\n",
    "    def __init__(self, v, n):\n",
    "        self.val = v\n",
    "        self.next = n"
   ]
  },
  {
   "cell_type": "code",
   "execution_count": 54,
   "metadata": {},
   "outputs": [],
   "source": [
    "# Linked List builder\n",
    "def listBuilder(arr):\n",
    "    head = Node(arr[0], None)\n",
    "    tail = head\n",
    "    for i in range(1, len(arr)):\n",
    "        newNode = Node(arr[i], None)\n",
    "        tail.next = newNode\n",
    "        tail = tail.next\n",
    "    return head"
   ]
  },
  {
   "cell_type": "code",
   "execution_count": 55,
   "metadata": {},
   "outputs": [],
   "source": [
    "# Linked list printer\n",
    "def printList(head):\n",
    "    temp = head\n",
    "    outputString = \"\"\n",
    "    while temp is not None:\n",
    "        outputString += str(temp.val) + \" \"\n",
    "        temp = temp.next\n",
    "    outputString += str(temp)\n",
    "    outputString = \" → \".join(map(str, outputString.split()))\n",
    "    print(outputString)"
   ]
  },
  {
   "cell_type": "markdown",
   "metadata": {},
   "source": [
    "## Set(A) Solution"
   ]
  },
  {
   "cell_type": "code",
   "execution_count": 56,
   "metadata": {},
   "outputs": [],
   "source": [
    "def compressMemory(head):\n",
    "    temp = head  # Start from head\n",
    "    while temp is not None:  # Traverse list\n",
    "        temp2 = temp.next  # Pointer to next node\n",
    "        # While both current node and next node have values < 10, merge them\n",
    "        while temp2 and temp.val < 10 and temp2.val < 10:  \n",
    "            temp.val += temp2.val  # Combine values\n",
    "            temp2 = temp2.next  # Move to next node\n",
    "        temp.next = temp2  # Skip merged nodes\n",
    "        temp = temp2  # Move to next node\n",
    "    return head  # Return modified list head"
   ]
  },
  {
   "cell_type": "markdown",
   "metadata": {},
   "source": [
    "## Set(B) Solution"
   ]
  },
  {
   "cell_type": "code",
   "execution_count": 57,
   "metadata": {},
   "outputs": [],
   "source": [
    "def compressTraffic(head):\n",
    "    temp = head  # Start from head\n",
    "    while temp is not None:  # Traverse list\n",
    "        temp2 = temp.next  # Pointer to next node\n",
    "        # While both current node and next node have values < 10, merge them\n",
    "        while temp2 and temp.val < 100 and temp2.val < 100:  \n",
    "            temp.val += temp2.val  # Combine values\n",
    "            temp2 = temp2.next  # Move to next node\n",
    "        temp.next = temp2  # Skip merged nodes\n",
    "        temp = temp2  # Move to next node\n",
    "    return head  # Return modified list head"
   ]
  },
  {
   "cell_type": "code",
   "execution_count": null,
   "metadata": {},
   "outputs": [
    {
     "name": "stdout",
     "output_type": "stream",
     "text": [
      "Original List\n",
      "5 → 8 → 15 → 3 → 4 → 2 → 20 → None\n",
      "Compressed List\n",
      "13 → 15 → 9 → 20 → None\n"
     ]
    }
   ],
   "source": [
    "# Set(A) driver\n",
    "head = listBuilder([5,8,15,3,4,2,20])\n",
    "print(\"Original List\")\n",
    "printList(head)\n",
    "compressedHead = compressMemory(head)\n",
    "print(\"Compressed List\")\n",
    "printList(compressedHead)"
   ]
  },
  {
   "cell_type": "code",
   "execution_count": null,
   "metadata": {},
   "outputs": [
    {
     "name": "stdout",
     "output_type": "stream",
     "text": [
      "Original List\n",
      "50 → 40 → 20 → 150 → 5 → 3 → 200 → None\n",
      "Compressed List\n",
      "110 → 150 → 8 → 200 → None\n"
     ]
    }
   ],
   "source": [
    "# Set(B) driver code\n",
    "head = listBuilder([50, 40, 20, 150, 5, 3, 200])\n",
    "print(\"Original List\")\n",
    "printList(head)\n",
    "compressedHead = compressTraffic(head)\n",
    "print(\"Compressed List\")\n",
    "printList(compressedHead)"
   ]
  },
  {
   "cell_type": "markdown",
   "metadata": {},
   "source": [
    "## Set(A) and Set(B) rubric\n",
    "| **Step**                    | **Marks** | **Description**                                                                 |\n",
    "|-----------------------------|-----------|---------------------------------------------------------------------------------|\n",
    "| Initialization              | 1         | Initializes traversal from the head of the list.                               |\n",
    "| Outer While Loop            | 1         | Ensures traversal of the entire linked list.                                   |\n",
    "| Temporary Pointer Setup     | 2         | Sets up a secondary pointer for merging nodes.                                 |\n",
    "| Inner While Loop Condition  | 4         | Correctly identifies consecutive small nodes for merging.                      |\n",
    "| Combining Values            | 2         | Adds values of consecutive small nodes.                                        |\n",
    "| Advancing temp2 Pointer     | 1         | Moves the secondary pointer through nodes being merged.                        |\n",
    "| Updating Next Pointer       | 2         | Skips over merged nodes to maintain list structure.                            |\n",
    "| Advancing Main Pointer      | 1         | Advances the primary pointer to the next node.                     |\n",
    "| Return Statement            | 1         | Returns the modified head of the linked list.                                  |\n"
   ]
  },
  {
   "cell_type": "markdown",
   "metadata": {},
   "source": []
  }
 ],
 "metadata": {
  "kernelspec": {
   "display_name": "Python 3",
   "language": "python",
   "name": "python3"
  },
  "language_info": {
   "codemirror_mode": {
    "name": "ipython",
    "version": 3
   },
   "file_extension": ".py",
   "mimetype": "text/x-python",
   "name": "python",
   "nbconvert_exporter": "python",
   "pygments_lexer": "ipython3",
   "version": "3.10.9"
  }
 },
 "nbformat": 4,
 "nbformat_minor": 2
}
