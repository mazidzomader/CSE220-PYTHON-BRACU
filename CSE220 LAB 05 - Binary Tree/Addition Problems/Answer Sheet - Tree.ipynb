{
  "cells": [
    {
      "cell_type": "markdown",
      "metadata": {
        "id": "ZX38ECF_QheP"
      },
      "source": [
        "# Must run the cell below"
      ]
    },
    {
      "cell_type": "code",
      "execution_count": null,
      "metadata": {
        "id": "AEhLfeCrQheQ"
      },
      "outputs": [],
      "source": [
        "class BTNode:\n",
        "  def __init__(self, elem):\n",
        "    self.elem = elem\n",
        "    self.right = None\n",
        "    self.left = None\n",
        "def inorder(root):\n",
        "  if root == None:\n",
        "    return\n",
        "\n",
        "  inorder(root.left)\n",
        "  print(root.elem, end = ' ')\n",
        "  inorder(root.right)\n",
        "def PrintTree(root):\n",
        "    def height(root):\n",
        "        return 1 + max(height(root.left), height(root.right)) if root else -1\n",
        "    nlevels = height(root)\n",
        "    width =  pow(2,nlevels+1)\n",
        "\n",
        "    q=[(root,0,width,'c')]\n",
        "    levels=[]\n",
        "\n",
        "    while(q):\n",
        "        node,level,x,align= q.pop(0)\n",
        "        if node:\n",
        "            if len(levels)<=level:\n",
        "                levels.append([])\n",
        "\n",
        "            levels[level].append([node,level,x,align])\n",
        "            seg= width//(pow(2,level+1))\n",
        "            q.append((node.left,level+1,x-seg,'l'))\n",
        "            q.append((node.right,level+1,x+seg,'r'))\n",
        "\n",
        "    for i,l in enumerate(levels):\n",
        "        pre=0\n",
        "        preline=0\n",
        "        linestr=''\n",
        "        pstr=''\n",
        "        seg= width//(pow(2,i+1))\n",
        "        for n in l:\n",
        "            valstr= str(n[0].elem)\n",
        "            if n[3]=='r':\n",
        "                linestr+=' '*(n[2]-preline-1-seg-seg//2)+ '¯'*(seg +seg//2)+'\\\\'\n",
        "                preline = n[2]\n",
        "            if n[3]=='l':\n",
        "               linestr+=' '*(n[2]-preline-1)+'/' + '¯'*(seg+seg//2)\n",
        "               preline = n[2] + seg + seg//2\n",
        "            pstr+=' '*(n[2]-pre-len(valstr))+valstr #correct the potition acording to the number size\n",
        "            pre = n[2]\n",
        "        print(linestr)\n",
        "        print(pstr)\n",
        "def tree_construction(arr, i = 1):\n",
        "  if i>=len(arr) or arr[i] == None:\n",
        "    return None\n",
        "  p = BTNode(arr[i])\n",
        "  p.left = tree_construction(arr, 2*i)\n",
        "  p.right = tree_construction(arr, 2*i+1)\n",
        "  return p"
      ]
    },
    {
      "cell_type": "markdown",
      "metadata": {
        "id": "wOcwgtY3QheQ"
      },
      "source": [
        "<h1 align= 'center'>↓↓ Solutions ↓↓</h1>"
      ]
    },
    {
      "cell_type": "code",
      "execution_count": null,
      "metadata": {
        "id": "yZe5fNldQheR",
        "outputId": "3dd16048-9fd4-44bf-a658-dd91b879b788"
      },
      "outputs": [
        {
          "name": "stdout",
          "output_type": "stream",
          "text": [
            "================   Test Case 01   ================\n",
            "\n",
            "   1\n",
            " /¯ ¯\\\n",
            " 2   3\n",
            "\n",
            "   1\n",
            " /¯ ¯\\\n",
            " 2   3\n",
            "\n",
            " True\n",
            "================   Test Case 02   ================\n",
            "\n",
            "   1\n",
            " /¯ ¯\\\n",
            " 2   3\n",
            "\n",
            "   1\n",
            " /¯ ¯\\\n",
            " 3   2\n",
            "\n",
            " False\n"
          ]
        }
      ],
      "source": [
        "# Task 01\n",
        "def identical (root1, root2) :\n",
        "    if root1 == None and root2 == None :\n",
        "        return True\n",
        "    if root1 == None and root2 != None :\n",
        "        return False\n",
        "    if root1 != None and root2 == None :\n",
        "        return False\n",
        "    if root1.elem != root2.elem :\n",
        "        return False\n",
        "    return True and identical(root1.left, root2.left) and identical(root1.right, root2.right)\n",
        "print(\"================   Test Case 01   ================\")\n",
        "root1 = BTNode(1)\n",
        "root1.left = BTNode(2)\n",
        "root1.right = BTNode(3)\n",
        "root2 = BTNode(1)\n",
        "root2.left = BTNode(2)\n",
        "root2.right = BTNode(3)\n",
        "PrintTree(root1)\n",
        "PrintTree(root2)\n",
        "print(\"\\n\",identical(root1, root2))\n",
        "print(\"================   Test Case 02   ================\")\n",
        "root1 = BTNode(1)\n",
        "root1.left = BTNode(2)\n",
        "root1.right = BTNode(3)\n",
        "root2 = BTNode(1)\n",
        "root2.left = BTNode(3)\n",
        "root2.right = BTNode(2)\n",
        "PrintTree(root1)\n",
        "PrintTree(root2)\n",
        "print(\"\\n\",identical(root1, root2))"
      ]
    },
    {
      "cell_type": "code",
      "execution_count": null,
      "metadata": {
        "id": "TDrpYgPxQheR",
        "outputId": "96082f9e-9d11-4b76-aa3a-aa1d641b68af"
      },
      "outputs": [
        {
          "name": "stdout",
          "output_type": "stream",
          "text": [
            "Given Tree :\n",
            "\n",
            "      10\n",
            "   /¯¯¯ ¯¯¯\\\n",
            "  20      30\n",
            " /¯ ¯\\\n",
            "40  60\n",
            "\n",
            "Mirrored Tree : \n",
            "\n",
            "      10\n",
            "   /¯¯¯ ¯¯¯\\\n",
            "  30      20\n",
            "         /¯ ¯\\\n",
            "        60  40\n"
          ]
        }
      ],
      "source": [
        "# Task 02\n",
        "def convert_mirror(root) :\n",
        "    if root == None :\n",
        "        return root\n",
        "    root.left, root.right = root.right, root.left\n",
        "    convert_mirror(root.left)\n",
        "    convert_mirror(root.right)\n",
        "    return root\n",
        "#DRIVER CODE\n",
        "root = BTNode(10)\n",
        "n1 = BTNode(20)\n",
        "n2 = BTNode(30)\n",
        "n3 = BTNode(40)\n",
        "n4 = BTNode(60)\n",
        "\n",
        "root.left = n1\n",
        "root.right = n2\n",
        "\n",
        "n1.left = n3\n",
        "n1.right = n4\n",
        "\n",
        "print('Given Tree :')\n",
        "PrintTree(root)\n",
        "print()\n",
        "\n",
        "root2 = convert_mirror(root)\n",
        "print('Mirrored Tree : ')\n",
        "PrintTree(root)"
      ]
    },
    {
      "cell_type": "code",
      "execution_count": null,
      "metadata": {
        "id": "jGLkLPnXQheS",
        "outputId": "d58e3c5f-ba9d-4949-a391-5e6aaf4900f0"
      },
      "outputs": [
        {
          "name": "stdout",
          "output_type": "stream",
          "text": [
            "================   Test Case 01   ================\n",
            "\n",
            "       1\n",
            "   /¯¯¯\n",
            "   2\n",
            "    ¯\\\n",
            "     3\n",
            "\n",
            "0 --> Unbalanced\n",
            "================   Test Case 02   ================\n",
            "\n",
            "      10\n",
            "   /¯¯¯ ¯¯¯\\\n",
            "  20      30\n",
            " /¯ ¯\\\n",
            "40  60\n",
            "\n",
            "1 --> Balanced\n"
          ]
        }
      ],
      "source": [
        "# Task 03\n",
        "def findHeight(root) :\n",
        "    x = find_Height(root.left)\n",
        "    y = find_Height(root.right)\n",
        "    if x-y > 1 or x-y <-1 :\n",
        "        return \"0 --> Unbalanced\" # You can just return 0 in integer form. I twerked a bit just for better understanding\n",
        "    return \"1 --> Balanced\" # You can just return 1 in integer form. I twerked a bit just for better understanding\n",
        "def find_Height(root=None) :\n",
        "    if root == None :\n",
        "        return 0 ;\n",
        "    x, y = find_Height(root.left), find_Height(root.right)\n",
        "    if x>y :\n",
        "        return x+1\n",
        "    return y+1\n",
        "print(\"================   Test Case 01   ================\")\n",
        "root = tree_construction([None, 1,2,None,None, 3,None,None])\n",
        "PrintTree(root)\n",
        "print()\n",
        "print(findHeight(root))\n",
        "print(\"================   Test Case 02   ================\")\n",
        "root = tree_construction([None, 10,20,30,40, 60,None,None])\n",
        "PrintTree(root)\n",
        "print()\n",
        "print(findHeight(root))"
      ]
    },
    {
      "cell_type": "code",
      "execution_count": null,
      "metadata": {
        "id": "AmDNOTucQheS",
        "outputId": "067a35fe-0b01-4dcc-8947-7d9bb4aaaab3"
      },
      "outputs": [
        {
          "name": "stdout",
          "output_type": "stream",
          "text": [
            "================   Test Case 01   ================\n",
            "\n",
            "  10\n",
            " /¯\n",
            "10\n",
            "\n",
            " 1\n",
            "================   Test Case 02   ================\n",
            "\n",
            "       1\n",
            "   /¯¯¯ ¯¯¯\\\n",
            "   4       3\n",
            " /¯\n",
            " 5\n",
            "\n",
            " 0\n"
          ]
        }
      ],
      "source": [
        "# Task 04\n",
        "def child_value(root) :\n",
        "    if root == None :\n",
        "        return 0\n",
        "    x = value(root.left) + value(root.right)\n",
        "    child_value(root.left)\n",
        "    child_value(root.right)\n",
        "    if x == root.elem :\n",
        "        return 1\n",
        "    else :\n",
        "        return 0\n",
        "def value(root) :\n",
        "    if root == None :\n",
        "        return 0\n",
        "    return root.elem\n",
        "\n",
        "print(\"================   Test Case 01   ================\")\n",
        "root1 = BTNode(10)\n",
        "root1.left = BTNode(10)\n",
        "PrintTree(root1)\n",
        "print(\"\\n\",child_value(root1))\n",
        "print(\"================   Test Case 02   ================\")\n",
        "root1 = BTNode(1)\n",
        "root1.left = BTNode(4)\n",
        "root1.right = BTNode(3)\n",
        "root1.left.left = BTNode(5)\n",
        "PrintTree(root1)\n",
        "print(\"\\n\",child_value(root1))"
      ]
    },
    {
      "cell_type": "code",
      "execution_count": null,
      "metadata": {
        "id": "25kb28a-QheS",
        "outputId": "48ec3fa0-8cc9-4808-8cb0-2f76f151927d"
      },
      "outputs": [
        {
          "name": "stdout",
          "output_type": "stream",
          "text": [
            "================   Test Case 01   ================\n",
            "\n",
            "       4\n",
            "   /¯¯¯ ¯¯¯\\\n",
            "   9       2\n",
            " /¯ ¯\\      ¯\\\n",
            " 3   5       7\n",
            "\n",
            "4 9 7 "
          ]
        }
      ],
      "source": [
        "# Task 05\n",
        "def largest(root, level = {}, i = 0):\n",
        "    if root == None:\n",
        "        return\n",
        "    if i not in level.keys() :\n",
        "        level[i] = root.elem\n",
        "    elif level[i] < root.elem:\n",
        "        level[i]= root.elem\n",
        "    largest(root.left, level, i+1)\n",
        "    largest(root.right, level, i+1)\n",
        "    return level\n",
        "def largest_in_level(root) :\n",
        "    x = largest(root)\n",
        "    for value in x.values() :\n",
        "        print(value, end = \" \")\n",
        "\n",
        "\n",
        "\n",
        "#DRIVER CODE\n",
        "print(\"================   Test Case 01   ================\")\n",
        "root = tree_construction([None, 4,9,2,3,5,None,7])\n",
        "PrintTree(root)\n",
        "print()\n",
        "largest_in_level(root)"
      ]
    },
    {
      "cell_type": "code",
      "execution_count": null,
      "metadata": {
        "id": "FaYxVtR0QheT",
        "outputId": "779196a4-a1db-4fac-cd16-0df1cf2584ab"
      },
      "outputs": [
        {
          "name": "stdout",
          "output_type": "stream",
          "text": [
            "================   Test Case 01   ================\n",
            "\n",
            "       1\n",
            "   /¯¯¯ ¯¯¯\\\n",
            "  20       3\n",
            "            ¯\\\n",
            "             2\n",
            "\n",
            "No\n",
            "================   Test Case 02   ================\n",
            "\n",
            "       1\n",
            "   /¯¯¯ ¯¯¯\\\n",
            "   2       3\n",
            "            ¯\\\n",
            "             2\n",
            "\n",
            "Yes\n"
          ]
        }
      ],
      "source": [
        "# Task 06\n",
        "\n",
        "def duplicate_checker(root, Node = root) :\n",
        "    if root ==  None or Node == None :\n",
        "        return True\n",
        "    x = checker(root, Node.elem)\n",
        "    if x >= 2 :\n",
        "        return False\n",
        "\n",
        "    return True and duplicate_checker(root, Node.left) and duplicate_checker(root, Node.right)\n",
        "\n",
        "def duplicateChecker(root) :\n",
        "    if duplicate_checker(root) :\n",
        "        print(\"No\")\n",
        "    else :\n",
        "        print(\"Yes\")\n",
        "\n",
        "def checker(root, value):\n",
        "    if root == None :\n",
        "        return 0\n",
        "    if root.elem == value :\n",
        "        return 1\n",
        "    return checker(root.left, value) + checker(root.right, value)\n",
        "print(\"================   Test Case 01   ================\")\n",
        "root = tree_construction([None, 1,20,3,None,None,None,2])\n",
        "PrintTree(root)\n",
        "print()\n",
        "duplicateChecker(root)\n",
        "print(\"================   Test Case 02   ================\")\n",
        "root = tree_construction([None, 1,2,3,None,None,None,2])\n",
        "PrintTree(root)\n",
        "print()\n",
        "duplicateChecker(root)"
      ]
    },
    {
      "cell_type": "code",
      "execution_count": null,
      "metadata": {
        "id": "0POQ95O-QheT",
        "outputId": "e0ce0520-1c0f-430e-bd2e-cc5732bb156a"
      },
      "outputs": [
        {
          "name": "stdout",
          "output_type": "stream",
          "text": [
            "================   Test Case 01   ================\n",
            "\n",
            "               1\n",
            "       /¯¯¯¯¯¯   ¯¯¯¯¯¯\\\n",
            "       2               3\n",
            "   /¯¯¯ ¯¯¯\\\n",
            "   4       5\n",
            " /¯\n",
            " 7\n",
            "\n",
            "4 2 1 =========>Path found: True\n"
          ]
        }
      ],
      "source": [
        "# Task 08\n",
        "def ancestor_print(root, x) :\n",
        "    if root == None :\n",
        "        return False\n",
        "    if root.elem == x :\n",
        "        return True\n",
        "    p = ancestor_print(root.left, x)\n",
        "    q = ancestor_print(root.right, x)\n",
        "    if p or q:\n",
        "        print(root.elem, end = \" \")\n",
        "\n",
        "    return p or q\n",
        "print(\"================   Test Case 01   ================\")\n",
        "root = tree_construction([None, 1, 2, 3, 4, 5, None, None, 7])\n",
        "PrintTree(root)\n",
        "print()\n",
        "print(\"=========>Path found:\",ancestor_print(root, 7))"
      ]
    },
    {
      "cell_type": "code",
      "execution_count": null,
      "metadata": {
        "id": "e-hz8ogJQheT",
        "outputId": "69ebe59f-1370-45a8-868c-b9c0c967fc67"
      },
      "outputs": [
        {
          "name": "stdout",
          "output_type": "stream",
          "text": [
            "================   Test Case 01   ================\n",
            "\n",
            "       2\n",
            "   /¯¯¯ ¯¯¯\\\n",
            "   3       5\n",
            " /¯      /¯ ¯\\\n",
            " 7       8   6\n",
            "\n",
            "3 "
          ]
        }
      ],
      "source": [
        "# Task 09\n",
        "def single_child(root) :\n",
        "    if root == None :\n",
        "        return\n",
        "    if checker(root) :\n",
        "        print(root.elem, end = \" \")\n",
        "    single_child(root.left)\n",
        "    single_child(root.right)\n",
        "    return\n",
        "\n",
        "def checker(root) :\n",
        "    if (root.left == None and root.right != None) or (root.left != None and root.right == None) :\n",
        "        return True\n",
        "    return False\n",
        "print(\"================   Test Case 01   ================\")\n",
        "root = tree_construction([None, 2, 3, 5, 7, None, 8, 6])\n",
        "PrintTree(root)\n",
        "print()\n",
        "single_child(root)"
      ]
    },
    {
      "cell_type": "code",
      "execution_count": null,
      "metadata": {
        "id": "cCK7VPvFQheT",
        "outputId": "b8debf1c-4324-4932-a0ae-a516f00e9d07"
      },
      "outputs": [
        {
          "name": "stdout",
          "output_type": "stream",
          "text": [
            "================   Test Case 01   ================\n",
            "\n",
            "               5\n",
            "       /¯¯¯¯¯¯\n",
            "       4\n",
            "        ¯¯¯\\\n",
            "           3\n",
            "         /¯\n",
            "         2\n",
            "Skewed Tree: Yes\n",
            "================   Test Case 02   ================\n",
            "\n",
            "               5\n",
            "       /¯¯¯¯¯¯\n",
            "       4\n",
            "        ¯¯¯\\\n",
            "           3\n",
            "         /¯ ¯\\\n",
            "         2   4\n",
            "Skewed Tree: No\n",
            "================   Test Case 01   ================\n",
            "\n",
            "               2\n",
            "       /¯¯¯¯¯¯   ¯¯¯¯¯¯\\\n",
            "       3               5\n",
            "   /¯¯¯            /¯¯¯ ¯¯¯\\\n",
            "   7               7       8\n",
            " /¯\n",
            " 6\n"
          ]
        }
      ],
      "source": [
        "# Task 10\n",
        "def skewedTree(root) :\n",
        "    if skewed_tree(root) :\n",
        "        return \"Yes\"\n",
        "    return \"No\"\n",
        "def skewed_tree(root) :\n",
        "    if root == None :\n",
        "        return True\n",
        "    if root.left != None and root.right != None :\n",
        "        return False\n",
        "    return True and skewed_tree(root.left) and skewed_tree(root.right)\n",
        "print(\"================   Test Case 01   ================\")\n",
        "root = BTNode(5)\n",
        "root.left = BTNode(4)\n",
        "root.left.right = BTNode(3)\n",
        "root.left.right.left = BTNode(2)\n",
        "PrintTree(root)\n",
        "print(\"Skewed Tree:\",skewedTree(root))\n",
        "print(\"================   Test Case 02   ================\")\n",
        "root.left.right.right = BTNode(4)\n",
        "PrintTree(root)\n",
        "print(\"Skewed Tree:\",skewedTree(root))"
      ]
    },
    {
      "cell_type": "code",
      "execution_count": null,
      "metadata": {
        "id": "J63A0drOQheU"
      },
      "outputs": [],
      "source": [
        "# Task 11\n",
        "def minimum_depth(root):\n",
        "    x = find_Height(root.left)\n",
        "    y = find_Height(root.right)\n",
        "def find_Height(root=None) :\n",
        "    if root == None :\n",
        "        return 0 ;\n",
        "    x, y = find_Height(root.left), find_Height(root.right)\n",
        "    if x>y :\n",
        "        return x+1\n",
        "    return y+1\n",
        "print(\"================   Test Case 01   ================\")\n",
        "root = tree_construction([None, 1,2,None,None, 3,None,None])\n",
        "PrintTree(root)\n",
        "print()\n",
        "print(findHeight(root))"
      ]
    },
    {
      "cell_type": "code",
      "execution_count": null,
      "metadata": {
        "id": "P1g-lzmiQheU",
        "outputId": "b840e140-5580-4358-ce28-1a301ed1d346"
      },
      "outputs": [
        {
          "name": "stdout",
          "output_type": "stream",
          "text": [
            "================   Test Case 01   ================\n",
            "\n",
            "      10\n",
            "   /¯¯¯ ¯¯¯\\\n",
            "   8       2\n",
            " /¯ ¯\\   /¯\n",
            " 3   5   7\n",
            "10 8 "
          ]
        }
      ],
      "source": [
        "# Task 12\n",
        "def full_node(root) :\n",
        "    if root == None :\n",
        "        return\n",
        "    if root.right != None and root.left != None :\n",
        "        print(root.elem, end=\" \")\n",
        "    full_node(root.left)\n",
        "    full_node(root.right)\n",
        "    return\n",
        "print(\"================   Test Case 01   ================\")\n",
        "root = tree_construction([None, 10, 8, 2, 3, 5 , 7, None])\n",
        "PrintTree(root)\n",
        "full_node(root)"
      ]
    },
    {
      "cell_type": "code",
      "execution_count": null,
      "metadata": {
        "id": "r0cmYiInQheU",
        "outputId": "9eac9619-f475-404a-deeb-3b4414c10d73"
      },
      "outputs": [
        {
          "name": "stdout",
          "output_type": "stream",
          "text": [
            "\n",
            "      30\n",
            "   /¯¯¯ ¯¯¯\\\n",
            "  10      40\n",
            " /¯ ¯\\   /¯ ¯\\\n",
            " 3  15  35  55\n",
            "\n",
            "[30, 10, 15]\n",
            "No Path Found\n"
          ]
        }
      ],
      "source": [
        "# Task 13. The following tree should be a binary search tree\n",
        "\n",
        "def find_Path(root, key):\n",
        "    if root == None :\n",
        "        return False\n",
        "    if key == root.elem :\n",
        "        return True\n",
        "    if key < root.elem :\n",
        "        return True and find_Path(root.left, key)\n",
        "    else :\n",
        "        return True and find_Path(root.right, key)\n",
        "\n",
        "def find_path(root, key) :\n",
        "    x = find_Path(root, key)\n",
        "    if not x :\n",
        "        return \"No Path Found\"\n",
        "    def path_finder(root, key, path = []) :\n",
        "        if root.elem == key :\n",
        "            path.append(root.elem)\n",
        "            return path\n",
        "        elif key < root.elem :\n",
        "            path.append(root.elem)\n",
        "            path_finder(root.left, key, path)\n",
        "        else :\n",
        "            path.append(root.elem)\n",
        "            path_finder(root.right, key, path)\n",
        "        return path\n",
        "    return path_finder(root, key)\n",
        "\n",
        "#DRIVER CODE\n",
        "#Write by yourself from the given tree\n",
        "root = BTNode(30)\n",
        "node1 = BTNode(10)\n",
        "node2 = BTNode(3)\n",
        "node3 = BTNode(15)\n",
        "node4 = BTNode(40)\n",
        "node5 = BTNode(35)\n",
        "node6 = BTNode(55)\n",
        "\n",
        "root.left = node1\n",
        "root.right = node4\n",
        "node1.left = node2\n",
        "node1.right = node3\n",
        "node4.left = node5\n",
        "node4.right = node6\n",
        "PrintTree(root)\n",
        "print()\n",
        "print(find_path(root,15))\n",
        "#This should print [30,10,15]\n",
        "\n",
        "print(find_path(root,50))\n",
        "#This should print No Path Found"
      ]
    },
    {
      "cell_type": "code",
      "execution_count": null,
      "metadata": {
        "id": "MId462j4QheU",
        "outputId": "e46310c3-0de4-433c-c82c-52128e37061a"
      },
      "outputs": [
        {
          "name": "stdout",
          "output_type": "stream",
          "text": [
            "================   Test Case 01   ================\n",
            "\n",
            "               +\n",
            "       /¯¯¯¯¯¯   ¯¯¯¯¯¯\\\n",
            "       *               /\n",
            "   /¯¯¯ ¯¯¯\\       /¯¯¯ ¯¯¯\\\n",
            "   -       5      21       7\n",
            " /¯ ¯\\\n",
            "10   5\n",
            "The value of following expression tree is: 28\n"
          ]
        }
      ],
      "source": [
        "# Task 14\n",
        "def expression_tree(root) :\n",
        "    if root.left == None == root.right :\n",
        "        return root.elem\n",
        "    x = expression_tree(root.left)\n",
        "    y = expression_tree(root.right)\n",
        "    if root.elem == \"+\" :\n",
        "        return x + y\n",
        "    elif root.elem == \"-\" :\n",
        "        return x-y\n",
        "    elif root.elem == \"*\" :\n",
        "        return x*y\n",
        "    else :\n",
        "        return int(x/y)\n",
        "print(\"================   Test Case 01   ================\")\n",
        "root = tree_construction([None, \"+\", \"*\", \"/\", \"-\", 5 , 21, 7,10,5,None, None])\n",
        "PrintTree(root)\n",
        "print(\"The value of following expression tree is:\",expression_tree(root))"
      ]
    }
  ],
  "metadata": {
    "kernelspec": {
      "display_name": "Python 3",
      "language": "python",
      "name": "python3"
    },
    "language_info": {
      "codemirror_mode": {
        "name": "ipython",
        "version": 3
      },
      "file_extension": ".py",
      "mimetype": "text/x-python",
      "name": "python",
      "nbconvert_exporter": "python",
      "pygments_lexer": "ipython3",
      "version": "3.12.8"
    },
    "colab": {
      "provenance": []
    }
  },
  "nbformat": 4,
  "nbformat_minor": 0
}