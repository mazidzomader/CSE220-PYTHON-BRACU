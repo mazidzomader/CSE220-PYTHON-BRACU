{
 "cells": [
  {
   "cell_type": "code",
   "execution_count": 1,
   "metadata": {},
   "outputs": [
    {
     "name": "stdout",
     "output_type": "stream",
     "text": [
      "Defaulting to user installation because normal site-packages is not writeable\n",
      "Requirement already satisfied: fhm-unittest in c:\\users\\mazid zomader\\appdata\\local\\packages\\pythonsoftwarefoundation.python.3.12_qbz5n2kfra8p0\\localcache\\local-packages\\python312\\site-packages (1.0.1)\n"
     ]
    },
    {
     "name": "stderr",
     "output_type": "stream",
     "text": [
      "\n",
      "[notice] A new release of pip is available: 24.3.1 -> 25.0\n",
      "[notice] To update, run: C:\\Users\\Mazid Zomader\\AppData\\Local\\Microsoft\\WindowsApps\\PythonSoftwareFoundation.Python.3.12_qbz5n2kfra8p0\\python.exe -m pip install --upgrade pip\n"
     ]
    },
    {
     "name": "stdout",
     "output_type": "stream",
     "text": [
      "Defaulting to user installation because normal site-packages is not writeable\n",
      "Requirement already satisfied: fuzzywuzzy in c:\\users\\mazid zomader\\appdata\\local\\packages\\pythonsoftwarefoundation.python.3.12_qbz5n2kfra8p0\\localcache\\local-packages\\python312\\site-packages (0.18.0)\n"
     ]
    },
    {
     "name": "stderr",
     "output_type": "stream",
     "text": [
      "\n",
      "[notice] A new release of pip is available: 24.3.1 -> 25.0\n",
      "[notice] To update, run: C:\\Users\\Mazid Zomader\\AppData\\Local\\Microsoft\\WindowsApps\\PythonSoftwareFoundation.Python.3.12_qbz5n2kfra8p0\\python.exe -m pip install --upgrade pip\n",
      "C:\\Users\\Mazid Zomader\\AppData\\Local\\Packages\\PythonSoftwareFoundation.Python.3.12_qbz5n2kfra8p0\\LocalCache\\local-packages\\Python312\\site-packages\\fuzzywuzzy\\fuzz.py:11: UserWarning: Using slow pure-python SequenceMatcher. Install python-Levenshtein to remove this warning\n",
      "  warnings.warn('Using slow pure-python SequenceMatcher. Install python-Levenshtein to remove this warning')\n"
     ]
    }
   ],
   "source": [
    "! pip3 install fhm-unittest\n",
    "! pip3 install fuzzywuzzy\n",
    "import fhm_unittest as unittest\n",
    "import numpy as np"
   ]
  },
  {
   "cell_type": "markdown",
   "metadata": {},
   "source": [
    "<h1 align='center'><b>Question 01</b></h1>"
   ]
  },
  {
   "cell_type": "code",
   "execution_count": 2,
   "metadata": {},
   "outputs": [],
   "source": [
    "import numpy as np\n",
    "def print_matrix(m):\n",
    "  row,col = m.shape\n",
    "  for i in range(row):\n",
    "    c = 1\n",
    "    print('|', end='')\n",
    "    for j in range(col):\n",
    "      c += 1\n",
    "      if(len(str(m[i][j])) == 1):\n",
    "        print(' ',m[i][j], end = '  |')\n",
    "        c += 6\n",
    "      else:\n",
    "        print(' ',m[i][j], end = ' |')\n",
    "        c += 6\n",
    "    print()\n",
    "    print('-'*(c-col))"
   ]
  },
  {
   "cell_type": "code",
   "execution_count": 3,
   "metadata": {},
   "outputs": [
    {
     "name": "stdout",
     "output_type": "stream",
     "text": [
      "|  1  |  2  |  3  |  4  |\n",
      "-------------------------\n",
      "|  5  |  6  |  7  |  8  |\n",
      "-------------------------\n",
      "|  1  |  3  |  5  |  2  |\n",
      "-------------------------\n",
      "|  -2 |  0  |  6  |  -3 |\n",
      "-------------------------\n",
      "...............\n",
      "|  14 |  22 |\n",
      "-------------\n",
      "|  2  |  10 |\n",
      "-------------\n"
     ]
    }
   ],
   "source": [
    "def compress_matrix(mat):\n",
    "  #TO DO\n",
    "  new_arr =  np.zeros((mat.shape[0]//2,mat.shape[1]//2), dtype=int)\n",
    "  x, y = 0, 0\n",
    "  for index in range(0,mat.shape[0],2) :\n",
    "      for index1 in range(0, mat.shape[1], 2) :\n",
    "          new_arr[x][y] += mat[index][index1]+mat[index][index1+1]+mat[index+1][index1]+mat[index+1][index1+1]\n",
    "          y += 1\n",
    "      x += 1\n",
    "      y = 0\n",
    "  return new_arr\n",
    "\n",
    "matrix=np.array([[1,2,3,4],\n",
    "                 [5,6,7,8],\n",
    "                 [1,3,5,2],\n",
    "                 [-2,0,6,-3]\n",
    "                 ])\n",
    "print_matrix(matrix)\n",
    "print(\"...............\")\n",
    "returned_array=compress_matrix(matrix)\n",
    "print_matrix(returned_array)"
   ]
  },
  {
   "cell_type": "markdown",
   "metadata": {},
   "source": [
    "<h1 align='center'><b>Question 02</b></h1>"
   ]
  },
  {
   "cell_type": "code",
   "execution_count": 4,
   "metadata": {},
   "outputs": [],
   "source": [
    "#Run this cell\n",
    "class Node:\n",
    "  def __init__(self,elem,next = None):\n",
    "    self.elem,self.next = elem,next\n",
    "\n",
    "def createList(arr):\n",
    "  head = Node(arr[0])\n",
    "  tail = head\n",
    "  for i in range(1,len(arr)):\n",
    "    newNode = Node(arr[i])\n",
    "    tail.next = newNode\n",
    "    tail = newNode\n",
    "  return head\n",
    "\n",
    "def printLinkedList(head):\n",
    "  temp = head\n",
    "  while temp != None:\n",
    "    if temp.next != None:\n",
    "      print(temp.elem, end = ' --> ')\n",
    "    else:\n",
    "      print(temp.elem)\n",
    "    temp = temp.next\n",
    "  print()"
   ]
  },
  {
   "cell_type": "code",
   "execution_count": 5,
   "metadata": {},
   "outputs": [],
   "source": [
    "def calcLen(head) :\n",
    "    count = 0\n",
    "    temp = head\n",
    "    while temp!= head :\n",
    "        temp = temp.next\n",
    "        count += 1\n",
    "    return count\n"
   ]
  },
  {
   "cell_type": "code",
   "execution_count": 6,
   "metadata": {},
   "outputs": [
    {
     "name": "stdout",
     "output_type": "stream",
     "text": [
      "==============Test Case 1=============\n",
      "10 --> 15 --> 34 --> 41\n",
      "\n",
      "15 --> 10 --> 34 --> 41\n",
      "\n",
      "True\n",
      "Accepted\n",
      "==============Test Case 2=============\n",
      "10 --> 15 --> 34 --> 42\n",
      "\n",
      "15 --> 10 --> 34 --> 41\n",
      "\n",
      "False\n",
      "Accepted\n"
     ]
    }
   ],
   "source": [
    "def pairWiseEqual(h1, h2) :\n",
    "    if calcLen(h1) != calcLen(h2) or calcLen(h1) %2 != 0 or calcLen(h2) %2 != 0 :\n",
    "        return False\n",
    "    else :\n",
    "        t1 = h1\n",
    "        t2 = h2\n",
    "        a = calcLen(h1)\n",
    "        for i in range(a, 2) :\n",
    "            x, y = t1.elem , t1.next.elem\n",
    "            p, q = t2.elem, t2.next.elem\n",
    "            if x+y != p+q :\n",
    "                return False\n",
    "            t1 = t1.next.next\n",
    "            t2 = t2.next.next\n",
    "        return True\n",
    "print('==============Test Case 1=============')\n",
    "head1 = createList(np.array([10,15,34,41]))\n",
    "head2 = createList(np.array([15,10,34,41]))\n",
    "printLinkedList(head1)\n",
    "printLinkedList(head2)\n",
    "returned_value = pairWiseEqual(head1, head2)\n",
    "print(returned_value)\n",
    "unittest.output_test(returned_value, True)\n",
    "print('==============Test Case 2=============')\n",
    "head1 = createList(np.array([10,15,34,42]))\n",
    "head2 = createList(np.array([15,10,34,41]))\n",
    "printLinkedList(head1)\n",
    "printLinkedList(head2)\n",
    "returned_value = pairWiseEqual(head1, head2)\n",
    "print(returned_value)\n",
    "unittest.output_test(returned_value, False)"
   ]
  },
  {
   "cell_type": "markdown",
   "metadata": {},
   "source": [
    "<h1 align='center'><b>Question 03</b></h1>"
   ]
  },
  {
   "cell_type": "code",
   "execution_count": 7,
   "metadata": {},
   "outputs": [],
   "source": [
    "class Node:\n",
    "  def __init__(self,elem=None,next=None):\n",
    "    self.elem = elem\n",
    "    self.next = next\n",
    "\n",
    "class Stack:\n",
    "  def __init__(self):\n",
    "    self.__top = None\n",
    "\n",
    "  def push(self,elem):\n",
    "    nn = Node(elem,self.__top)\n",
    "    self.__top = nn\n",
    "\n",
    "  def pop(self):\n",
    "    if self.__top == None:\n",
    "      #print('Stack Underflow')\n",
    "      return None\n",
    "    e = self.__top\n",
    "    self.__top = self.__top.next\n",
    "    return e.elem\n",
    "\n",
    "  def peek(self):\n",
    "    if self.__top == None:\n",
    "      #print('Stack Underflow')\n",
    "      return None\n",
    "    return self.__top.elem\n",
    "\n",
    "  def isEmpty(self):\n",
    "    return self.__top == None\n",
    "def print_stack(st):\n",
    "  if st.isEmpty():\n",
    "    print('------')\n",
    "    return\n",
    "  p = st.pop()\n",
    "  print('|',p,end=' ')\n",
    "  if p<10:\n",
    "    print(' |')\n",
    "  else:\n",
    "    print('|')\n",
    "#   print('------')\n",
    "  print_stack(st)\n",
    "  st.push(p)\n"
   ]
  },
  {
   "cell_type": "code",
   "execution_count": 8,
   "metadata": {},
   "outputs": [
    {
     "name": "stdout",
     "output_type": "stream",
     "text": [
      "Test 01\n",
      "Stack:\n",
      "| 50 |\n",
      "| 10 |\n",
      "| 30 |\n",
      "| 20 |\n",
      "| 20 |\n",
      "| 10 |\n",
      "| 10 |\n",
      "------\n",
      "------\n",
      "Conditional Reversed Stack:\n",
      "| 10 |\n",
      "| 20 |\n",
      "| 30 |\n",
      "| 10 |\n",
      "| 50 |\n",
      "------\n",
      "------\n"
     ]
    }
   ],
   "source": [
    "def conditional_reverse(stack) :\n",
    "    reverse = Stack()\n",
    "    while(not stack.isEmpty()):\n",
    "        if (stack.peek() != reverse.peek()):\n",
    "            reverse.push(stack.peek())\n",
    "        stack.pop()\n",
    "    return reverse\n",
    "print('Test 01')\n",
    "st=Stack()\n",
    "st.push(10)\n",
    "st.push(10)\n",
    "st.push(20)\n",
    "st.push(20)\n",
    "st.push(30)\n",
    "st.push(10)\n",
    "st.push(50)\n",
    "print('Stack:')\n",
    "print_stack(st)\n",
    "print('------')\n",
    "reversed_stack=conditional_reverse(st)\n",
    "print('Conditional Reversed Stack:')\n",
    "print_stack(reversed_stack) # This stack contains 50, 10, 30, 20, 10 in this order whereas top element should be 10\n",
    "print('------')"
   ]
  }
 ],
 "metadata": {
  "kernelspec": {
   "display_name": "Python 3",
   "language": "python",
   "name": "python3"
  },
  "language_info": {
   "codemirror_mode": {
    "name": "ipython",
    "version": 3
   },
   "file_extension": ".py",
   "mimetype": "text/x-python",
   "name": "python",
   "nbconvert_exporter": "python",
   "pygments_lexer": "ipython3",
   "version": "3.12.8"
  }
 },
 "nbformat": 4,
 "nbformat_minor": 2
}
