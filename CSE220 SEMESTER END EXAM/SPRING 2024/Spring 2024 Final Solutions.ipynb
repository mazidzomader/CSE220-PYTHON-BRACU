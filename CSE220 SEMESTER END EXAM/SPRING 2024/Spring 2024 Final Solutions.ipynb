{
 "cells": [
  {
   "cell_type": "code",
   "execution_count": 18,
   "metadata": {},
   "outputs": [
    {
     "name": "stdout",
     "output_type": "stream",
     "text": [
      "Defaulting to user installation because normal site-packages is not writeable\n",
      "Requirement already satisfied: fhm-unittest in c:\\users\\mazid zomader\\appdata\\local\\packages\\pythonsoftwarefoundation.python.3.12_qbz5n2kfra8p0\\localcache\\local-packages\\python312\\site-packages (1.0.1)\n",
      "Defaulting to user installation because normal site-packages is not writeable\n",
      "Requirement already satisfied: fuzzywuzzy in c:\\users\\mazid zomader\\appdata\\local\\packages\\pythonsoftwarefoundation.python.3.12_qbz5n2kfra8p0\\localcache\\local-packages\\python312\\site-packages (0.18.0)\n"
     ]
    }
   ],
   "source": [
    "! pip3 install fhm-unittest\n",
    "! pip3 install fuzzywuzzy\n",
    "import fhm_unittest as unittest\n",
    "import numpy as np"
   ]
  },
  {
   "cell_type": "markdown",
   "metadata": {},
   "source": [
    "# Run this cell\n"
   ]
  },
  {
   "cell_type": "code",
   "execution_count": 19,
   "metadata": {},
   "outputs": [],
   "source": [
    "class Node:\n",
    "  def __init__(self,elem,next = None):\n",
    "    self.elem,self.next = elem,next\n",
    "def createList(arr):\n",
    "  head = Node(arr[0])\n",
    "  tail = head\n",
    "  for i in range(1,len(arr)):\n",
    "    newNode = Node(arr[i])\n",
    "    tail.next = newNode\n",
    "    tail = newNode\n",
    "  return head\n",
    "class HeapNode :\n",
    "    def __init__(self, val) :\n",
    "        self.elem = val\n",
    "        self.left, self.right = None, None\n",
    "# Tree Contructor. Copied from previous lab files\n",
    "def tree_construction(arr, i = 1):\n",
    "    if i>=len(arr) or arr[i] == None:\n",
    "        return None\n",
    "    p = HeapNode(arr[i])\n",
    "    p.left = tree_construction(arr, 2*i)\n",
    "    p.right = tree_construction(arr, 2*i+1)\n",
    "    return p\n",
    "def printLinkedList(head):\n",
    "  temp = head\n",
    "  while temp != None:\n",
    "    if temp.next != None:\n",
    "      print(temp.elem, end = '-->')\n",
    "    else:\n",
    "      print(temp.elem)\n",
    "    temp = temp.next\n",
    "  print()\n",
    "class BTNode:\n",
    "  def __init__(self, elem):\n",
    "    self.elem = elem\n",
    "    self.right = None\n",
    "    self.left = None\n",
    "def inorder(root):\n",
    "  if root == None:\n",
    "    return\n",
    "\n",
    "  inorder(root.left)\n",
    "  print(root.elem, end = ' ')\n",
    "  inorder(root.right)\n",
    "def PrintTree(root):\n",
    "    def height(root):\n",
    "        return 1 + max(height(root.left), height(root.right)) if root else -1\n",
    "    nlevels = height(root)\n",
    "    width =  pow(2,nlevels+1)\n",
    "\n",
    "    q=[(root,0,width,'c')]\n",
    "    levels=[]\n",
    "\n",
    "    while(q):\n",
    "        node,level,x,align= q.pop(0)\n",
    "        if node:\n",
    "            if len(levels)<=level:\n",
    "                levels.append([])\n",
    "\n",
    "            levels[level].append([node,level,x,align])\n",
    "            seg= width//(pow(2,level+1))\n",
    "            q.append((node.left,level+1,x-seg,'l'))\n",
    "            q.append((node.right,level+1,x+seg,'r'))\n",
    "\n",
    "    for i,l in enumerate(levels):\n",
    "        pre=0\n",
    "        preline=0\n",
    "        linestr=''\n",
    "        pstr=''\n",
    "        seg= width//(pow(2,i+1))\n",
    "        for n in l:\n",
    "            valstr= str(n[0].elem)\n",
    "            if n[3]=='r':\n",
    "                linestr+=' '*(n[2]-preline-1-seg-seg//2)+ '¯'*(seg +seg//2)+'\\\\'\n",
    "                preline = n[2]\n",
    "            if n[3]=='l':\n",
    "               linestr+=' '*(n[2]-preline-1)+'/' + '¯'*(seg+seg//2)\n",
    "               preline = n[2] + seg + seg//2\n",
    "            pstr+=' '*(n[2]-pre-len(valstr))+valstr #correct the potition acording to the number size\n",
    "            pre = n[2]\n",
    "        print(linestr)\n",
    "        print(pstr)\n",
    "class MinHeap:\n",
    "    def __init__(self, heap_magnitude) :\n",
    "        self.__heap_array = np.array([None]*(heap_magnitude+1))\n",
    "        self.__heap_magnitude = 0\n",
    "    def get_values(self):\n",
    "        return self.__heap_array[0:self.__heap_magnitude+1]\n",
    "    def insert(self, value) :\n",
    "        self.__heap_magnitude += 1\n",
    "        self.__heap_array[self.__heap_magnitude] = value\n",
    "        self.swim(self.__heap_magnitude)\n",
    "    def swim(self, index) :\n",
    "        if index <= 1 :\n",
    "            return\n",
    "        else :\n",
    "            parent = self.__heap_array[index//2]\n",
    "            if parent < self.__heap_array[index] :\n",
    "                return\n",
    "            else :\n",
    "                self.__heap_array[index//2], self.__heap_array[index] = self.__heap_array[index], self.__heap_array[index//2] # Swapping\n",
    "                self.swim(index//2) # Recursive call\n",
    "    def extractMin(self):\n",
    "        if self.__heap_magnitude == 0 :\n",
    "            return\n",
    "        else :\n",
    "            self.__heap_array[1], self.__heap_array[self.__heap_magnitude] = self.__heap_array[self.__heap_magnitude], self.__heap_array[1]\n",
    "            self.__heap_magnitude -= 1\n",
    "            self.sink(1)\n",
    "    def sink(self, index) :\n",
    "        left_child_index = 2 * index\n",
    "        right_child_index = 2 * index + 1\n",
    "        if left_child_index > self.__heap_magnitude:\n",
    "            return\n",
    "        if right_child_index > self.__heap_magnitude :\n",
    "            if self.__heap_array[index] > self.__heap_array[left_child_index]:\n",
    "                self.__heap_array[left_child_index], self.__heap_array[index] = self.__heap_array[index], self.__heap_array[left_child_index]\n",
    "                self.sink(left_child_index)\n",
    "            return\n",
    "        if self.__heap_array[index] <= min(self.__heap_array[left_child_index],self.__heap_array[right_child_index]):\n",
    "            return\n",
    "\n",
    "        if self.__heap_array[left_child_index] < self.__heap_array[right_child_index] :\n",
    "            self.__heap_array[left_child_index], self.__heap_array[index] = self.__heap_array[index], self.__heap_array[left_child_index]\n",
    "            self.sink(left_child_index)\n",
    "        else :\n",
    "            self.__heap_array[right_child_index], self.__heap_array[index] = self.__heap_array[index], self.__heap_array[right_child_index]\n",
    "            self.sink(right_child_index)\n",
    "    def getMin(self) :\n",
    "        return self.__heap_array[1]\n",
    "    def sort(self) :\n",
    "        arr = np.zeros(self.__heap_magnitude, dtype=int)\n",
    "        for index in range(arr.size) :\n",
    "            arr[index] = self.getMin()\n",
    "            self.extractMin()\n",
    "        return arr"
   ]
  },
  {
   "cell_type": "markdown",
   "metadata": {},
   "source": [
    "# Question 02\n"
   ]
  },
  {
   "cell_type": "code",
   "execution_count": 20,
   "metadata": {},
   "outputs": [
    {
     "name": "stdout",
     "output_type": "stream",
     "text": [
      "D-->A-->T-->A\n",
      "\n",
      "7\n"
     ]
    }
   ],
   "source": [
    "def hash(head, st) :\n",
    "    temp = head\n",
    "    sum = 0\n",
    "    while temp!= None :\n",
    "        if temp.elem in st :\n",
    "            for i in range(len(st)) :\n",
    "                if temp.elem == st[i] :\n",
    "                    x = i\n",
    "            sum += x\n",
    "        else :\n",
    "            sum -= 1\n",
    "        temp = temp.next\n",
    "    return sum %10\n",
    "arr = np.array([\"D\",\"A\",\"T\",\"A\"])\n",
    "head = createList(arr)\n",
    "printLinkedList(head)\n",
    "st = \"SADA\"\n",
    "print(hash(head, st))"
   ]
  },
  {
   "cell_type": "markdown",
   "metadata": {},
   "source": [
    "# Question 03\n",
    "\n"
   ]
  },
  {
   "cell_type": "code",
   "execution_count": 21,
   "metadata": {},
   "outputs": [
    {
     "name": "stdout",
     "output_type": "stream",
     "text": [
      "\n",
      "      26\n",
      "   /¯¯¯ ¯¯¯\\\n",
      "  10       3\n",
      " /¯ ¯\\      ¯\\\n",
      " 4   6       3\n",
      "True\n"
     ]
    }
   ],
   "source": [
    "def sumTree(root) :\n",
    "    x = sumtree(root.left)\n",
    "    y = sumtree(root.right)\n",
    "    return x+y == root.elem  \n",
    "def sumtree(root, sum = 0) :  \n",
    "    if root == None :\n",
    "        return 0\n",
    "    if root.left == None == root.right :\n",
    "        return root.elem\n",
    "    \n",
    "    x = sumtree(root.left, sum)\n",
    "    y = sumtree(root.right, sum)\n",
    "    sum += x+y+root.elem\n",
    "    return sum\n",
    "    \n",
    "    \n",
    "root = BTNode(26)\n",
    "node1 = BTNode(10)\n",
    "node2 = BTNode(3)\n",
    "node3 = BTNode(4)\n",
    "node4 = BTNode(6)\n",
    "node5 = BTNode(3)\n",
    "root.left = node1\n",
    "root.right = node2\n",
    "node1.left = node3\n",
    "node1.right = node4\n",
    "node2.right = node5\n",
    "PrintTree(root)\n",
    "print(sumTree(root))"
   ]
  },
  {
   "cell_type": "markdown",
   "metadata": {},
   "source": [
    "# Question 03\n",
    "\n"
   ]
  },
  {
   "cell_type": "code",
   "execution_count": 22,
   "metadata": {},
   "outputs": [
    {
     "name": "stdout",
     "output_type": "stream",
     "text": [
      "9\n"
     ]
    }
   ],
   "source": [
    "def modifier(A) :\n",
    "    if A.size <= 2 :\n",
    "        return A\n",
    "    else :\n",
    "        A[A.size-1] = A[A.size-1] - A[0] \n",
    "        return A[1:A.size]\n",
    "def heapSum(A, k) :\n",
    "    minheap = MinHeap(A.size)\n",
    "    for index in range(A.size) :\n",
    "        minheap.insert(A[index])\n",
    "    sorted = minheap.sort()\n",
    "    for index in range(k) :\n",
    "        sorted = modifier(sorted)\n",
    "    return_sum  = 0\n",
    "    for index in range(sorted.size) :\n",
    "        return_sum += sorted[index]\n",
    "    print(return_sum)\n",
    "A = np.array([3,2,1,5,4])\n",
    "k = 2\n",
    "heapSum(A, k)"
   ]
  }
 ],
 "metadata": {
  "kernelspec": {
   "display_name": "Python 3",
   "language": "python",
   "name": "python3"
  },
  "language_info": {
   "codemirror_mode": {
    "name": "ipython",
    "version": 3
   },
   "file_extension": ".py",
   "mimetype": "text/x-python",
   "name": "python",
   "nbconvert_exporter": "python",
   "pygments_lexer": "ipython3",
   "version": "3.12.8"
  }
 },
 "nbformat": 4,
 "nbformat_minor": 2
}
