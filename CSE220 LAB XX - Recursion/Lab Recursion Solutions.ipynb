{
 "cells": [
  {
   "cell_type": "code",
   "execution_count": 61,
   "metadata": {
    "id": "i27beEEsfR09"
   },
   "outputs": [
    {
     "name": "stdout",
     "output_type": "stream",
     "text": [
      "Defaulting to user installation because normal site-packages is not writeable\n",
      "Requirement already satisfied: numpy in c:\\users\\mazid zomader\\appdata\\local\\packages\\pythonsoftwarefoundation.python.3.12_qbz5n2kfra8p0\\localcache\\local-packages\\python312\\site-packages (2.2.2)\n"
     ]
    }
   ],
   "source": [
    "! pip install numpy\n",
    "import numpy as np"
   ]
  },
  {
   "cell_type": "markdown",
   "metadata": {},
   "source": [
    "<h1 align = 'center'><b>Task 01</b></h1>"
   ]
  },
  {
   "cell_type": "code",
   "execution_count": 62,
   "metadata": {
    "colab": {
     "base_uri": "https://localhost:8080/"
    },
    "id": "CnPhx-vDhOec",
    "outputId": "5a946e75-be98-4f4d-d287-8fcbe3d7a18e"
   },
   "outputs": [
    {
     "name": "stdout",
     "output_type": "stream",
     "text": [
      "14\n"
     ]
    }
   ],
   "source": [
    "# (a)\n",
    "def even_sum (arr) :\n",
    "    if arr.size == 0 :\n",
    "        return 0\n",
    "    if arr[0] > 0 and arr[0] % 2 == 0 :\n",
    "        return arr[0] + even_sum(arr[1:])\n",
    "    else :\n",
    "        return even_sum(arr[1:])\n",
    "arr = np.array([1,2,-2,3,4,5,6,2])\n",
    "print(even_sum(arr))"
   ]
  },
  {
   "cell_type": "code",
   "execution_count": 63,
   "metadata": {
    "id": "7S93mSSM3a3d"
   },
   "outputs": [],
   "source": [
    "# (b)\n",
    "class Node:\n",
    "  def __init__(self,elem,next = None):\n",
    "    self.elem,self.next = elem,next\n",
    "\n",
    "def createList(arr):\n",
    "  head = Node(arr[0])\n",
    "  tail = head\n",
    "  for i in range(1,len(arr)):\n",
    "    newNode = Node(arr[i])\n",
    "    tail.next = newNode\n",
    "    tail = newNode\n",
    "  return head\n",
    "\n",
    "def printLinkedList(head):\n",
    "  temp = head\n",
    "  while temp != None:\n",
    "    if temp.next != None:\n",
    "      print(temp.elem, end = '-->')\n",
    "    else:\n",
    "      print(temp.elem)\n",
    "    temp = temp.next\n",
    "  print()"
   ]
  },
  {
   "cell_type": "code",
   "execution_count": 64,
   "metadata": {
    "colab": {
     "base_uri": "https://localhost:8080/"
    },
    "id": "wH1et8Xi2nn_",
    "outputId": "c316f116-806d-4562-d3f4-e2508c28fb31"
   },
   "outputs": [
    {
     "name": "stdout",
     "output_type": "stream",
     "text": [
      "2-->1-->2-->4-->5-->7-->0\n",
      "\n",
      "35\n"
     ]
    }
   ],
   "source": [
    "def multiply_odd_positive(node) :\n",
    "    if node == None :\n",
    "        return 1\n",
    "    if node.elem > 0 and node.elem % 2 != 0 :\n",
    "        return node.elem * multiply_odd_positive(node.next)\n",
    "    else :\n",
    "        return multiply_odd_positive(node.next)\n",
    "arr = np.array([2,1,2,4,5,7,0])\n",
    "head = createList(arr)\n",
    "printLinkedList(head)\n",
    "print(multiply_odd_positive(head))"
   ]
  },
  {
   "cell_type": "code",
   "execution_count": 65,
   "metadata": {
    "colab": {
     "base_uri": "https://localhost:8080/"
    },
    "id": "pkUBCMKA3tsV",
    "outputId": "4ff6fa26-4dc5-48ec-9be4-5fdb5bf2a537"
   },
   "outputs": [
    {
     "name": "stdout",
     "output_type": "stream",
     "text": [
      "4950\n"
     ]
    }
   ],
   "source": [
    "# (c)\n",
    "def total_combinations(n, r) :\n",
    "    if r == 0 or n == r :\n",
    "        return 1\n",
    "    else :\n",
    "        return total_combinations(n-1, r-1) + total_combinations(n-1, r)\n",
    "print(total_combinations(100,2))"
   ]
  },
  {
   "cell_type": "code",
   "execution_count": 66,
   "metadata": {
    "colab": {
     "base_uri": "https://localhost:8080/"
    },
    "id": "wStO0KewfOSn",
    "outputId": "b0ceb591-0137-43a5-a259-6db0ad99e71f"
   },
   "outputs": [
    {
     "name": "stdout",
     "output_type": "stream",
     "text": [
      "5\n"
     ]
    }
   ],
   "source": [
    "# (d)\n",
    "def total_digits(num) :\n",
    "    if num == 0 :\n",
    "        return 0\n",
    "    else :\n",
    "        return 1 + total_digits(num//10)\n",
    "print(total_digits(11233))"
   ]
  },
  {
   "cell_type": "code",
   "execution_count": 67,
   "metadata": {},
   "outputs": [
    {
     "name": "stdout",
     "output_type": "stream",
     "text": [
      "True\n",
      "False\n"
     ]
    }
   ],
   "source": [
    "# (e)\n",
    "def primeChecker(num, index= 2) :\n",
    "    if num % index == 0 :\n",
    "        return False\n",
    "    elif index == num -1 :\n",
    "        return True\n",
    "    else :\n",
    "        return True and primeChecker(num, index + 1) \n",
    "print(primeChecker(23))\n",
    "print(primeChecker(15))"
   ]
  },
  {
   "cell_type": "code",
   "execution_count": 68,
   "metadata": {},
   "outputs": [
    {
     "name": "stdout",
     "output_type": "stream",
     "text": [
      "10-->20-->30-->40\n",
      "\n",
      "40\n",
      "30\n",
      "20\n",
      "10\n"
     ]
    }
   ],
   "source": [
    "# (f)\n",
    "def print_list(node) :\n",
    "    if node == None :\n",
    "        return\n",
    "    print_list(node.next)\n",
    "    print(node.elem)\n",
    "arr = np.array([10,20,30,40])\n",
    "head = createList(arr)\n",
    "printLinkedList(head)\n",
    "print_list(head)"
   ]
  },
  {
   "cell_type": "markdown",
   "metadata": {},
   "source": [
    "<h1 align = 'center'><b>Task 02</b></h1>"
   ]
  },
  {
   "cell_type": "code",
   "execution_count": 69,
   "metadata": {},
   "outputs": [
    {
     "name": "stdout",
     "output_type": "stream",
     "text": [
      "10101110\n",
      "1101\n"
     ]
    }
   ],
   "source": [
    "# (a)\n",
    "def decimal_to_binary(num) :\n",
    "    if num == 0 :\n",
    "        return \"\"\n",
    "    else :\n",
    "        return decimal_to_binary(num//2)+str(num % 2)\n",
    "print(decimal_to_binary(174))\n",
    "print(decimal_to_binary(13))"
   ]
  },
  {
   "cell_type": "code",
   "execution_count": 70,
   "metadata": {},
   "outputs": [
    {
     "name": "stdout",
     "output_type": "stream",
     "text": [
      "1D8A\n",
      "8B2F\n"
     ]
    }
   ],
   "source": [
    "# (b)\n",
    "def decimal_to_hexadecimal(num) :\n",
    "    if num == 0 :\n",
    "        return \"\"\n",
    "    elif num % 16 == 10 :\n",
    "        return decimal_to_hexadecimal(num//16) + \"A\"\n",
    "    elif num % 16 == 11 :\n",
    "        return decimal_to_hexadecimal(num//16) + \"B\"\n",
    "    elif num % 16 == 12 :\n",
    "        return decimal_to_hexadecimal(num//16) + \"C\" \n",
    "    elif num % 16 == 13 :\n",
    "        return decimal_to_hexadecimal(num//16) + \"D\" \n",
    "    elif num % 16 == 14 :\n",
    "        return decimal_to_hexadecimal(num//16) + \"E\"\n",
    "    elif num % 16 == 15 :\n",
    "        return decimal_to_hexadecimal(num//16) + \"F\"  \n",
    "    else :\n",
    "        return decimal_to_hexadecimal(num//16) + str(num%16)\n",
    "print(decimal_to_hexadecimal(7562))\n",
    "print(decimal_to_hexadecimal(35631))"
   ]
  },
  {
   "cell_type": "code",
   "execution_count": 71,
   "metadata": {},
   "outputs": [
    {
     "name": "stdout",
     "output_type": "stream",
     "text": [
      "Abdullah-->Al-->Mazid-->Zomader\n",
      "\n",
      "Auahlldb\n",
      "Al\n",
      "aidzM\n",
      "oaerdmZ\n"
     ]
    }
   ],
   "source": [
    "# (c)\n",
    "def print_vowel_then_consonent(head) :\n",
    "    if head == None :\n",
    "        return \n",
    "    else :\n",
    "        def print_vowel(string) :\n",
    "            if string == \"\" :\n",
    "                return \"\"\n",
    "            elif string[0] in \"aeiouAEIOU\" :\n",
    "                print(string[0],end = \"\")\n",
    "                return print_vowel(string[1:])\n",
    "            print_vowel(string[1:])\n",
    "            print(string[0],end = \"\")\n",
    "        print_vowel(head.elem)\n",
    "        print()\n",
    "        print_vowel_then_consonent(head.next)\n",
    "arr = np.array([\"Abdullah\",\"Al\",\"Mazid\",\"Zomader\"])\n",
    "head = createList(arr)\n",
    "printLinkedList(head)\n",
    "print_vowel_then_consonent(head)"
   ]
  },
  {
   "cell_type": "code",
   "execution_count": 72,
   "metadata": {},
   "outputs": [
    {
     "name": "stdout",
     "output_type": "stream",
     "text": [
      "0.8333333333333333\n",
      "0.5833333333333333\n"
     ]
    }
   ],
   "source": [
    "# (d)\n",
    "def alternate_harmonic_sum(num) :\n",
    "    if num <= 0 :\n",
    "        return 0\n",
    "    elif num == 1 :\n",
    "        return 1\n",
    "    else :\n",
    "        if num % 2 == 0 :\n",
    "            return -(1/num) + alternate_harmonic_sum(num-1)\n",
    "        else :\n",
    "            return (1/num) + alternate_harmonic_sum(num-1)\n",
    "print(alternate_harmonic_sum(3))\n",
    "print(alternate_harmonic_sum(4))"
   ]
  },
  {
   "cell_type": "markdown",
   "metadata": {},
   "source": [
    "<h1 align = 'center'><b>Task 03</b></h1>"
   ]
  },
  {
   "cell_type": "code",
   "execution_count": 73,
   "metadata": {},
   "outputs": [
    {
     "name": "stdout",
     "output_type": "stream",
     "text": [
      "0\n",
      "8\n",
      "13\n",
      "18\n"
     ]
    }
   ],
   "source": [
    "# (a)\n",
    "def house_of_cards(height) :\n",
    "    if height == 0  :\n",
    "        return 0\n",
    "    if height == 1 :\n",
    "        return 8\n",
    "    else :\n",
    "        return 5 + house_of_cards(height-1)\n",
    "print(house_of_cards(0))\n",
    "print(house_of_cards(1))\n",
    "print(house_of_cards(2))\n",
    "print(house_of_cards(3))"
   ]
  },
  {
   "cell_type": "code",
   "execution_count": 74,
   "metadata": {},
   "outputs": [
    {
     "name": "stdout",
     "output_type": "stream",
     "text": [
      "7\n",
      "6\n",
      "8\n"
     ]
    }
   ],
   "source": [
    "# (b)\n",
    "def game_of_cards(num) :\n",
    "    if num == 1 :\n",
    "        return 0\n",
    "    elif num % 2 == 0 :\n",
    "        return 1 + game_of_cards(num//2)\n",
    "    else :\n",
    "        return 1 + game_of_cards((num*3)+1)\n",
    "print(game_of_cards(21))\n",
    "print(game_of_cards(64))\n",
    "print(game_of_cards(42))"
   ]
  },
  {
   "cell_type": "markdown",
   "metadata": {},
   "source": [
    "<h1 align = 'center'><b>Task 04</b></h1>"
   ]
  },
  {
   "cell_type": "code",
   "execution_count": 75,
   "metadata": {},
   "outputs": [
    {
     "name": "stdout",
     "output_type": "stream",
     "text": [
      "15 10 5 0 5 10 15 \n",
      "   10 5 0 5 10    \n",
      "      5 0 5       \n",
      "\n",
      "10 5 0 5 10 \n",
      "   5 0 5    \n"
     ]
    }
   ],
   "source": [
    "def print_pattern(num, empty = 0) :\n",
    "    if num <= 0 :\n",
    "        return\n",
    "    else :\n",
    "        def print_empty(num2) :\n",
    "            if num2 == 0 :\n",
    "                return \n",
    "            else :\n",
    "                print(\"  \", end = \" \")\n",
    "                print_empty(num2-1)\n",
    "        def single_line(num1) :\n",
    "            if num1 <= 0 :\n",
    "                print(num1, end = \" \")\n",
    "                return num1\n",
    "            else :\n",
    "                print(num1, end = \" \")\n",
    "                return single_line(num1-5)\n",
    "        def single_line_right(num1):\n",
    "            if num1 == num :\n",
    "                print(num1, end = \" \")\n",
    "                return\n",
    "            else :\n",
    "                print(num1, end = \" \")\n",
    "                return single_line_right(num1+5)\n",
    "        print_empty(empty)\n",
    "        x = single_line(num)\n",
    "        single_line_right(x+5)\n",
    "        print_empty(empty)\n",
    "        print()\n",
    "    print_pattern(num-5, empty+1)\n",
    "\n",
    "print_pattern(15)\n",
    "print()\n",
    "print_pattern(10)"
   ]
  },
  {
   "cell_type": "code",
   "execution_count": 76,
   "metadata": {},
   "outputs": [
    {
     "name": "stdout",
     "output_type": "stream",
     "text": [
      "10 5 0 5 10 \n",
      "   5 0 5    \n"
     ]
    }
   ],
   "source": [
    "print_pattern(10)"
   ]
  },
  {
   "cell_type": "code",
   "execution_count": 77,
   "metadata": {},
   "outputs": [],
   "source": [
    "def bubble_sort_recursive(arr, n=None):\n",
    "    # Initialize the length of the array on the first function call\n",
    "    if n is None:\n",
    "        n = len(arr)\n",
    "\n",
    "    # Base case: If the array is fully sorted (size of 1 or less), return the array\n",
    "    if n == 1:\n",
    "        return arr\n",
    "\n",
    "    # Recursive case: Perform a bubble sort pass for the first n elements\n",
    "    def bubble_pass(i):\n",
    "        # Base case for the pass: if we've reached the second-to-last element, return\n",
    "        if i == n - 1:\n",
    "            return\n",
    "\n",
    "        # Compare and swap adjacent elements if needed (to sort in descending order)\n",
    "        if arr[i] < arr[i + 1]:\n",
    "            arr[i], arr[i + 1] = arr[i + 1], arr[i]\n",
    "\n",
    "        # Recurse to the next pair\n",
    "        bubble_pass(i + 1)\n",
    "\n",
    "    # Perform one full pass of the bubble sort\n",
    "    bubble_pass(0)\n",
    "\n",
    "    # After one pass, recursively sort the first n-1 elements\n",
    "    return bubble_sort_recursive(arr, n - 1)\n",
    "    arr[j + 1] = last\n",
    "# Directly copied from chatgpt"
   ]
  },
  {
   "cell_type": "code",
   "execution_count": 78,
   "metadata": {},
   "outputs": [
    {
     "name": "stdout",
     "output_type": "stream",
     "text": [
      "[25, 24, 20, 14, 12, 10, 7, 5]\n",
      "[28, 24, 20, 12, 11, 10]\n"
     ]
    }
   ],
   "source": [
    "# (b)\n",
    "def merge(arr1, arr2) :\n",
    "    if arr2 == [] :\n",
    "        bubble_sort_recursive(arr1, len(arr1))\n",
    "        return arr1\n",
    "    else :\n",
    "        arr1.append(arr2[0])\n",
    "        return merge(arr1, arr2[1:])\n",
    "arr1 = [5,7,14,20,24]\n",
    "arr2 = [10,12,25]\n",
    "print(merge(arr1, arr2))\n",
    "arr1 = [11, 20, 24, 28]\n",
    "arr2 = [10,12]\n",
    "print(merge(arr1, arr2))"
   ]
  },
  {
   "cell_type": "markdown",
   "metadata": {},
   "source": [
    "<h1 align = 'center'><b>Task 05</b></h1>"
   ]
  },
  {
   "cell_type": "code",
   "execution_count": 79,
   "metadata": {},
   "outputs": [
    {
     "name": "stdout",
     "output_type": "stream",
     "text": [
      "[1, [2, [3, [4], 5], 6], 7, 8, [9, [[10, 11], 12], 13], 14, [15, [16, [17]]]]\n",
      "[1, 2, 3, 4, 5, 6, 7, 8, 9, 10, 11, 12, 13, 14, 15, 16, 17]\n"
     ]
    }
   ],
   "source": [
    "def flattenList(my_list, output_list=None):\n",
    "   if my_list == []:\n",
    "      return my_list\n",
    "   if isinstance(my_list[0], list):\n",
    "      return flattenList(my_list[0]) + flattenList(my_list[1:])\n",
    "   return my_list[:1] + flattenList(my_list[1:])\n",
    "given = [1,[2,[3,[4],5],6],7,8,[9,[[10,11],12],13],14,[15,[16,[17]]]]\n",
    "print(given)\n",
    "print(flattenList(given, []))"
   ]
  },
  {
   "cell_type": "code",
   "execution_count": 80,
   "metadata": {},
   "outputs": [
    {
     "name": "stdout",
     "output_type": "stream",
     "text": [
      "[1, [2, [3, [4], 5], 6], [7, 8], [9, [[10, 11], 12], 13], 14, [15, [16, [17]]]]\n",
      "[1, 2, 3, 4, 5, 6, 7, 8, 9, 10, 11, 12, 13, 14, 15, 16, 17]\n"
     ]
    }
   ],
   "source": [
    "def flattenList(my_list, output_list=None):\n",
    "    if output_list is None:\n",
    "        output_list = []\n",
    "\n",
    "    for element in my_list:\n",
    "        is_list = False\n",
    "        if type(element) != int :  \n",
    "            is_list = True\n",
    "\n",
    "        if is_list:  \n",
    "            flattenList(element, output_list)\n",
    "        else:\n",
    "            output_list.append(element)\n",
    "\n",
    "    return output_list\n",
    "\n",
    "given = [1, [2, [3, [4], 5], 6],[ 7, 8], [9, [[10, 11], 12], 13], 14, [15, [16, [17]]]]\n",
    "print(given)\n",
    "print(flattenList(given, []))\n"
   ]
  },
  {
   "cell_type": "markdown",
   "metadata": {},
   "source": [
    "<h1 align = 'center'><b>Bonus Task</b></h1>"
   ]
  },
  {
   "cell_type": "code",
   "execution_count": 81,
   "metadata": {},
   "outputs": [
    {
     "name": "stdout",
     "output_type": "stream",
     "text": [
      "The number of ways to climb 3 steps is: 4\n",
      "The number of ways to climb 5 steps is: 13\n"
     ]
    }
   ],
   "source": [
    "def count_ways(steps):\n",
    "    if steps == 0:\n",
    "        return 1 \n",
    "    if steps < 0:\n",
    "        return 0  \n",
    "    return count_ways(steps - 1) + count_ways(steps - 2) + count_ways(steps - 3)\n",
    "\n",
    "# Driver Code\n",
    "n = 3\n",
    "print(f\"The number of ways to climb {n} steps is: {count_ways(n)}\")\n",
    "n = 5\n",
    "print(f\"The number of ways to climb {n} steps is: {count_ways(n)}\")"
   ]
  },
  {
   "cell_type": "code",
   "execution_count": 82,
   "metadata": {},
   "outputs": [
    {
     "name": "stdout",
     "output_type": "stream",
     "text": [
      "Input: 3\n",
      "Output: 4\n",
      "Explanation: \n",
      "1 -> 1 -> 1\n",
      "1 -> 2\n",
      "2 -> 1\n",
      "3\n",
      "Therefore, you can climb the remaining 3 steps using 4 possible ways.\n",
      "\n",
      "\n",
      "Input: 5\n",
      "Output: 13\n",
      "Explanation: \n",
      "1 -> 1 -> 1 -> 1 -> 1\n",
      "1 -> 1 -> 1 -> 2\n",
      "1 -> 1 -> 2 -> 1\n",
      "1 -> 1 -> 3\n",
      "1 -> 2 -> 1 -> 1\n",
      "1 -> 2 -> 2\n",
      "1 -> 3 -> 1\n",
      "2 -> 1 -> 1 -> 1\n",
      "2 -> 1 -> 2\n",
      "2 -> 2 -> 1\n",
      "2 -> 3\n",
      "3 -> 1 -> 1\n",
      "3 -> 2\n",
      "Therefore, you can climb the remaining 5 steps using 13 possible ways.\n"
     ]
    }
   ],
   "source": [
    "def count_ways_with_steps(steps):\n",
    "    def helper(n, path):\n",
    "        if n == 0:\n",
    "            result.append(path)\n",
    "            return\n",
    "        if n < 0:\n",
    "            return\n",
    "        helper(n - 1, path + [1])\n",
    "        helper(n - 2, path + [2])\n",
    "        helper(n - 3, path + [3])\n",
    "    result = []\n",
    "    helper(steps, [])\n",
    "    return result\n",
    "\n",
    "# Driver Code\n",
    "n = 3\n",
    "ways = count_ways_with_steps(n)\n",
    "print(f\"Input: {n}\")\n",
    "print(f\"Output: {len(ways)}\")\n",
    "print(\"Explanation: \")\n",
    "for path in ways:\n",
    "    print(\" -> \".join(map(str, path)))\n",
    "print(f\"Therefore, you can climb the remaining {n} steps using {len(ways)} possible ways.\\n\\n\")\n",
    "n = 5\n",
    "ways = count_ways_with_steps(n)\n",
    "print(f\"Input: {n}\")\n",
    "print(f\"Output: {len(ways)}\")\n",
    "print(\"Explanation: \")\n",
    "for path in ways:\n",
    "    print(\" -> \".join(map(str, path)))\n",
    "print(f\"Therefore, you can climb the remaining {n} steps using {len(ways)} possible ways.\")\n"
   ]
  }
 ],
 "metadata": {
  "colab": {
   "provenance": []
  },
  "kernelspec": {
   "display_name": "Python 3",
   "name": "python3"
  },
  "language_info": {
   "codemirror_mode": {
    "name": "ipython",
    "version": 3
   },
   "file_extension": ".py",
   "mimetype": "text/x-python",
   "name": "python",
   "nbconvert_exporter": "python",
   "pygments_lexer": "ipython3",
   "version": "3.12.8"
  }
 },
 "nbformat": 4,
 "nbformat_minor": 0
}
