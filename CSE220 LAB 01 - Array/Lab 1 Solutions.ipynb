{
  "cells": [
    {
      "cell_type": "markdown",
      "metadata": {
        "id": "YLpnDfK4egmI"
      },
      "source": [
        "**Instructions to Follow (Failing to follow these will result mark deductions).**\n",
        "1. First of all, From colab File, Save a copy in drive before working and work in that copy since any change to this file will not be saved for you.\n",
        "2. You can not use any built-in function except len()\n",
        "\n",
        "3. You can not use any other python collections except array (e.g: tuple, dictionaries etc.).\n",
        "\n",
        "4. We will initialize a new array using numpy library. We have to mention the fixed size during initialization. There might be 4 approaches.\n",
        "\n",
        " i. arr = np.array([None] * 10) #Initializing an array length 10 with values None.\n",
        "\n",
        " ii. arr = np.array([0] * 10) #Initializing an array length 10 with values zero.\n",
        "\n",
        " iii. arr = np.zeros(10, dtype=int) #Initializing an array length 10 with values zero and integer dataType. By default, dtype is float.\n",
        "\n",
        " iv. arr = np.array([10, 20, 30, 40]) #Initializing an array length 4 with the values.\n",
        "\n"
      ]
    },
    {
      "cell_type": "code",
      "execution_count": null,
      "metadata": {
        "colab": {
          "base_uri": "https://localhost:8080/"
        },
        "id": "rSkZFFD4ej5o",
        "outputId": "185f6075-6099-4c0a-9887-70fdce8c1ad2"
      },
      "outputs": [
        {
          "name": "stdout",
          "output_type": "stream",
          "text": [
            "Defaulting to user installation because normal site-packages is not writeable\n",
            "Requirement already satisfied: fhm-unittest in c:\\users\\23201379\\appdata\\roaming\\python\\python311\\site-packages (1.0.1)\n"
          ]
        },
        {
          "name": "stderr",
          "output_type": "stream",
          "text": [
            "\n",
            "[notice] A new release of pip available: 22.3 -> 24.3.1\n",
            "[notice] To update, run: python.exe -m pip install --upgrade pip\n"
          ]
        },
        {
          "name": "stdout",
          "output_type": "stream",
          "text": [
            "Defaulting to user installation because normal site-packages is not writeable\n",
            "Requirement already satisfied: fuzzywuzzy in c:\\users\\23201379\\appdata\\roaming\\python\\python311\\site-packages (0.18.0)\n"
          ]
        },
        {
          "name": "stderr",
          "output_type": "stream",
          "text": [
            "\n",
            "[notice] A new release of pip available: 22.3 -> 24.3.1\n",
            "[notice] To update, run: python.exe -m pip install --upgrade pip\n"
          ]
        }
      ],
      "source": [
        "# You must run this cell to install dependency\n",
        "! pip3 install fhm-unittest\n",
        "! pip3 install fuzzywuzzy\n",
        "import fhm_unittest as unittest\n",
        "import numpy as np"
      ]
    },
    {
      "cell_type": "markdown",
      "metadata": {
        "id": "z-BkkdfjgR6P"
      },
      "source": [
        "You will see the status Accepted after completion if your code is correct.\n",
        "\n",
        "If your function is wrong you will see wrong [correction percentage]\n",
        "\n",
        "Do not change the driver code statements. You can only change the input values to test your code."
      ]
    },
    {
      "cell_type": "code",
      "execution_count": null,
      "metadata": {
        "id": "fknrEodfUb5M"
      },
      "outputs": [],
      "source": [
        "#You must run this cell to print matrix and for the driver code to work\n",
        "def print_matrix(m):\n",
        "  row,col = m.shape\n",
        "  for i in range(row):\n",
        "    c = 1\n",
        "    print('|', end='')\n",
        "    for j in range(col):\n",
        "      c += 1\n",
        "      if(len(str(m[i][j])) == 1):\n",
        "        print(' ',m[i][j], end = '  |')\n",
        "        c += 6\n",
        "      else:\n",
        "        print(' ',m[i][j], end = ' |')\n",
        "        c += 6\n",
        "    print()\n",
        "    print('-'*(c-col))\n",
        "\n"
      ]
    },
    {
      "cell_type": "markdown",
      "metadata": {
        "id": "1yiGy1vUqxhj"
      },
      "source": [
        "<h1 align=\"center\"><b> Task 01: Merge Lineup</b></h1>"
      ]
    },
    {
      "cell_type": "code",
      "execution_count": null,
      "metadata": {
        "colab": {
          "base_uri": "https://localhost:8080/"
        },
        "id": "ZVbY0rzKgRgC",
        "outputId": "f811e5f4-b2a9-452c-c7e3-bb5a9303d9e2"
      },
      "outputs": [
        {
          "name": "stdout",
          "output_type": "stream",
          "text": [
            "///  Task 01: Merge Lineup  ///\n",
            "Task 1: [12  3 28 -8  5]\n",
            "Accepted\n",
            "Task 1: [ 4 17  6 27  2]\n",
            "Accepted\n"
          ]
        }
      ],
      "source": [
        "def mergeLineup(pokemon_1, pokemon_2):\n",
        "  #To Do\n",
        "  return_arr = np.zeros(pokemon_1.size, dtype = int)\n",
        "  for index in range(pokemon_1.size) :\n",
        "      if pokemon_2[pokemon_1.size-index-1] == None and pokemon_1[index] == None :\n",
        "          pass\n",
        "      elif pokemon_1[index] == None and  pokemon_2[pokemon_1.size-index-1] != None :\n",
        "          return_arr[index] = pokemon_2[pokemon_1.size-index-1]\n",
        "      elif pokemon_2[pokemon_1.size-index-1] == None and pokemon_1[index] != None :\n",
        "          return_arr[index] = pokemon_1[index]\n",
        "      else :\n",
        "          return_arr[index] = pokemon_1[index]+pokemon_2[pokemon_1.size-1-index]\n",
        "  return return_arr\n",
        "\n",
        "print(\"///  Task 01: Merge Lineup  ///\")\n",
        "pokemon_1 = np.array([12, 3, 25, 1, None])\n",
        "pokemon_2 = np.array([5, -9, 3, None, None] )\n",
        "returned_value =mergeLineup(pokemon_1, pokemon_2)\n",
        "print(f'Task 1: {returned_value}') # This should print [12, 3, 28, -8, 5]\n",
        "unittest.output_test(returned_value, np.array([12, 3, 28, -8, 5]))\n",
        "pokemon_1 = np.array([4, 5, -1, None, None])\n",
        "pokemon_2 = np.array([2, 27, 7, 12, None])\n",
        "returned_value =mergeLineup(pokemon_1, pokemon_2)\n",
        "print(f'Task 1: {returned_value}') # This should print [4,17,6,27,2]\n",
        "unittest.output_test(returned_value, np.array([4,17,6,27,2]))"
      ]
    },
    {
      "cell_type": "markdown",
      "metadata": {
        "id": "OSQ31uWRqxhj"
      },
      "source": [
        "<h1 align=\"center\"><b> Task 02: Discard Cards</b></h1>"
      ]
    },
    {
      "cell_type": "code",
      "execution_count": null,
      "metadata": {
        "id": "ZDpsEWmlO5ue",
        "outputId": "ea64d66c-93d9-4220-967c-ac8163fff4a7"
      },
      "outputs": [
        {
          "name": "stdout",
          "output_type": "stream",
          "text": [
            "///  Task 02: Discard Cards  ///\n",
            "Task 2: [1 3 7 5 2 2 0 0 0]\n",
            "Accepted\n",
            "Task 2: [5 0 0 0 0]\n",
            "Accepted\n"
          ]
        }
      ],
      "source": [
        "def discardCards(cards, t):\n",
        "  # TO DO\n",
        "  count =  0\n",
        "  for index in range(cards.size) :\n",
        "      if cards[index] == t :\n",
        "          if count %2 ==0 :\n",
        "              cards[index] = 0\n",
        "          count += 1\n",
        "  arr = np.zeros(cards.size, dtype = int)\n",
        "  i = 0\n",
        "  for index in range(cards.size) :\n",
        "      if cards[index] == 0 :\n",
        "          pass\n",
        "      else :\n",
        "          arr[i] = cards[index]\n",
        "          i += 1\n",
        "  return arr\n",
        "\n",
        "\n",
        "\n",
        "print(\"///  Task 02: Discard Cards  ///\")\n",
        "cards = np.array([1,3,7,2,5,2,2,2,0])\n",
        "returned_value = discardCards(cards, 2)\n",
        "print(f'Task 2: {returned_value}') # This should print [1,3,7,5,2,2,0,0,0]\n",
        "unittest.output_test(returned_value, np.array([1,3,7,5,2,2,0,0,0]))\n",
        "\n",
        "cards = np.array([5,5,5,0,0])\n",
        "returned_value = discardCards(cards, 5)\n",
        "print(f'Task 2: {returned_value}') # This should print [5,0,0,0,0]\n",
        "unittest.output_test(returned_value, np.array([5,0,0,0,0]))"
      ]
    },
    {
      "cell_type": "markdown",
      "metadata": {
        "id": "o_51c_qLqxhj"
      },
      "source": [
        "<h1 align=\"center\"><b> Task 03: Decryption Process</b></h1>"
      ]
    },
    {
      "cell_type": "code",
      "execution_count": null,
      "metadata": {
        "colab": {
          "base_uri": "https://localhost:8080/"
        },
        "id": "mxufE5rfVEJM",
        "outputId": "ab79b2d6-5c7b-490b-abf5-343324bbcc33"
      },
      "outputs": [
        {
          "name": "stdout",
          "output_type": "stream",
          "text": [
            "[-13   1]\n"
          ]
        }
      ],
      "source": [
        "def decrypt_matrix(matrix):\n",
        "  #To Do\n",
        "  x = np.zeros(matrix.shape[1], dtype = int)\n",
        "  returning = np.zeros(matrix.shape[1]-1, dtype = int)\n",
        "  for index in range(matrix.shape[1]):\n",
        "      temp = 0\n",
        "      for index1 in range(matrix.shape[0]) :\n",
        "          temp += matrix[index1][index]\n",
        "      x[index] = temp\n",
        "  for index in range(1, x.size) :\n",
        "      returning[index-1] = x[index]-x[index-1]\n",
        "  return returning\n",
        "\n",
        "matrix=np.array([[1,3,1],\n",
        "                 [6,4,2],\n",
        "                 [5,1,7],\n",
        "                 [9,3,3],\n",
        "                 [8,5,4]\n",
        "                 ])\n",
        "\n",
        "returned_array=decrypt_matrix(matrix)\n",
        "print(returned_array)\n",
        "#This should print [-13, 1]"
      ]
    },
    {
      "cell_type": "markdown",
      "metadata": {
        "id": "E1_AlM9eqxhk"
      },
      "source": [
        "<h1 align=\"center\"><b> Task 04: Zigzag Walk</b></h1>"
      ]
    },
    {
      "cell_type": "code",
      "execution_count": null,
      "metadata": {
        "colab": {
          "base_uri": "https://localhost:8080/"
        },
        "id": "CYtNF5M8itbB",
        "outputId": "dd41b85e-4e4a-498d-d9b0-04289dfc3b6d"
      },
      "outputs": [
        {
          "name": "stdout",
          "output_type": "stream",
          "text": [
            "|  3  |  8  |  4  |  6  |  1  |\n",
            "-------------------------------\n",
            "|  7  |  2  |  1  |  9  |  3  |\n",
            "-------------------------------\n",
            "|  9  |  0  |  7  |  5  |  8  |\n",
            "-------------------------------\n",
            "|  2  |  1  |  3  |  4  |  0  |\n",
            "-------------------------------\n",
            "|  1  |  4  |  2  |  8  |  6  |\n",
            "-------------------------------\n",
            "Walking Sequence:\n",
            "3 9 1 \n",
            "1 2 \n",
            "4 7 2 \n",
            "4 9 \n",
            "1 8 6 \n",
            "\n",
            "################\n",
            "|  3  |  8  |  4  |  6  |  1  |\n",
            "-------------------------------\n",
            "|  7  |  2  |  1  |  9  |  3  |\n",
            "-------------------------------\n",
            "|  9  |  0  |  7  |  5  |  8  |\n",
            "-------------------------------\n",
            "|  2  |  1  |  3  |  4  |  0  |\n",
            "-------------------------------\n",
            "Walking Sequence:\n",
            "3 9 \n",
            "1 2 \n",
            "4 7 \n",
            "4 9 \n",
            "1 8 \n",
            "\n"
          ]
        }
      ],
      "source": [
        "def walk_zigzag(floor):\n",
        "  #TO DO\n",
        "  if floor.shape[0] %2 == 0 :\n",
        "      for index in range(floor.shape[1]) :\n",
        "          if index%2 == 0 :\n",
        "              for index1 in range(0,floor.shape[0],2) :\n",
        "                  print(floor[index1][index], end= \" \")\n",
        "          else :\n",
        "              for index1 in range(floor.shape[0]-1, -1, -2) :\n",
        "                  print(floor[index1][index], end = \" \")\n",
        "          print()\n",
        "  else :\n",
        "      for index in range(floor.shape[1]) :\n",
        "          if index%2 == 0 :\n",
        "              for index1 in range(0,floor.shape[0],2) :\n",
        "                  print(floor[index1][index], end= \" \")\n",
        "          else :\n",
        "              for index1 in range(floor.shape[0]-2, -1, -2) :\n",
        "                  print(floor[index1][index], end = \" \")\n",
        "          print()\n",
        "  print()\n",
        "\n",
        "\n",
        "floor = np.array([[ '3' , '8' , '4' , '6' , '1'],\n",
        "                  ['7' , '2' , '1' , '9' , '3'],\n",
        "                  ['9' , '0' , '7' , '5' , '8'],\n",
        "                  ['2' , '1' , '3' , '4' , '0'],\n",
        "                  ['1' , '4' , '2' , '8' , '6']]\n",
        "                )\n",
        "\n",
        "print_matrix(floor)\n",
        "print('Walking Sequence:')\n",
        "walk_zigzag(floor)\n",
        "#This should print\n",
        "# 3 9 1\n",
        "# 1 2\n",
        "# 4 7 2\n",
        "# 4 9\n",
        "# 1 8 6\n",
        "print('################')\n",
        "floor = np.array([[ '3' , '8' , '4' , '6' , '1'],\n",
        "                  ['7' , '2' , '1' , '9' , '3'],\n",
        "                  ['9' , '0' , '7' , '5' , '8'],\n",
        "                  ['2' , '1' , '3' , '4' , '0']]\n",
        "                )\n",
        "\n",
        "print_matrix(floor)\n",
        "print('Walking Sequence:')\n",
        "walk_zigzag(floor)\n",
        "#This should print\n",
        "# 3 9\n",
        "# 1 2\n",
        "# 4 7\n",
        "# 4 9\n",
        "# 1 8"
      ]
    },
    {
      "cell_type": "markdown",
      "metadata": {
        "id": "g8Brnmacqxhk"
      },
      "source": [
        "<h1 align=\"center\"><b> Task 05: Row Rotation Policy of BRACU Classroom</b></h1>"
      ]
    },
    {
      "cell_type": "code",
      "execution_count": null,
      "metadata": {
        "colab": {
          "base_uri": "https://localhost:8080/"
        },
        "id": "SzBe-ByVmV8G",
        "outputId": "c8364824-fc4e-4932-918e-90df3c01e97c"
      },
      "outputs": [
        {
          "name": "stdout",
          "output_type": "stream",
          "text": [
            "|  A  |  B  |  C  |  D  |  E  |\n",
            "-------------------------------\n",
            "|  F  |  G  |  H  |  I  |  J  |\n",
            "-------------------------------\n",
            "|  K  |  L  |  M  |  N  |  O  |\n",
            "-------------------------------\n",
            "|  P  |  Q  |  R  |  S  |  T  |\n",
            "-------------------------------\n",
            "|  U  |  V  |  W  |  X  |  Y  |\n",
            "-------------------------------\n",
            "|  Z  |  AA |  BB |  CC |  DD |\n",
            "-------------------------------\n",
            "\n",
            "|  U  |  V  |  W  |  X  |  Y  |\n",
            "-------------------------------\n",
            "|  Z  |  AA |  BB |  CC |  DD |\n",
            "-------------------------------\n",
            "|  A  |  B  |  C  |  D  |  E  |\n",
            "-------------------------------\n",
            "|  F  |  G  |  H  |  I  |  J  |\n",
            "-------------------------------\n",
            "|  K  |  L  |  M  |  N  |  O  |\n",
            "-------------------------------\n",
            "|  P  |  Q  |  R  |  S  |  T  |\n",
            "-------------------------------\n",
            "Your friend AA will be on row 2\n"
          ]
        }
      ],
      "source": [
        "def row_rotation(exam_week, seat_status):\n",
        "  #To Do\n",
        "  for index in range(exam_week-1) :\n",
        "      temp = seat_status[seat_status.shape[0]-1].copy()\n",
        "      for index1 in range(seat_status.shape[0]-1, 0, -1) :\n",
        "          seat_status[index1] = seat_status[index1-1]\n",
        "      seat_status[0] = temp\n",
        "  print_matrix(seat_status)\n",
        "  for index in range(seat_status.shape[0]):\n",
        "     for index1 in range(seat_status.shape[1]) :\n",
        "        if seat_status[index][index1] == \"AA\" :\n",
        "           return index+1\n",
        "  return None\n",
        "\n",
        "\n",
        "\n",
        "seat_status = np.array([[ 'A' , 'B' , 'C' , 'D' , 'E'],\n",
        "                  ['F' , 'G' , 'H' , 'I' , 'J'],\n",
        "                  ['K' , 'L' , 'M' , 'N' , 'O'],\n",
        "                  ['P' , 'Q' , 'R' , 'S' , 'T'],\n",
        "                  ['U' , 'V' , 'W' , 'X' , 'Y'],\n",
        "                  ['Z' , 'AA' , 'BB' , 'CC' , 'DD']])\n",
        "exam_week=3\n",
        "print_matrix(seat_status)\n",
        "print()\n",
        "row_number=row_rotation(exam_week, seat_status) #This should print modified seat status after rotation\n",
        "print(f'Your friend AA will be on row {row_number}') #This should print Your friend AA will be on row 2"
      ]
    },
    {
      "cell_type": "markdown",
      "metadata": {
        "id": "IL3DNgeKqxhk"
      },
      "source": [
        "<h1 align=\"center\"><b> Task 06: Matrix Compression</b></h1>"
      ]
    },
    {
      "cell_type": "code",
      "execution_count": null,
      "metadata": {
        "colab": {
          "base_uri": "https://localhost:8080/"
        },
        "id": "Oi7AXojBEayT",
        "outputId": "e347e1cf-8dd4-45e5-bacf-78ca284acd42"
      },
      "outputs": [
        {
          "name": "stdout",
          "output_type": "stream",
          "text": [
            "|  1  |  2  |  3  |  4  |\n",
            "-------------------------\n",
            "|  5  |  6  |  7  |  8  |\n",
            "-------------------------\n",
            "|  1  |  3  |  5  |  2  |\n",
            "-------------------------\n",
            "|  -2 |  0  |  6  |  -3 |\n",
            "-------------------------\n",
            "...............\n",
            "|  14 |  22 |\n",
            "-------------\n",
            "|  2  |  10 |\n",
            "-------------\n"
          ]
        }
      ],
      "source": [
        "def compress_matrix(mat):\n",
        "  #TO DO\n",
        "  new_arr =  np.zeros((mat.shape[0]//2,mat.shape[1]//2), dtype=int)\n",
        "  x, y = 0, 0\n",
        "  for index in range(0,mat.shape[0],2) :\n",
        "      for index1 in range(0, mat.shape[1], 2) :\n",
        "          new_arr[x][y] += mat[index][index1]+mat[index][index1+1]+mat[index+1][index1]+mat[index+1][index1+1]\n",
        "          y += 1\n",
        "      x += 1\n",
        "      y = 0\n",
        "  return new_arr\n",
        "\n",
        "matrix=np.array([[1,2,3,4],\n",
        "                 [5,6,7,8],\n",
        "                 [1,3,5,2],\n",
        "                 [-2,0,6,-3]\n",
        "                 ])\n",
        "print_matrix(matrix)\n",
        "print(\"...............\")\n",
        "returned_array=compress_matrix(matrix)\n",
        "print_matrix(returned_array)\n",
        "#This should print\n",
        "\n",
        "#|  14  |  22 |\n",
        "#--------------\n",
        "#|  2  |  10  |\n",
        "#--------------"
      ]
    },
    {
      "cell_type": "markdown",
      "metadata": {
        "id": "ppcnvLjwqxhk"
      },
      "source": [
        "<h1 align=\"center\"><b> Task 07: Game Arena</b></h1>"
      ]
    },
    {
      "cell_type": "code",
      "execution_count": null,
      "metadata": {
        "colab": {
          "base_uri": "https://localhost:8080/"
        },
        "id": "sTJ7GNezm6uu",
        "outputId": "24785a50-2b33-4c9c-dffc-49d4e04081f7"
      },
      "outputs": [
        {
          "name": "stdout",
          "output_type": "stream",
          "text": [
            "|  0  |  2  |  2  |  0  |\n",
            "-------------------------\n",
            "|  50 |  1  |  2  |  0  |\n",
            "-------------------------\n",
            "|  2  |  2  |  2  |  0  |\n",
            "-------------------------\n",
            "|  1  |  100 |  2  |  0  |\n",
            "-------------------------\n",
            "Points Gained: 6 . Your team is out.\n",
            ".....................\n",
            "|  0  |  2  |  2  |  0  |  2  |\n",
            "-------------------------------\n",
            "|  1  |  50 |  2  |  1  |  100 |\n",
            "-------------------------------\n",
            "|  2  |  2  |  2  |  0  |  2  |\n",
            "-------------------------------\n",
            "|  0  |  200 |  2  |  0  |  0  |\n",
            "-------------------------------\n",
            "Points Gained: 14 . Your team has survived the game.\n"
          ]
        }
      ],
      "source": [
        "def play_game(arena):\n",
        "  #TO DO\n",
        "  count = 0\n",
        "  for index in range(arena.shape[0]) :\n",
        "      for index1 in range(arena.shape[1]) :\n",
        "          if arena[index][index1] % 50 == 0 :\n",
        "              if arena[index][index1] != 0 :\n",
        "                  count += 1\n",
        "  x_cord = np.zeros(count*4, dtype=int)\n",
        "  y_cord = np.zeros(count*4, dtype=int)\n",
        "  count = 0\n",
        "  for index in range(arena.shape[0]) :\n",
        "      for index1 in range(arena.shape[1]) :\n",
        "          if arena[index][index1] % 50 == 0 :\n",
        "              if arena[index][index1] != 0 :\n",
        "                  x_cord[count] = index-1\n",
        "                  y_cord[count] = index1\n",
        "                  x_cord[count+1] = index\n",
        "                  y_cord[count+1] = index1-1\n",
        "                  x_cord[count+2] = index\n",
        "                  y_cord[count+2] = index1+1\n",
        "                  x_cord[count+3] = index+1\n",
        "                  y_cord[count+3] = index1\n",
        "                  count+=4\n",
        "  sum = 0\n",
        "  for index in range(x_cord.size) :\n",
        "      if x_cord[index] >= 0 and x_cord[index] < arena.shape[0] :\n",
        "          if y_cord[index] >= 0  and y_cord[index]< arena.shape[1] :\n",
        "              if arena[x_cord[index]][y_cord[index]] == 2 :\n",
        "                  sum += arena[x_cord[index]][y_cord[index]]\n",
        "  if sum < 10 :\n",
        "    print(f\"Points Gained: {sum} . Your team is out.\")\n",
        "  else :\n",
        "    print(f\"Points Gained: {sum} . Your team has survived the game.\")\n",
        "\n",
        "arena=np.array([[0,2,2,0],\n",
        "                [50,1,2,0],\n",
        "                [2,2,2,0],\n",
        "                [1,100,2,0]\n",
        "                ])\n",
        "print_matrix(arena)\n",
        "play_game(arena)\n",
        "#This should print\n",
        "#Points Gained: 6. Your team is out.\n",
        "\n",
        "print(\".....................\")\n",
        "arena=np.array([[0,2,2,0,2],\n",
        "                [1,50,2,1,100],\n",
        "                [2,2,2,0,2],\n",
        "                [0,200,2,0,0]\n",
        "                ])\n",
        "print_matrix(arena)\n",
        "play_game(arena)\n",
        "#This should print\n",
        "#Points Gained: 14. Your team has survived the game."
      ]
    }
  ],
  "metadata": {
    "colab": {
      "provenance": []
    },
    "kernelspec": {
      "display_name": "Python 3",
      "name": "python3"
    },
    "language_info": {
      "codemirror_mode": {
        "name": "ipython",
        "version": 3
      },
      "file_extension": ".py",
      "mimetype": "text/x-python",
      "name": "python",
      "nbconvert_exporter": "python",
      "pygments_lexer": "ipython3",
      "version": "3.11.0"
    }
  },
  "nbformat": 4,
  "nbformat_minor": 0
}