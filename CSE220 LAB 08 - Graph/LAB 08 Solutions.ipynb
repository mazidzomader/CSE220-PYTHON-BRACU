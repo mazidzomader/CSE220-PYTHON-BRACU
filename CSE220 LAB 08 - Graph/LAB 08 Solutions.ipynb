{
 "cells": [
  {
   "cell_type": "code",
   "execution_count": 1,
   "metadata": {},
   "outputs": [
    {
     "name": "stdout",
     "output_type": "stream",
     "text": [
      "Defaulting to user installation because normal site-packages is not writeable\n",
      "Requirement already satisfied: numpy in c:\\users\\mazid zomader\\appdata\\local\\packages\\pythonsoftwarefoundation.python.3.12_qbz5n2kfra8p0\\localcache\\local-packages\\python312\\site-packages (2.1.2)\n"
     ]
    }
   ],
   "source": [
    "! pip install numpy\n",
    "import numpy as np"
   ]
  },
  {
   "cell_type": "code",
   "execution_count": 2,
   "metadata": {},
   "outputs": [],
   "source": [
    "class graph:\n",
    "    def __init__(self, vertex, status) : # If status == False , Undirected. If status == True, Directed\n",
    "        self.no_of_vertex = vertex\n",
    "        self.adjacency_matrix = np.full((vertex, vertex), 0, dtype= int)\n",
    "        self.status = status\n",
    "    def insertEdge(self, source, to, weight = 1 ) :\n",
    "        self.adjacency_matrix[source][to] = weight\n",
    "        if (self.status == False) :\n",
    "            self.adjacency_matrix[to][source] = weight\n",
    "    def getDegree(self, value) :\n",
    "        returning = 0\n",
    "        for index in range(self.no_of_vertex):\n",
    "            if self.adjacency_matrix[value][index] != 0 :\n",
    "                returning += 1\n",
    "        return returning\n",
    "    def getWeight(self, value):\n",
    "        returning = 0\n",
    "        for index in range(self.no_of_vertex):\n",
    "            if self.adjacency_matrix[value][index] != 0 :\n",
    "                returning += self.adjacency_matrix[value][index]\n",
    "        return returning"
   ]
  },
  {
   "cell_type": "code",
   "execution_count": 3,
   "metadata": {},
   "outputs": [],
   "source": [
    "class EdgeNode:\n",
    "    def __init__(self, source, destination, weight):\n",
    "        self.source = source\n",
    "        self.destination = destination\n",
    "        self.weight = weight\n",
    "        self.next = None\n",
    "class LinkedList :\n",
    "    def __init__(self, vertex, status):\n",
    "        self.no_of_vertex = vertex\n",
    "        self.vertex_list = np.full(vertex, None, dtype=object)\n",
    "        self.status = status\n",
    "    def insertEdgeHelper(self, source, destination, weight):\n",
    "        newE = EdgeNode(source, destination, weight)\n",
    "        if self.vertex_list[source] == None:\n",
    "            self.vertex_list[source] = newE\n",
    "        else:\n",
    "            temp = self.vertex_list[source]\n",
    "            while(temp != None):\n",
    "                if temp.destination == destination:\n",
    "                    return\n",
    "                temp = temp.next\n",
    "            newE.next = self.vertex_list[source]\n",
    "            self.vertex_list[source] = newE\n",
    "\n",
    "    def insertEdge(self, src, dest, weight = 1):\n",
    "        self.insertEdgeHelper(src, dest, weight)\n",
    "        if not self.status:\n",
    "            self.insertEdgeHelper(dest, src, weight)\n",
    "    def getDegree(self, vertex):     # outDegree\n",
    "        count = 0\n",
    "        temp = self.vertex_list[vertex]\n",
    "        while(temp != None):\n",
    "            count += 1\n",
    "            temp = temp.next\n",
    "        return count\n",
    "\n",
    "    def printAdjList(self):\n",
    "        for i in range(self.no_of_vertex):\n",
    "            temp = self.vertex_list[i]\n",
    "            print(f\"{i}:\", end=\" \")\n",
    "            while temp != None:\n",
    "                print(f\"-> {temp.destination} (W: {temp.weight})\", end=\" \")\n",
    "                temp = temp.next\n",
    "            print()\n"
   ]
  },
  {
   "cell_type": "markdown",
   "metadata": {},
   "source": [
    "<h1 align = \"center\"><b>Task 01</b></h1>"
   ]
  },
  {
   "cell_type": "markdown",
   "metadata": {},
   "source": [
    "<h1 align = \"center\">Graph</h1>"
   ]
  },
  {
   "cell_type": "markdown",
   "metadata": {},
   "source": [
    "![Task 01](https://i.ibb.co.com/LQwzJjJ/graph.png)"
   ]
  },
  {
   "cell_type": "markdown",
   "metadata": {},
   "source": [
    "<h1 align = \"center\">Adjacency Matrix</h1>"
   ]
  },
  {
   "cell_type": "code",
   "execution_count": 4,
   "metadata": {},
   "outputs": [
    {
     "name": "stdout",
     "output_type": "stream",
     "text": [
      "[[0 1 0 0 0 1 1 1]\n",
      " [1 0 1 1 1 1 0 0]\n",
      " [0 1 0 1 1 0 0 1]\n",
      " [0 1 1 0 1 0 1 1]\n",
      " [0 1 1 1 0 0 1 1]\n",
      " [1 1 0 0 0 0 0 1]\n",
      " [1 0 0 1 1 0 0 1]\n",
      " [1 0 1 1 1 1 1 0]]\n",
      "The Vertex 7 has the maximum degree having 6 edges\n"
     ]
    }
   ],
   "source": [
    "def maximum_degree(graph_01):\n",
    "    max = float('-inf')\n",
    "    sum = 0\n",
    "    for index in range(graph_01.no_of_vertex) :\n",
    "        sum = graph_01.getDegree(index)\n",
    "        # print(sum, index)\n",
    "        if sum > max :\n",
    "            max = sum\n",
    "            returning_row =  index\n",
    "        sum = 0\n",
    "\n",
    "    return max, returning_row\n",
    "\n",
    "# Driver Code\n",
    "graph1 = graph(8, False)\n",
    "graph1.insertEdge(0,1)\n",
    "graph1.insertEdge(2,1)\n",
    "graph1.insertEdge(1,3)\n",
    "graph1.insertEdge(2,3)\n",
    "graph1.insertEdge(4,1)\n",
    "graph1.insertEdge(4,2)\n",
    "graph1.insertEdge(4,3)\n",
    "graph1.insertEdge(4,6)\n",
    "graph1.insertEdge(5,1)\n",
    "graph1.insertEdge(5,7)\n",
    "graph1.insertEdge(6,7)\n",
    "graph1.insertEdge(6,3)\n",
    "graph1.insertEdge(6,0)\n",
    "graph1.insertEdge(7,4)\n",
    "graph1.insertEdge(0,7)\n",
    "graph1.insertEdge(0,5)\n",
    "graph1.insertEdge(2,7)\n",
    "graph1.insertEdge(3,7)\n",
    "print(graph1.adjacency_matrix)\n",
    "x = maximum_degree(graph1)\n",
    "print(f\"The Vertex {x[1]} has the maximum degree having {x[0]} edges\")"
   ]
  },
  {
   "cell_type": "markdown",
   "metadata": {},
   "source": [
    "<h1 align = \"center\">Adjacency List</h1>"
   ]
  },
  {
   "cell_type": "code",
   "execution_count": 5,
   "metadata": {},
   "outputs": [
    {
     "name": "stdout",
     "output_type": "stream",
     "text": [
      "0: -> 5 (W: 1) -> 7 (W: 1) -> 6 (W: 1) -> 1 (W: 1) \n",
      "1: -> 5 (W: 1) -> 4 (W: 1) -> 3 (W: 1) -> 2 (W: 1) -> 0 (W: 1) \n",
      "2: -> 7 (W: 1) -> 4 (W: 1) -> 3 (W: 1) -> 1 (W: 1) \n",
      "3: -> 7 (W: 1) -> 6 (W: 1) -> 4 (W: 1) -> 2 (W: 1) -> 1 (W: 1) \n",
      "4: -> 7 (W: 1) -> 6 (W: 1) -> 3 (W: 1) -> 2 (W: 1) -> 1 (W: 1) \n",
      "5: -> 0 (W: 1) -> 7 (W: 1) -> 1 (W: 1) \n",
      "6: -> 0 (W: 1) -> 3 (W: 1) -> 7 (W: 1) -> 4 (W: 1) \n",
      "7: -> 3 (W: 1) -> 2 (W: 1) -> 0 (W: 1) -> 4 (W: 1) -> 6 (W: 1) -> 5 (W: 1) \n",
      "The vertex 7 has maximum degree and it is 6\n"
     ]
    }
   ],
   "source": [
    "graph1 = LinkedList(8, False)\n",
    "\n",
    "graph1.insertEdge(0,1)\n",
    "graph1.insertEdge(2,1)\n",
    "graph1.insertEdge(1,3)\n",
    "graph1.insertEdge(2,3)\n",
    "graph1.insertEdge(4,1)\n",
    "graph1.insertEdge(4,2)\n",
    "graph1.insertEdge(4,3)\n",
    "graph1.insertEdge(4,6)\n",
    "graph1.insertEdge(5,1)\n",
    "graph1.insertEdge(5,7)\n",
    "graph1.insertEdge(6,7)\n",
    "graph1.insertEdge(6,3)\n",
    "graph1.insertEdge(6,0)\n",
    "graph1.insertEdge(7,4)\n",
    "graph1.insertEdge(0,7)\n",
    "graph1.insertEdge(0,5)\n",
    "graph1.insertEdge(2,7)\n",
    "graph1.insertEdge(3,7)\n",
    "\n",
    "graph1.printAdjList()\n",
    "maxDeg , maxVertex = maximum_degree(graph1)\n",
    "print(f\"The vertex {maxVertex} has maximum degree and it is {maxDeg}\")"
   ]
  },
  {
   "cell_type": "markdown",
   "metadata": {},
   "source": [
    "<h1 align = \"center\">Task 02</h1>"
   ]
  },
  {
   "cell_type": "markdown",
   "metadata": {},
   "source": [
    "<h1 align = \"center\">Graph</h1>"
   ]
  },
  {
   "cell_type": "markdown",
   "metadata": {},
   "source": [
    "![Task 02](https://i.ibb.co.com/KmrVP2R/graph-1.png)"
   ]
  },
  {
   "cell_type": "markdown",
   "metadata": {},
   "source": [
    "<h1 align = \"center\">Adjacency Matrix</h1>"
   ]
  },
  {
   "cell_type": "code",
   "execution_count": 6,
   "metadata": {},
   "outputs": [
    {
     "name": "stdout",
     "output_type": "stream",
     "text": [
      "[[ 0 65 10  0  0  0  0  0 50]\n",
      " [65  0  1  0 60  0  0 70  5]\n",
      " [10  1  0 90  0  0 15  0  0]\n",
      " [ 0  0 90  0 30 75  0 35  0]\n",
      " [ 0 60  0 30  0 25 20  0  0]\n",
      " [ 0  0  0 75 25  0 85 40  0]\n",
      " [ 0  0 15  0 20 85  0  0  0]\n",
      " [ 0 70  0 35  0 40  0  0  0]\n",
      " [50  5  0  0  0  0  0  0  0]]\n",
      "Vertex 3 has maximum sum of edge weights\n"
     ]
    }
   ],
   "source": [
    "def maximum_edge_weight_with_matrix(graph_01):\n",
    "    maximum = -float('inf')\n",
    "    idx = -1\n",
    "    for index in range(graph_01.no_of_vertex):\n",
    "        weight = graph_01.getWeight(index)\n",
    "        if weight > maximum :\n",
    "            maximum = weight\n",
    "            idx = index\n",
    "    return idx\n",
    "test_case = graph(9, False)\n",
    "\n",
    "test_case.insertEdge(0, 2, 10)\n",
    "test_case.insertEdge(0, 1, 65)\n",
    "test_case.insertEdge(0, 8, 50)\n",
    "test_case.insertEdge(1, 2, 1)\n",
    "test_case.insertEdge(1, 4, 60)\n",
    "test_case.insertEdge(1, 7, 70)\n",
    "test_case.insertEdge(1, 8, 5)\n",
    "test_case.insertEdge(2, 6, 15)\n",
    "test_case.insertEdge(2, 3, 90)\n",
    "test_case.insertEdge(3, 5, 75)\n",
    "test_case.insertEdge(3, 4, 30)\n",
    "test_case.insertEdge(3, 7, 35)\n",
    "test_case.insertEdge(4, 6, 20)\n",
    "test_case.insertEdge(4, 5, 25)\n",
    "test_case.insertEdge(5, 6, 85)\n",
    "test_case.insertEdge(5, 7, 40)\n",
    "\n",
    "print(test_case.adjacency_matrix)\n",
    "print(f\"Vertex {maximum_edge_weight_with_matrix(test_case)} has maximum sum of edge weights\")"
   ]
  },
  {
   "cell_type": "markdown",
   "metadata": {},
   "source": [
    "<h1 align = \"center\">Adjacency List</h1>"
   ]
  },
  {
   "cell_type": "code",
   "execution_count": 7,
   "metadata": {},
   "outputs": [
    {
     "name": "stdout",
     "output_type": "stream",
     "text": [
      "0: -> 8 (W: 50) -> 1 (W: 65) -> 2 (W: 10) \n",
      "1: -> 8 (W: 5) -> 7 (W: 70) -> 4 (W: 60) -> 2 (W: 1) -> 0 (W: 65) \n",
      "2: -> 3 (W: 90) -> 6 (W: 15) -> 1 (W: 1) -> 0 (W: 10) \n",
      "3: -> 7 (W: 35) -> 4 (W: 30) -> 5 (W: 75) -> 2 (W: 90) \n",
      "4: -> 5 (W: 25) -> 6 (W: 20) -> 3 (W: 30) -> 1 (W: 60) \n",
      "5: -> 7 (W: 40) -> 6 (W: 85) -> 4 (W: 25) -> 3 (W: 75) \n",
      "6: -> 5 (W: 85) -> 4 (W: 20) -> 2 (W: 15) \n",
      "7: -> 5 (W: 40) -> 3 (W: 35) -> 1 (W: 70) \n",
      "8: -> 1 (W: 5) -> 0 (W: 50) \n",
      "\n",
      "Sum of edge weights of the vertex 3 is maximum\n"
     ]
    }
   ],
   "source": [
    "def maximum_edge_weight_with_list(graph_01):\n",
    "    sumA = np.full(graph_01.no_of_vertex, 0, dtype=int)\n",
    "    for index in range(graph_01.no_of_vertex):\n",
    "        sum = 0\n",
    "        temp = graph_01.vertex_list[index]\n",
    "        while temp != None :\n",
    "            sum += temp.weight\n",
    "            temp = temp.next\n",
    "        sumA[index] = sum\n",
    "    maximum = -float('inf')\n",
    "    for index in range(sumA.size) :\n",
    "        if sumA[index] > maximum :\n",
    "            maximum = sumA[index]\n",
    "            maxVertex = index\n",
    "    return maxVertex\n",
    "\n",
    "test_case = LinkedList(9, False)\n",
    "\n",
    "test_case.insertEdge(0, 2, 10)\n",
    "test_case.insertEdge(0, 1, 65)\n",
    "test_case.insertEdge(0, 8, 50)\n",
    "test_case.insertEdge(1, 2, 1)\n",
    "test_case.insertEdge(1, 4, 60)\n",
    "test_case.insertEdge(1, 7, 70)\n",
    "test_case.insertEdge(1, 8, 5)\n",
    "test_case.insertEdge(2, 6, 15)\n",
    "test_case.insertEdge(2, 3, 90)\n",
    "test_case.insertEdge(3, 5, 75)\n",
    "test_case.insertEdge(3, 4, 30)\n",
    "test_case.insertEdge(3, 7, 35)\n",
    "test_case.insertEdge(4, 6, 20)\n",
    "test_case.insertEdge(4, 5, 25)\n",
    "test_case.insertEdge(5, 6, 85)\n",
    "test_case.insertEdge(5, 7, 40)\n",
    "\n",
    "test_case.printAdjList()\n",
    "print(f\"\\nSum of edge weights of the vertex {maximum_edge_weight_with_list(test_case)} is maximum\")"
   ]
  },
  {
   "cell_type": "markdown",
   "metadata": {},
   "source": [
    "<h1 align = \"center\">Task 03</h1>"
   ]
  },
  {
   "cell_type": "markdown",
   "metadata": {},
   "source": [
    "<h1 align = \"center\">Graph</h1>"
   ]
  },
  {
   "cell_type": "markdown",
   "metadata": {},
   "source": [
    "![Task 03](https://i.ibb.co.com/nrvvNWs/graph.png)"
   ]
  },
  {
   "cell_type": "markdown",
   "metadata": {},
   "source": [
    "<h1 align = \"center\">Adjacency Matrix</h1>"
   ]
  },
  {
   "cell_type": "code",
   "execution_count": 8,
   "metadata": {},
   "outputs": [
    {
     "name": "stdout",
     "output_type": "stream",
     "text": [
      "[[ 0 65  0  0  0  0  0  0 50]\n",
      " [ 0  0 55  0 60  0  0 70  0]\n",
      " [10  0  0 90  0  0  0  0  0]\n",
      " [ 0  0  0  0  0 75  0 35  0]\n",
      " [ 0  0  0 30  0  0 20  0  0]\n",
      " [ 0  0  0  0 25  0 85 40  0]\n",
      " [ 0  0 15  0  0  0  0  0  0]\n",
      " [ 0  0  0  0  0  0  0  0  0]\n",
      " [ 0 45  0  0  0  0  0  0  0]]\n",
      "The vertex 1 has maximum outdegree and it is 3\n",
      "Sum of outgoing edge weights of the vertex 1 is maximum\n"
     ]
    }
   ],
   "source": [
    "# In case of Directed, edge weighted graph\n",
    "test_case = graph(9, True)\n",
    "\n",
    "test_case.insertEdge(4, 6, 20)\n",
    "test_case.insertEdge(5, 4, 25)\n",
    "test_case.insertEdge(5, 6, 85)\n",
    "test_case.insertEdge(0, 1, 65)\n",
    "test_case.insertEdge(2, 3, 90)\n",
    "test_case.insertEdge(3, 5, 75)\n",
    "test_case.insertEdge(1, 4, 60)\n",
    "test_case.insertEdge(1, 2, 55)\n",
    "test_case.insertEdge(2, 0, 10)\n",
    "test_case.insertEdge(6, 2, 15)\n",
    "test_case.insertEdge(1, 7, 70)\n",
    "test_case.insertEdge(5, 7, 40)\n",
    "test_case.insertEdge(3, 7, 35)\n",
    "test_case.insertEdge(4, 3, 30)\n",
    "test_case.insertEdge(8, 1, 45)\n",
    "test_case.insertEdge(0, 8, 50)\n",
    "\n",
    "print(test_case.adjacency_matrix)\n",
    "\n",
    "maxDeg, maxVertex  = maximum_degree(test_case)\n",
    "print(f\"The vertex {maxVertex} has maximum outdegree and it is {maxDeg}\")\n",
    "print(f\"Sum of outgoing edge weights of the vertex {maximum_edge_weight_with_matrix(test_case)} is maximum\")"
   ]
  },
  {
   "cell_type": "markdown",
   "metadata": {},
   "source": [
    "<h1 align = \"center\">Adjacency List</h1>"
   ]
  },
  {
   "cell_type": "code",
   "execution_count": 9,
   "metadata": {},
   "outputs": [
    {
     "name": "stdout",
     "output_type": "stream",
     "text": [
      "0: -> 8 (W: 50) -> 1 (W: 65) \n",
      "1: -> 7 (W: 70) -> 2 (W: 55) -> 4 (W: 60) \n",
      "2: -> 0 (W: 10) -> 3 (W: 90) \n",
      "3: -> 7 (W: 35) -> 5 (W: 75) \n",
      "4: -> 3 (W: 30) -> 6 (W: 20) \n",
      "5: -> 7 (W: 40) -> 6 (W: 85) -> 4 (W: 25) \n",
      "6: -> 2 (W: 15) \n",
      "7: \n",
      "8: -> 1 (W: 45) \n",
      "The maximum outdegree is 3\n",
      "Sum of outgoing edge weights of the vertex 1 is maximum\n"
     ]
    }
   ],
   "source": [
    "test_case = LinkedList(9, True)\n",
    "\n",
    "test_case.insertEdge(4, 6, 20)\n",
    "test_case.insertEdge(5, 4, 25)\n",
    "test_case.insertEdge(5, 6, 85)\n",
    "test_case.insertEdge(0, 1, 65)\n",
    "test_case.insertEdge(2, 3, 90)\n",
    "test_case.insertEdge(3, 5, 75)\n",
    "test_case.insertEdge(1, 4, 60)\n",
    "test_case.insertEdge(1, 2, 55)\n",
    "test_case.insertEdge(2, 0, 10)\n",
    "test_case.insertEdge(6, 2, 15)\n",
    "test_case.insertEdge(1, 7, 70)\n",
    "test_case.insertEdge(5, 7, 40)\n",
    "test_case.insertEdge(3, 7, 35)\n",
    "test_case.insertEdge(4, 3, 30)\n",
    "test_case.insertEdge(8, 1, 45)\n",
    "test_case.insertEdge(0, 8, 50)\n",
    "test_case.printAdjList()\n",
    "maxDeg, maxVertex  = maximum_degree(test_case)\n",
    "print(f\"The maximum outdegree is {maxDeg}\")\n",
    "print(f\"Sum of outgoing edge weights of the vertex {maximum_edge_weight_with_list(test_case)} is maximum\")"
   ]
  },
  {
   "cell_type": "markdown",
   "metadata": {},
   "source": [
    "<h1 align = \"center\">Task 04\n",
    "</h1>"
   ]
  },
  {
   "cell_type": "markdown",
   "metadata": {},
   "source": [
    "<h1 align = \"center\">Graph</h1>"
   ]
  },
  {
   "cell_type": "markdown",
   "metadata": {},
   "source": [
    "![Task 04](https://i.ibb.co.com/bKWtGfx/graph-2.png)"
   ]
  },
  {
   "cell_type": "markdown",
   "metadata": {},
   "source": [
    "<h1 align = \"center\">Adjacency Matrix</h1>"
   ]
  },
  {
   "cell_type": "code",
   "execution_count": 12,
   "metadata": {},
   "outputs": [
    {
     "name": "stdout",
     "output_type": "stream",
     "text": [
      "Directed weighted graph:\n",
      "[[ 0 65  0  0  0  0  0  0 50]\n",
      " [ 0  0 55  0 60  0  0 70  0]\n",
      " [10  0  0 90  0  0  0  0  0]\n",
      " [ 0  0  0  0  0 75  0 35  0]\n",
      " [ 0  0  0 30  0  0 20  0  0]\n",
      " [ 0  0  0  0 25  0 85 40  0]\n",
      " [ 0  0 15  0  0  0  0  0  0]\n",
      " [ 0  0  0  0  0  0  0  0  0]\n",
      " [ 0 45  0  0  0  0  0  0  0]]\n",
      "\n",
      "Converted undirected weighted graph:\n",
      "[[ 0 65 10  0  0  0  0  0 50]\n",
      " [65  0 55  0 60  0  0 70 45]\n",
      " [10 55  0 90  0  0 15  0  0]\n",
      " [ 0  0 90  0 30 75  0 35  0]\n",
      " [ 0 60  0 30  0 25 20  0  0]\n",
      " [ 0  0  0 75 25  0 85 40  0]\n",
      " [ 0  0 15  0 20 85  0  0  0]\n",
      " [ 0 70  0 35  0 40  0  0  0]\n",
      " [50 45  0  0  0  0  0  0  0]]\n"
     ]
    }
   ],
   "source": [
    "def directed_to_undirected(graph_01):\n",
    "    for index in range(graph_01.no_of_vertex):\n",
    "        for index1 in range(graph_01.no_of_vertex) :\n",
    "            if graph_01.adjacency_matrix[index][index1] != 0:\n",
    "                graph_01.adjacency_matrix[index1][index] = graph_01.adjacency_matrix[index][index1]\n",
    "    return graph_01\n",
    "# Driver Code 4.1\n",
    "test_case = graph(9, True)\n",
    "\n",
    "test_case.insertEdge(4, 6, 20)\n",
    "test_case.insertEdge(5, 4, 25)\n",
    "test_case.insertEdge(5, 6, 85)\n",
    "test_case.insertEdge(0, 1, 65)\n",
    "test_case.insertEdge(2, 3, 90)\n",
    "test_case.insertEdge(3, 5, 75)\n",
    "test_case.insertEdge(1, 4, 60)\n",
    "test_case.insertEdge(1, 2, 55)\n",
    "test_case.insertEdge(2, 0, 10)\n",
    "test_case.insertEdge(6, 2, 15)\n",
    "test_case.insertEdge(1, 7, 70)\n",
    "test_case.insertEdge(5, 7, 40)\n",
    "test_case.insertEdge(3, 7, 35)\n",
    "test_case.insertEdge(4, 3, 30)\n",
    "test_case.insertEdge(8, 1, 45)\n",
    "test_case.insertEdge(0, 8, 50)\n",
    "\n",
    "print(\"Directed weighted graph:\")\n",
    "print(test_case.adjacency_matrix)\n",
    "directed_to_undirected(test_case)\n",
    "print(\"\\nConverted undirected weighted graph:\")\n",
    "print(test_case.adjacency_matrix)"
   ]
  },
  {
   "cell_type": "code",
   "execution_count": 13,
   "metadata": {},
   "outputs": [
    {
     "name": "stdout",
     "output_type": "stream",
     "text": [
      "Directed weighted graph:\n",
      "0: -> 8 (W: 50) -> 1 (W: 65) \n",
      "1: -> 7 (W: 70) -> 2 (W: 55) -> 4 (W: 60) \n",
      "2: -> 0 (W: 10) -> 3 (W: 90) \n",
      "3: -> 7 (W: 35) -> 5 (W: 75) \n",
      "4: -> 3 (W: 30) -> 6 (W: 20) \n",
      "5: -> 7 (W: 40) -> 6 (W: 85) -> 4 (W: 25) \n",
      "6: -> 2 (W: 15) \n",
      "7: \n",
      "8: -> 1 (W: 45) \n",
      "\n",
      "Converted undirected weighted graph:\n",
      "0: -> 2 (W: 10) -> 8 (W: 50) -> 1 (W: 65) \n",
      "1: -> 8 (W: 45) -> 0 (W: 65) -> 7 (W: 70) -> 2 (W: 55) -> 4 (W: 60) \n",
      "2: -> 6 (W: 15) -> 1 (W: 55) -> 0 (W: 10) -> 3 (W: 90) \n",
      "3: -> 4 (W: 30) -> 2 (W: 90) -> 7 (W: 35) -> 5 (W: 75) \n",
      "4: -> 5 (W: 25) -> 1 (W: 60) -> 3 (W: 30) -> 6 (W: 20) \n",
      "5: -> 3 (W: 75) -> 7 (W: 40) -> 6 (W: 85) -> 4 (W: 25) \n",
      "6: -> 5 (W: 85) -> 4 (W: 20) -> 2 (W: 15) \n",
      "7: -> 5 (W: 40) -> 3 (W: 35) -> 1 (W: 70) \n",
      "8: -> 0 (W: 50) -> 1 (W: 45) \n"
     ]
    }
   ],
   "source": [
    "def directed_to_undirected(graph_01): \n",
    "    for index in range(graph_01.no_of_vertex) :\n",
    "        temp = graph_01.vertex_list[index]\n",
    "        while temp != None :\n",
    "            graph_01.insertEdge(temp.destination, temp.source, temp.weight)\n",
    "            temp = temp.next\n",
    "test_case = LinkedList(9, True)\n",
    "\n",
    "test_case.insertEdge(4, 6, 20)\n",
    "test_case.insertEdge(5, 4, 25)\n",
    "test_case.insertEdge(5, 6, 85)\n",
    "test_case.insertEdge(0, 1, 65)\n",
    "test_case.insertEdge(2, 3, 90)\n",
    "test_case.insertEdge(3, 5, 75)\n",
    "test_case.insertEdge(1, 4, 60)\n",
    "test_case.insertEdge(1, 2, 55)\n",
    "test_case.insertEdge(2, 0, 10)\n",
    "test_case.insertEdge(6, 2, 15)\n",
    "test_case.insertEdge(1, 7, 70)\n",
    "test_case.insertEdge(5, 7, 40)\n",
    "test_case.insertEdge(3, 7, 35)\n",
    "test_case.insertEdge(4, 3, 30)\n",
    "test_case.insertEdge(8, 1, 45)\n",
    "test_case.insertEdge(0, 8, 50)\n",
    "\n",
    "print(\"Directed weighted graph:\")\n",
    "test_case.printAdjList()\n",
    "directed_to_undirected(test_case)\n",
    "print(\"\\nConverted undirected weighted graph:\")\n",
    "test_case.printAdjList()"
   ]
  }
 ],
 "metadata": {
  "kernelspec": {
   "display_name": "Python 3",
   "language": "python",
   "name": "python3"
  },
  "language_info": {
   "codemirror_mode": {
    "name": "ipython",
    "version": 3
   },
   "file_extension": ".py",
   "mimetype": "text/x-python",
   "name": "python",
   "nbconvert_exporter": "python",
   "pygments_lexer": "ipython3",
   "version": "3.12.8"
  }
 },
 "nbformat": 4,
 "nbformat_minor": 2
}
