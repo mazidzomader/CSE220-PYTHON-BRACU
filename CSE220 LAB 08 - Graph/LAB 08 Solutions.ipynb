{
 "cells": [
  {
   "cell_type": "code",
   "execution_count": 6,
   "metadata": {},
   "outputs": [
    {
     "name": "stdout",
     "output_type": "stream",
     "text": [
      "Defaulting to user installation because normal site-packages is not writeable\n",
      "Requirement already satisfied: numpy in c:\\users\\mazid zomader\\appdata\\local\\packages\\pythonsoftwarefoundation.python.3.12_qbz5n2kfra8p0\\localcache\\local-packages\\python312\\site-packages (2.1.2)\n"
     ]
    }
   ],
   "source": [
    "! pip install numpy\n",
    "import numpy as np"
   ]
  },
  {
   "cell_type": "markdown",
   "metadata": {},
   "source": [
    "<h1 align = \"center\"><b>Task 01</b></h1>"
   ]
  },
  {
   "cell_type": "code",
   "execution_count": 2,
   "metadata": {},
   "outputs": [],
   "source": [
    "class Node:\n",
    "    def __init__(self, elem) :\n",
    "        self.elem = elem\n",
    "        self.next = []\n",
    "def print_matrix(m):\n",
    "  row,col = m.shape\n",
    "  for i in range(row):\n",
    "    c = 1\n",
    "    print('|', end='')\n",
    "    for j in range(col):\n",
    "      c += 1\n",
    "      if(len(str(m[i][j])) == 1):\n",
    "        print(' ',m[i][j], end = '  |')\n",
    "        c += 6\n",
    "      else:\n",
    "        print(' ',m[i][j], end = ' |')\n",
    "        c += 6\n",
    "    print()\n",
    "    print('-'*(c-col))\n",
    "def print_matrix_1D(m):\n",
    "  row = m.size\n",
    "  print(\"|\", end = \"\")\n",
    "  for i in range(row):\n",
    "    c = 1\n",
    "    if(len(str(m[i])) == 1):\n",
    "      print(' ',m[i], end = '  |')\n",
    "      c += 6\n",
    "    else:\n",
    "      print(' ',m[i], end = ' |')\n",
    "      c += 6\n",
    "  print()\n",
    "  print('-'*(c*row))"
   ]
  },
  {
   "cell_type": "markdown",
   "metadata": {},
   "source": [
    "<h1 align = \"center\">Graph</h1>"
   ]
  },
  {
   "cell_type": "markdown",
   "metadata": {},
   "source": [
    "![Task 01](https://i.ibb.co.com/JmptYq7/Task-01.png)"
   ]
  },
  {
   "cell_type": "markdown",
   "metadata": {},
   "source": [
    "<h1 align = \"center\">Adjacency Matrix</h1>"
   ]
  },
  {
   "cell_type": "code",
   "execution_count": 3,
   "metadata": {},
   "outputs": [
    {
     "name": "stdout",
     "output_type": "stream",
     "text": [
      "===============  ADJACENT MATRIX  ===============\n",
      "\n",
      "|     |  A  |  B  |  C  |  D  |  E  |  F  |  G  |\n",
      "-------------------------------------------------\n",
      "|  A  |  0  |  1  |  0  |  0  |  1  |  0  |  0  |\n",
      "-------------------------------------------------\n",
      "|  B  |  0  |  0  |  1  |  0  |  0  |  1  |  0  |\n",
      "-------------------------------------------------\n",
      "|  C  |  1  |  0  |  0  |  1  |  0  |  0  |  1  |\n",
      "-------------------------------------------------\n",
      "|  D  |  0  |  1  |  0  |  0  |  1  |  0  |  1  |\n",
      "-------------------------------------------------\n",
      "|  E  |  1  |  0  |  1  |  1  |  0  |  0  |  1  |\n",
      "-------------------------------------------------\n",
      "|  F  |  1  |  1  |  1  |  1  |  1  |  0  |  0  |\n",
      "-------------------------------------------------\n",
      "|  G  |  0  |  0  |  0  |  0  |  1  |  1  |  0  |\n",
      "-------------------------------------------------\n",
      "\n",
      " F has the maximum degree, having 5 edges\n"
     ]
    }
   ],
   "source": [
    "def maximum_degree_with_matrix(arr):\n",
    "    max = 0\n",
    "    sum = 0\n",
    "    returning_row = 0\n",
    "    for row in range(arr.shape[0]) : # Row\n",
    "        for column in range(arr.shape[1]): # Column\n",
    "            sum += arr[row][column]\n",
    "        if sum > max :\n",
    "            max = sum\n",
    "            returning_row =  row\n",
    "        sum = 0\n",
    "    return max, returning_row\n",
    "# Adjacency Matrix\n",
    "nodes = np.array([\"A\",\"B\",\"C\",\"D\",\"E\",\"F\",\"G\"])\n",
    "graph = np.array(([0,1,0,0,1,0,0],[0,0,1,0,0,1,0],[1,0,0,1,0,0,1],[0,1,0,0,1,0,1],[1,0,1,1,0,0,1],[1,1,1,1,1,0,0],[0,0,0,0,1,1,0]))\n",
    "print(\"===============  ADJACENT MATRIX  ===============\\n\")\n",
    "print_matrix(np.array(([\" \",\"A\",\"B\",\"C\",\"D\",\"E\",\"F\",\"G\"],[\"A\",0,1,0,0,1,0,0],[\"B\",0,0,1,0,0,1,0],[\"C\",1,0,0,1,0,0,1],[\"D\",0,1,0,0,1,0,1],[\"E\",1,0,1,1,0,0,1],[\"F\",1,1,1,1,1,0,0],[\"G\",0,0,0,0,1,1,0])))\n",
    "x = maximum_degree_with_matrix(graph)\n",
    "print(\"\\n\",nodes[x[1]],\"has the maximum degree, having\",x[0],\"edges\")\n"
   ]
  },
  {
   "cell_type": "markdown",
   "metadata": {},
   "source": [
    "<h1 align = \"center\">Adjacency List</h1>"
   ]
  },
  {
   "cell_type": "code",
   "execution_count": 4,
   "metadata": {},
   "outputs": [],
   "source": [
    "def node_counter(root):\n",
    "    return len(root.next)\n",
    "def node_printer(root):\n",
    "    print(root.elem,end=\" --> \")\n",
    "    for index in range(len(root.next)):\n",
    "        if index == len(root.next)-1:\n",
    "            print(root.next[index].elem)\n",
    "        else :\n",
    "            print(root.next[index].elem, end = \" --> \")"
   ]
  },
  {
   "cell_type": "code",
   "execution_count": 5,
   "metadata": {},
   "outputs": [
    {
     "name": "stdout",
     "output_type": "stream",
     "text": [
      "===============  ADJACENT LIST  ===============\n",
      "\n",
      "A --> B --> E\n",
      "B --> C --> F\n",
      "C --> A --> D --> G\n",
      "D --> B --> E --> G\n",
      "E --> A --> C --> D --> G\n",
      "F --> A --> B --> C --> D --> E\n",
      "G --> E --> F\n",
      "F has the maximum degree, having 5 edges\n"
     ]
    }
   ],
   "source": [
    "def maximum_degree_with_linked_list(arr):\n",
    "    max = 0\n",
    "    idx = -1\n",
    "    for index in range(arr.size):\n",
    "        sum = node_counter(arr[index])\n",
    "        if sum > max :\n",
    "            max = sum\n",
    "            idx = index\n",
    "    return max, idx\n",
    "# Driver Code\n",
    "node_array = np.zeros(7, dtype=object)\n",
    "node1 = Node(\"A\")\n",
    "node2 = Node(\"B\")\n",
    "node3 = Node(\"C\")\n",
    "node4 = Node(\"D\")\n",
    "node5 = Node(\"E\")\n",
    "node6 = Node(\"F\")\n",
    "node7 = Node(\"G\")\n",
    "node1.next.append(node2)\n",
    "node1.next.append(node5)\n",
    "node2.next.append(node3)\n",
    "node2.next.append(node6)\n",
    "node3.next.append(node1)\n",
    "node3.next.append(node4)\n",
    "node3.next.append(node7)\n",
    "node4.next.append(node2)\n",
    "node4.next.append(node5)\n",
    "node4.next.append(node7)\n",
    "node5.next.append(node1)\n",
    "node5.next.append(node3)\n",
    "node5.next.append(node4)\n",
    "node5.next.append(node7)\n",
    "node6.next.append(node1)\n",
    "node6.next.append(node2)\n",
    "node6.next.append(node3)\n",
    "node6.next.append(node4)\n",
    "node6.next.append(node5)\n",
    "node7.next.append(node5)\n",
    "node7.next.append(node6)\n",
    "node_array[0]=node1\n",
    "node_array[1]=node2\n",
    "node_array[2]=node3\n",
    "node_array[3]=node4\n",
    "node_array[4]=node5\n",
    "node_array[5]=node6\n",
    "node_array[6]=node7\n",
    "print(\"===============  ADJACENT LIST  ===============\\n\")\n",
    "for index in range(node_array.size) :\n",
    "    node_printer(node_array[index])\n",
    "x = maximum_degree_with_linked_list(node_array)\n",
    "print(node_array[x[1]].elem,\"has the maximum degree, having\",x[0],\"edges\" )"
   ]
  }
 ],
 "metadata": {
  "kernelspec": {
   "display_name": "Python 3",
   "language": "python",
   "name": "python3"
  },
  "language_info": {
   "codemirror_mode": {
    "name": "ipython",
    "version": 3
   },
   "file_extension": ".py",
   "mimetype": "text/x-python",
   "name": "python",
   "nbconvert_exporter": "python",
   "pygments_lexer": "ipython3",
   "version": "3.12.8"
  }
 },
 "nbformat": 4,
 "nbformat_minor": 2
}
